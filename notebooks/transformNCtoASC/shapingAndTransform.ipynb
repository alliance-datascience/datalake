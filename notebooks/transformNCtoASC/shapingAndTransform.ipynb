{
 "cells": [
  {
   "cell_type": "code",
   "execution_count": 1,
   "id": "75793010-4da4-44c5-ba9c-2d2c26def9c0",
   "metadata": {
    "tags": []
   },
   "outputs": [],
   "source": [
    "%%capture\n",
    "!pip install xarray rioxarray geopandas regionmask  dask netCDF4 bottleneck swifter"
   ]
  },
  {
   "cell_type": "code",
   "execution_count": 2,
   "id": "1508d5a1-0830-490d-b8c2-afa8987d5253",
   "metadata": {
    "tags": []
   },
   "outputs": [
    {
     "name": "stdout",
     "output_type": "stream",
     "text": [
      "Requirement already satisfied: netCDF4 in /home/ec2-user/anaconda3/envs/python3/lib/python3.10/site-packages (1.6.5)\n",
      "Requirement already satisfied: cftime in /home/ec2-user/anaconda3/envs/python3/lib/python3.10/site-packages (from netCDF4) (1.6.3)\n",
      "Requirement already satisfied: certifi in /home/ec2-user/anaconda3/envs/python3/lib/python3.10/site-packages (from netCDF4) (2023.7.22)\n",
      "Requirement already satisfied: numpy in /home/ec2-user/anaconda3/envs/python3/lib/python3.10/site-packages (from netCDF4) (1.26.4)\n"
     ]
    }
   ],
   "source": [
    "! pip install netCDF4"
   ]
  },
  {
   "cell_type": "code",
   "execution_count": 3,
   "id": "6d4cc1c8-d41a-4b52-87cf-cddb99b7ea83",
   "metadata": {
    "tags": []
   },
   "outputs": [
    {
     "name": "stderr",
     "output_type": "stream",
     "text": [
      "/home/ec2-user/anaconda3/envs/python3/lib/python3.10/site-packages/pandas/core/computation/expressions.py:21: UserWarning: Pandas requires version '2.8.0' or newer of 'numexpr' (version '2.7.3' currently installed).\n",
      "  from pandas.core.computation.check import NUMEXPR_INSTALLED\n"
     ]
    }
   ],
   "source": [
    "import xarray as xr\n",
    "import rioxarray as rx\n",
    "import regionmask\n",
    "import geopandas as gpd\n",
    "import numpy as np\n",
    "import matplotlib.pyplot as plt\n",
    "import os\n",
    "import pandas as pd\n",
    "import dask.dataframe as dd\n",
    "import swifter\n",
    "import ast"
   ]
  },
  {
   "cell_type": "code",
   "execution_count": 4,
   "id": "7d84caef-32b8-47fa-9f1e-064a068b7e19",
   "metadata": {
    "tags": []
   },
   "outputs": [],
   "source": [
    "\"\"\"\n",
    " ,'data/futureScenarios/temperature/'\n",
    "                   ,'data/historical/'\n",
    "\"\"\"\n",
    "africaShapeFile = 'data/Africa/Africa_Boundaries.shp'\n",
    "netcdfFilesArray = ['data/futureScenarios/rainfall/']\n",
    "latitude=slice(39,-47) \n",
    "longitud=slice(-25, 57)\n",
    "outputFolder = 'data/continent=AFRICA/netcdf/'"
   ]
  },
  {
   "cell_type": "code",
   "execution_count": 5,
   "id": "505316b7-d6b1-4452-9a15-55a04d9c74c2",
   "metadata": {
    "tags": []
   },
   "outputs": [],
   "source": [
    "def saveData(parameters):\n",
    "    parameters = ast.literal_eval(parameters)\n",
    "    path = parameters['path']\n",
    "    file = parameters['file']\n",
    "    data = xr.open_dataset(path+file)\n",
    "    timeArray = data.time.values\n",
    "    for dates in timeArray:\n",
    "        dateString = (pd.to_datetime(str(dates))).strftime('%Y-%m-%d')\n",
    "        filteredData = data.sel(lat=latitude, lon=longitud\n",
    "                                ,time= dateString)\n",
    "        filteredData.to_netcdf(outputFolder+file.replace('.nc','')+dateString+'.nc')\n"
   ]
  },
  {
   "cell_type": "code",
   "execution_count": 6,
   "id": "5ad15870-3a1e-4909-a9cd-dba7adfd87ec",
   "metadata": {
    "tags": []
   },
   "outputs": [],
   "source": [
    "fileToGenerate = pd.DataFrame()\n",
    "for path in netcdfFilesArray:\n",
    "    fileArray = os.listdir(path)\n",
    "    for file in fileArray:\n",
    "        _schema = {'path':path\n",
    "                   ,'file':file\n",
    "                   ,'data':str({'path':path\n",
    "                       ,'file':file})\n",
    "                  }\n",
    "        fileToGenerate = pd.concat([fileToGenerate,pd.DataFrame(_schema,index=[0])])\n",
    "            #filteredData = data.sel(lat=latitude, lon=longitud,time= dateString)\n",
    "            #filteredData.to_netcdf(outputFolder+file.replace('.nc','')+dateString+'.nc')"
   ]
  },
  {
   "cell_type": "code",
   "execution_count": 7,
   "id": "8d98ade0-87e4-4e1e-b896-250a842c6627",
   "metadata": {
    "tags": []
   },
   "outputs": [
    {
     "data": {
      "text/html": [
       "<div>\n",
       "<style scoped>\n",
       "    .dataframe tbody tr th:only-of-type {\n",
       "        vertical-align: middle;\n",
       "    }\n",
       "\n",
       "    .dataframe tbody tr th {\n",
       "        vertical-align: top;\n",
       "    }\n",
       "\n",
       "    .dataframe thead th {\n",
       "        text-align: right;\n",
       "    }\n",
       "</style>\n",
       "<table border=\"1\" class=\"dataframe\">\n",
       "  <thead>\n",
       "    <tr style=\"text-align: right;\">\n",
       "      <th></th>\n",
       "      <th>path</th>\n",
       "      <th>file</th>\n",
       "      <th>data</th>\n",
       "    </tr>\n",
       "  </thead>\n",
       "  <tbody>\n",
       "    <tr>\n",
       "      <th>0</th>\n",
       "      <td>data/futureScenarios/rainfall/</td>\n",
       "      <td>Prec_EC-Earth3_ssp370_2021_2040.nc</td>\n",
       "      <td>{'path': 'data/futureScenarios/rainfall/', 'fi...</td>\n",
       "    </tr>\n",
       "    <tr>\n",
       "      <th>0</th>\n",
       "      <td>data/futureScenarios/rainfall/</td>\n",
       "      <td>Prec_INM-CM5-0_ssp245_2041_2060.nc</td>\n",
       "      <td>{'path': 'data/futureScenarios/rainfall/', 'fi...</td>\n",
       "    </tr>\n",
       "    <tr>\n",
       "      <th>0</th>\n",
       "      <td>data/futureScenarios/rainfall/</td>\n",
       "      <td>Prec_INM-CM5-0_ssp585_2021_2040.nc</td>\n",
       "      <td>{'path': 'data/futureScenarios/rainfall/', 'fi...</td>\n",
       "    </tr>\n",
       "    <tr>\n",
       "      <th>0</th>\n",
       "      <td>data/futureScenarios/rainfall/</td>\n",
       "      <td>Prec_MRI-ESM2-0_ssp126_2041_2060.nc</td>\n",
       "      <td>{'path': 'data/futureScenarios/rainfall/', 'fi...</td>\n",
       "    </tr>\n",
       "    <tr>\n",
       "      <th>0</th>\n",
       "      <td>data/futureScenarios/rainfall/</td>\n",
       "      <td>Prec_ACCESS-ESM1-5_ssp585_2041_2060.nc</td>\n",
       "      <td>{'path': 'data/futureScenarios/rainfall/', 'fi...</td>\n",
       "    </tr>\n",
       "    <tr>\n",
       "      <th>0</th>\n",
       "      <td>data/futureScenarios/rainfall/</td>\n",
       "      <td>Prec_MRI-ESM2-0_ssp370_2041_2060.nc</td>\n",
       "      <td>{'path': 'data/futureScenarios/rainfall/', 'fi...</td>\n",
       "    </tr>\n",
       "    <tr>\n",
       "      <th>0</th>\n",
       "      <td>data/futureScenarios/rainfall/</td>\n",
       "      <td>Prec_ACCESS-ESM1-5_ssp126_2021_2040.nc</td>\n",
       "      <td>{'path': 'data/futureScenarios/rainfall/', 'fi...</td>\n",
       "    </tr>\n",
       "    <tr>\n",
       "      <th>0</th>\n",
       "      <td>data/futureScenarios/rainfall/</td>\n",
       "      <td>Prec_EC-Earth3_ssp370_2041_2060.nc</td>\n",
       "      <td>{'path': 'data/futureScenarios/rainfall/', 'fi...</td>\n",
       "    </tr>\n",
       "    <tr>\n",
       "      <th>0</th>\n",
       "      <td>data/futureScenarios/rainfall/</td>\n",
       "      <td>Prec_MRI-ESM2-0_ssp126_2021_2040.nc</td>\n",
       "      <td>{'path': 'data/futureScenarios/rainfall/', 'fi...</td>\n",
       "    </tr>\n",
       "    <tr>\n",
       "      <th>0</th>\n",
       "      <td>data/futureScenarios/rainfall/</td>\n",
       "      <td>Prec_MPI-ESM1-2-HR_ssp585_2041_2060.nc</td>\n",
       "      <td>{'path': 'data/futureScenarios/rainfall/', 'fi...</td>\n",
       "    </tr>\n",
       "    <tr>\n",
       "      <th>0</th>\n",
       "      <td>data/futureScenarios/rainfall/</td>\n",
       "      <td>Prec_MPI-ESM1-2-HR_ssp126_2041_2060.nc</td>\n",
       "      <td>{'path': 'data/futureScenarios/rainfall/', 'fi...</td>\n",
       "    </tr>\n",
       "    <tr>\n",
       "      <th>0</th>\n",
       "      <td>data/futureScenarios/rainfall/</td>\n",
       "      <td>Prec_INM-CM5-0_ssp245_2021_2040.nc</td>\n",
       "      <td>{'path': 'data/futureScenarios/rainfall/', 'fi...</td>\n",
       "    </tr>\n",
       "    <tr>\n",
       "      <th>0</th>\n",
       "      <td>data/futureScenarios/rainfall/</td>\n",
       "      <td>Prec_MRI-ESM2-0_ssp585_2041_2060.nc</td>\n",
       "      <td>{'path': 'data/futureScenarios/rainfall/', 'fi...</td>\n",
       "    </tr>\n",
       "    <tr>\n",
       "      <th>0</th>\n",
       "      <td>data/futureScenarios/rainfall/</td>\n",
       "      <td>Prec_ACCESS-ESM1-5_ssp245_2041_2060.nc</td>\n",
       "      <td>{'path': 'data/futureScenarios/rainfall/', 'fi...</td>\n",
       "    </tr>\n",
       "    <tr>\n",
       "      <th>0</th>\n",
       "      <td>data/futureScenarios/rainfall/</td>\n",
       "      <td>Prec_MPI-ESM1-2-HR_ssp245_2021_2040.nc</td>\n",
       "      <td>{'path': 'data/futureScenarios/rainfall/', 'fi...</td>\n",
       "    </tr>\n",
       "    <tr>\n",
       "      <th>0</th>\n",
       "      <td>data/futureScenarios/rainfall/</td>\n",
       "      <td>Prec_MRI-ESM2-0_ssp245_2041_2060.nc</td>\n",
       "      <td>{'path': 'data/futureScenarios/rainfall/', 'fi...</td>\n",
       "    </tr>\n",
       "    <tr>\n",
       "      <th>0</th>\n",
       "      <td>data/futureScenarios/rainfall/</td>\n",
       "      <td>Prec_MPI-ESM1-2-HR_ssp370_2021_2040.nc</td>\n",
       "      <td>{'path': 'data/futureScenarios/rainfall/', 'fi...</td>\n",
       "    </tr>\n",
       "    <tr>\n",
       "      <th>0</th>\n",
       "      <td>data/futureScenarios/rainfall/</td>\n",
       "      <td>Prec_EC-Earth3_ssp585_2041_2060.nc</td>\n",
       "      <td>{'path': 'data/futureScenarios/rainfall/', 'fi...</td>\n",
       "    </tr>\n",
       "    <tr>\n",
       "      <th>0</th>\n",
       "      <td>data/futureScenarios/rainfall/</td>\n",
       "      <td>Prec_MRI-ESM2-0_ssp370_2021_2040.nc</td>\n",
       "      <td>{'path': 'data/futureScenarios/rainfall/', 'fi...</td>\n",
       "    </tr>\n",
       "    <tr>\n",
       "      <th>0</th>\n",
       "      <td>data/futureScenarios/rainfall/</td>\n",
       "      <td>Prec_INM-CM5-0_ssp585_2041_2060.nc</td>\n",
       "      <td>{'path': 'data/futureScenarios/rainfall/', 'fi...</td>\n",
       "    </tr>\n",
       "    <tr>\n",
       "      <th>0</th>\n",
       "      <td>data/futureScenarios/rainfall/</td>\n",
       "      <td>Prec_INM-CM5-0_ssp370_2021_2040.nc</td>\n",
       "      <td>{'path': 'data/futureScenarios/rainfall/', 'fi...</td>\n",
       "    </tr>\n",
       "    <tr>\n",
       "      <th>0</th>\n",
       "      <td>data/futureScenarios/rainfall/</td>\n",
       "      <td>Prec_ACCESS-ESM1-5_ssp585_2021_2040.nc</td>\n",
       "      <td>{'path': 'data/futureScenarios/rainfall/', 'fi...</td>\n",
       "    </tr>\n",
       "    <tr>\n",
       "      <th>0</th>\n",
       "      <td>data/futureScenarios/rainfall/</td>\n",
       "      <td>Prec_ACCESS-ESM1-5_ssp370_2041_2060.nc</td>\n",
       "      <td>{'path': 'data/futureScenarios/rainfall/', 'fi...</td>\n",
       "    </tr>\n",
       "    <tr>\n",
       "      <th>0</th>\n",
       "      <td>data/futureScenarios/rainfall/</td>\n",
       "      <td>Prec_INM-CM5-0_ssp370_2041_2060.nc</td>\n",
       "      <td>{'path': 'data/futureScenarios/rainfall/', 'fi...</td>\n",
       "    </tr>\n",
       "    <tr>\n",
       "      <th>0</th>\n",
       "      <td>data/futureScenarios/rainfall/</td>\n",
       "      <td>Prec_MPI-ESM1-2-HR_ssp585_2021_2040.nc</td>\n",
       "      <td>{'path': 'data/futureScenarios/rainfall/', 'fi...</td>\n",
       "    </tr>\n",
       "    <tr>\n",
       "      <th>0</th>\n",
       "      <td>data/futureScenarios/rainfall/</td>\n",
       "      <td>Prec_ACCESS-ESM1-5_ssp370_2021_2040.nc</td>\n",
       "      <td>{'path': 'data/futureScenarios/rainfall/', 'fi...</td>\n",
       "    </tr>\n",
       "    <tr>\n",
       "      <th>0</th>\n",
       "      <td>data/futureScenarios/rainfall/</td>\n",
       "      <td>Prec_MPI-ESM1-2-HR_ssp126_2021_2040.nc</td>\n",
       "      <td>{'path': 'data/futureScenarios/rainfall/', 'fi...</td>\n",
       "    </tr>\n",
       "    <tr>\n",
       "      <th>0</th>\n",
       "      <td>data/futureScenarios/rainfall/</td>\n",
       "      <td>Prec_MPI-ESM1-2-HR_ssp370_2041_2060.nc</td>\n",
       "      <td>{'path': 'data/futureScenarios/rainfall/', 'fi...</td>\n",
       "    </tr>\n",
       "    <tr>\n",
       "      <th>0</th>\n",
       "      <td>data/futureScenarios/rainfall/</td>\n",
       "      <td>Prec_MPI-ESM1-2-HR_ssp245_2041_2060.nc</td>\n",
       "      <td>{'path': 'data/futureScenarios/rainfall/', 'fi...</td>\n",
       "    </tr>\n",
       "    <tr>\n",
       "      <th>0</th>\n",
       "      <td>data/futureScenarios/rainfall/</td>\n",
       "      <td>Prec_EC-Earth3_ssp126_2041_2060.nc</td>\n",
       "      <td>{'path': 'data/futureScenarios/rainfall/', 'fi...</td>\n",
       "    </tr>\n",
       "    <tr>\n",
       "      <th>0</th>\n",
       "      <td>data/futureScenarios/rainfall/</td>\n",
       "      <td>Prec_INM-CM5-0_ssp126_2021_2040.nc</td>\n",
       "      <td>{'path': 'data/futureScenarios/rainfall/', 'fi...</td>\n",
       "    </tr>\n",
       "    <tr>\n",
       "      <th>0</th>\n",
       "      <td>data/futureScenarios/rainfall/</td>\n",
       "      <td>Prec_ACCESS-ESM1-5_ssp126_2041_2060.nc</td>\n",
       "      <td>{'path': 'data/futureScenarios/rainfall/', 'fi...</td>\n",
       "    </tr>\n",
       "    <tr>\n",
       "      <th>0</th>\n",
       "      <td>data/futureScenarios/rainfall/</td>\n",
       "      <td>Prec_EC-Earth3_ssp126_2021_2040.nc</td>\n",
       "      <td>{'path': 'data/futureScenarios/rainfall/', 'fi...</td>\n",
       "    </tr>\n",
       "    <tr>\n",
       "      <th>0</th>\n",
       "      <td>data/futureScenarios/rainfall/</td>\n",
       "      <td>Prec_ACCESS-ESM1-5_ssp245_2021_2040.nc</td>\n",
       "      <td>{'path': 'data/futureScenarios/rainfall/', 'fi...</td>\n",
       "    </tr>\n",
       "    <tr>\n",
       "      <th>0</th>\n",
       "      <td>data/futureScenarios/rainfall/</td>\n",
       "      <td>Prec_INM-CM5-0_ssp126_2041_2060.nc</td>\n",
       "      <td>{'path': 'data/futureScenarios/rainfall/', 'fi...</td>\n",
       "    </tr>\n",
       "  </tbody>\n",
       "</table>\n",
       "</div>"
      ],
      "text/plain": [
       "                             path                                    file  \\\n",
       "0  data/futureScenarios/rainfall/      Prec_EC-Earth3_ssp370_2021_2040.nc   \n",
       "0  data/futureScenarios/rainfall/      Prec_INM-CM5-0_ssp245_2041_2060.nc   \n",
       "0  data/futureScenarios/rainfall/      Prec_INM-CM5-0_ssp585_2021_2040.nc   \n",
       "0  data/futureScenarios/rainfall/     Prec_MRI-ESM2-0_ssp126_2041_2060.nc   \n",
       "0  data/futureScenarios/rainfall/  Prec_ACCESS-ESM1-5_ssp585_2041_2060.nc   \n",
       "0  data/futureScenarios/rainfall/     Prec_MRI-ESM2-0_ssp370_2041_2060.nc   \n",
       "0  data/futureScenarios/rainfall/  Prec_ACCESS-ESM1-5_ssp126_2021_2040.nc   \n",
       "0  data/futureScenarios/rainfall/      Prec_EC-Earth3_ssp370_2041_2060.nc   \n",
       "0  data/futureScenarios/rainfall/     Prec_MRI-ESM2-0_ssp126_2021_2040.nc   \n",
       "0  data/futureScenarios/rainfall/  Prec_MPI-ESM1-2-HR_ssp585_2041_2060.nc   \n",
       "0  data/futureScenarios/rainfall/  Prec_MPI-ESM1-2-HR_ssp126_2041_2060.nc   \n",
       "0  data/futureScenarios/rainfall/      Prec_INM-CM5-0_ssp245_2021_2040.nc   \n",
       "0  data/futureScenarios/rainfall/     Prec_MRI-ESM2-0_ssp585_2041_2060.nc   \n",
       "0  data/futureScenarios/rainfall/  Prec_ACCESS-ESM1-5_ssp245_2041_2060.nc   \n",
       "0  data/futureScenarios/rainfall/  Prec_MPI-ESM1-2-HR_ssp245_2021_2040.nc   \n",
       "0  data/futureScenarios/rainfall/     Prec_MRI-ESM2-0_ssp245_2041_2060.nc   \n",
       "0  data/futureScenarios/rainfall/  Prec_MPI-ESM1-2-HR_ssp370_2021_2040.nc   \n",
       "0  data/futureScenarios/rainfall/      Prec_EC-Earth3_ssp585_2041_2060.nc   \n",
       "0  data/futureScenarios/rainfall/     Prec_MRI-ESM2-0_ssp370_2021_2040.nc   \n",
       "0  data/futureScenarios/rainfall/      Prec_INM-CM5-0_ssp585_2041_2060.nc   \n",
       "0  data/futureScenarios/rainfall/      Prec_INM-CM5-0_ssp370_2021_2040.nc   \n",
       "0  data/futureScenarios/rainfall/  Prec_ACCESS-ESM1-5_ssp585_2021_2040.nc   \n",
       "0  data/futureScenarios/rainfall/  Prec_ACCESS-ESM1-5_ssp370_2041_2060.nc   \n",
       "0  data/futureScenarios/rainfall/      Prec_INM-CM5-0_ssp370_2041_2060.nc   \n",
       "0  data/futureScenarios/rainfall/  Prec_MPI-ESM1-2-HR_ssp585_2021_2040.nc   \n",
       "0  data/futureScenarios/rainfall/  Prec_ACCESS-ESM1-5_ssp370_2021_2040.nc   \n",
       "0  data/futureScenarios/rainfall/  Prec_MPI-ESM1-2-HR_ssp126_2021_2040.nc   \n",
       "0  data/futureScenarios/rainfall/  Prec_MPI-ESM1-2-HR_ssp370_2041_2060.nc   \n",
       "0  data/futureScenarios/rainfall/  Prec_MPI-ESM1-2-HR_ssp245_2041_2060.nc   \n",
       "0  data/futureScenarios/rainfall/      Prec_EC-Earth3_ssp126_2041_2060.nc   \n",
       "0  data/futureScenarios/rainfall/      Prec_INM-CM5-0_ssp126_2021_2040.nc   \n",
       "0  data/futureScenarios/rainfall/  Prec_ACCESS-ESM1-5_ssp126_2041_2060.nc   \n",
       "0  data/futureScenarios/rainfall/      Prec_EC-Earth3_ssp126_2021_2040.nc   \n",
       "0  data/futureScenarios/rainfall/  Prec_ACCESS-ESM1-5_ssp245_2021_2040.nc   \n",
       "0  data/futureScenarios/rainfall/      Prec_INM-CM5-0_ssp126_2041_2060.nc   \n",
       "\n",
       "                                                data  \n",
       "0  {'path': 'data/futureScenarios/rainfall/', 'fi...  \n",
       "0  {'path': 'data/futureScenarios/rainfall/', 'fi...  \n",
       "0  {'path': 'data/futureScenarios/rainfall/', 'fi...  \n",
       "0  {'path': 'data/futureScenarios/rainfall/', 'fi...  \n",
       "0  {'path': 'data/futureScenarios/rainfall/', 'fi...  \n",
       "0  {'path': 'data/futureScenarios/rainfall/', 'fi...  \n",
       "0  {'path': 'data/futureScenarios/rainfall/', 'fi...  \n",
       "0  {'path': 'data/futureScenarios/rainfall/', 'fi...  \n",
       "0  {'path': 'data/futureScenarios/rainfall/', 'fi...  \n",
       "0  {'path': 'data/futureScenarios/rainfall/', 'fi...  \n",
       "0  {'path': 'data/futureScenarios/rainfall/', 'fi...  \n",
       "0  {'path': 'data/futureScenarios/rainfall/', 'fi...  \n",
       "0  {'path': 'data/futureScenarios/rainfall/', 'fi...  \n",
       "0  {'path': 'data/futureScenarios/rainfall/', 'fi...  \n",
       "0  {'path': 'data/futureScenarios/rainfall/', 'fi...  \n",
       "0  {'path': 'data/futureScenarios/rainfall/', 'fi...  \n",
       "0  {'path': 'data/futureScenarios/rainfall/', 'fi...  \n",
       "0  {'path': 'data/futureScenarios/rainfall/', 'fi...  \n",
       "0  {'path': 'data/futureScenarios/rainfall/', 'fi...  \n",
       "0  {'path': 'data/futureScenarios/rainfall/', 'fi...  \n",
       "0  {'path': 'data/futureScenarios/rainfall/', 'fi...  \n",
       "0  {'path': 'data/futureScenarios/rainfall/', 'fi...  \n",
       "0  {'path': 'data/futureScenarios/rainfall/', 'fi...  \n",
       "0  {'path': 'data/futureScenarios/rainfall/', 'fi...  \n",
       "0  {'path': 'data/futureScenarios/rainfall/', 'fi...  \n",
       "0  {'path': 'data/futureScenarios/rainfall/', 'fi...  \n",
       "0  {'path': 'data/futureScenarios/rainfall/', 'fi...  \n",
       "0  {'path': 'data/futureScenarios/rainfall/', 'fi...  \n",
       "0  {'path': 'data/futureScenarios/rainfall/', 'fi...  \n",
       "0  {'path': 'data/futureScenarios/rainfall/', 'fi...  \n",
       "0  {'path': 'data/futureScenarios/rainfall/', 'fi...  \n",
       "0  {'path': 'data/futureScenarios/rainfall/', 'fi...  \n",
       "0  {'path': 'data/futureScenarios/rainfall/', 'fi...  \n",
       "0  {'path': 'data/futureScenarios/rainfall/', 'fi...  \n",
       "0  {'path': 'data/futureScenarios/rainfall/', 'fi...  "
      ]
     },
     "execution_count": 7,
     "metadata": {},
     "output_type": "execute_result"
    }
   ],
   "source": [
    "fileToGenerate"
   ]
  },
  {
   "cell_type": "code",
   "execution_count": 8,
   "id": "39afb322-98e6-4848-bde1-c8faa3b77bbe",
   "metadata": {
    "tags": []
   },
   "outputs": [],
   "source": [
    "vsaveData = np.vectorize(saveData)"
   ]
  },
  {
   "cell_type": "code",
   "execution_count": 9,
   "id": "afdc762e-4398-479b-af4a-d2564fa2cdbc",
   "metadata": {
    "tags": []
   },
   "outputs": [],
   "source": [
    "#vsaveData(fileToGenerate['path'],fileToGenerate['file']\n",
    "#          ,fileToGenerate['date'],fileToGenerate['outputFile'] )"
   ]
  },
  {
   "cell_type": "code",
   "execution_count": 10,
   "id": "efa28a09-b67f-401d-958c-68ba0bc9d3af",
   "metadata": {
    "tags": []
   },
   "outputs": [],
   "source": [
    "fileToGenerateDask = dd.from_pandas(fileToGenerate,npartitions=10)"
   ]
  },
  {
   "cell_type": "code",
   "execution_count": 11,
   "id": "390a7d6b-3097-413b-8ecf-043407ab2c75",
   "metadata": {
    "tags": []
   },
   "outputs": [],
   "source": [
    "fileToGenerate = fileToGenerate.reset_index()"
   ]
  },
  {
   "cell_type": "code",
   "execution_count": 12,
   "id": "16499337-26cb-4dd2-bc31-626336408fb7",
   "metadata": {
    "tags": []
   },
   "outputs": [
    {
     "data": {
      "text/plain": [
       "Index(['index', 'path', 'file', 'data'], dtype='object')"
      ]
     },
     "execution_count": 12,
     "metadata": {},
     "output_type": "execute_result"
    }
   ],
   "source": [
    "fileToGenerate.columns"
   ]
  },
  {
   "cell_type": "code",
   "execution_count": 13,
   "id": "8e21dde4-d14a-4160-bc8d-f9a5cd0fbc10",
   "metadata": {
    "tags": []
   },
   "outputs": [
    {
     "name": "stderr",
     "output_type": "stream",
     "text": [
      "/home/ec2-user/anaconda3/envs/python3/lib/python3.10/site-packages/pandas/core/computation/expressions.py:21: UserWarning: Pandas requires version '2.8.0' or newer of 'numexpr' (version '2.7.3' currently installed).\n",
      "  from pandas.core.computation.check import NUMEXPR_INSTALLED\n"
     ]
    },
    {
     "data": {
      "text/plain": [
       "0    <NA>\n",
       "0    <NA>\n",
       "0    <NA>\n",
       "0    <NA>\n",
       "0    <NA>\n",
       "0    <NA>\n",
       "0    <NA>\n",
       "0    <NA>\n",
       "0    <NA>\n",
       "0    <NA>\n",
       "0    <NA>\n",
       "0    <NA>\n",
       "0    <NA>\n",
       "0    <NA>\n",
       "0    <NA>\n",
       "0    <NA>\n",
       "0    <NA>\n",
       "0    <NA>\n",
       "0    <NA>\n",
       "0    <NA>\n",
       "0    <NA>\n",
       "0    <NA>\n",
       "0    <NA>\n",
       "0    <NA>\n",
       "0    <NA>\n",
       "0    <NA>\n",
       "0    <NA>\n",
       "0    <NA>\n",
       "0    <NA>\n",
       "0    <NA>\n",
       "0    <NA>\n",
       "0    <NA>\n",
       "0    <NA>\n",
       "0    <NA>\n",
       "0    <NA>\n",
       "Name: name, dtype: string"
      ]
     },
     "execution_count": 13,
     "metadata": {},
     "output_type": "execute_result"
    }
   ],
   "source": [
    "_col = {'name': object}\n",
    "fileToGenerateDask.map_partitions(lambda df: \n",
    "                                  df.data.apply( \n",
    "                                      lambda x: saveData(x)\n",
    "                                       ),meta = _col\n",
    "                                ).compute(scheduler='processes')"
   ]
  },
  {
   "cell_type": "code",
   "execution_count": 14,
   "id": "89151c05-c00a-47b8-b228-87cd3cab74da",
   "metadata": {
    "tags": []
   },
   "outputs": [
    {
     "name": "stdout",
     "output_type": "stream",
     "text": [
      "All was generated\n"
     ]
    }
   ],
   "source": [
    "print('All was generated')"
   ]
  }
 ],
 "metadata": {
  "kernelspec": {
   "display_name": "conda_python3",
   "language": "python",
   "name": "conda_python3"
  },
  "language_info": {
   "codemirror_mode": {
    "name": "ipython",
    "version": 3
   },
   "file_extension": ".py",
   "mimetype": "text/x-python",
   "name": "python",
   "nbconvert_exporter": "python",
   "pygments_lexer": "ipython3",
   "version": "3.10.13"
  }
 },
 "nbformat": 4,
 "nbformat_minor": 5
}
