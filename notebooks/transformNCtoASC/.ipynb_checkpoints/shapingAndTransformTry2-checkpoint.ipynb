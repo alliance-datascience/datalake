{
 "cells": [
  {
   "cell_type": "code",
   "execution_count": 11,
   "id": "75793010-4da4-44c5-ba9c-2d2c26def9c0",
   "metadata": {
    "tags": []
   },
   "outputs": [
    {
     "name": "stdout",
     "output_type": "stream",
     "text": [
      "Requirement already satisfied: rioxarray in /home/ec2-user/anaconda3/envs/python3/lib/python3.10/site-packages (0.15.1)\n",
      "Requirement already satisfied: geopandas in /home/ec2-user/anaconda3/envs/python3/lib/python3.10/site-packages (0.14.3)\n",
      "Requirement already satisfied: regionmask in /home/ec2-user/anaconda3/envs/python3/lib/python3.10/site-packages (0.11.0)\n",
      "Requirement already satisfied: dask in /home/ec2-user/anaconda3/envs/python3/lib/python3.10/site-packages (2023.10.0)\n",
      "Collecting netCDF4\n",
      "  Downloading netCDF4-1.6.5-cp310-cp310-manylinux_2_17_x86_64.manylinux2014_x86_64.whl.metadata (1.8 kB)\n",
      "Requirement already satisfied: bottleneck in /home/ec2-user/anaconda3/envs/python3/lib/python3.10/site-packages (1.3.7)\n",
      "Requirement already satisfied: xarray[all] in /home/ec2-user/anaconda3/envs/python3/lib/python3.10/site-packages (2024.2.0)\n",
      "\u001b[33mWARNING: xarray 2024.2.0 does not provide the extra 'all'\u001b[0m\u001b[33m\n",
      "\u001b[0mRequirement already satisfied: numpy>=1.23 in /home/ec2-user/anaconda3/envs/python3/lib/python3.10/site-packages (from xarray[all]) (1.26.4)\n",
      "Requirement already satisfied: packaging>=22 in /home/ec2-user/anaconda3/envs/python3/lib/python3.10/site-packages (from xarray[all]) (23.2)\n",
      "Requirement already satisfied: pandas>=1.5 in /home/ec2-user/anaconda3/envs/python3/lib/python3.10/site-packages (from xarray[all]) (2.1.1)\n",
      "Requirement already satisfied: rasterio>=1.3 in /home/ec2-user/anaconda3/envs/python3/lib/python3.10/site-packages (from rioxarray) (1.3.9)\n",
      "Requirement already satisfied: pyproj>=3.3 in /home/ec2-user/anaconda3/envs/python3/lib/python3.10/site-packages (from rioxarray) (3.6.1)\n",
      "Requirement already satisfied: fiona>=1.8.21 in /home/ec2-user/anaconda3/envs/python3/lib/python3.10/site-packages (from geopandas) (1.9.5)\n",
      "Requirement already satisfied: shapely>=1.8.0 in /home/ec2-user/anaconda3/envs/python3/lib/python3.10/site-packages (from geopandas) (2.0.3)\n",
      "Requirement already satisfied: pooch>=1.4 in /home/ec2-user/anaconda3/envs/python3/lib/python3.10/site-packages (from regionmask) (1.8.1)\n",
      "Requirement already satisfied: click>=8.0 in /home/ec2-user/anaconda3/envs/python3/lib/python3.10/site-packages (from dask) (8.1.7)\n",
      "Requirement already satisfied: cloudpickle>=1.5.0 in /home/ec2-user/anaconda3/envs/python3/lib/python3.10/site-packages (from dask) (2.2.1)\n",
      "Requirement already satisfied: fsspec>=2021.09.0 in /home/ec2-user/anaconda3/envs/python3/lib/python3.10/site-packages (from dask) (2023.10.0)\n",
      "Requirement already satisfied: partd>=1.2.0 in /home/ec2-user/anaconda3/envs/python3/lib/python3.10/site-packages (from dask) (1.4.1)\n",
      "Requirement already satisfied: pyyaml>=5.3.1 in /home/ec2-user/anaconda3/envs/python3/lib/python3.10/site-packages (from dask) (6.0.1)\n",
      "Requirement already satisfied: toolz>=0.10.0 in /home/ec2-user/anaconda3/envs/python3/lib/python3.10/site-packages (from dask) (0.12.0)\n",
      "Requirement already satisfied: importlib-metadata>=4.13.0 in /home/ec2-user/anaconda3/envs/python3/lib/python3.10/site-packages (from dask) (6.8.0)\n",
      "Collecting cftime (from netCDF4)\n",
      "  Downloading cftime-1.6.3-cp310-cp310-manylinux_2_17_x86_64.manylinux2014_x86_64.whl.metadata (8.6 kB)\n",
      "Requirement already satisfied: certifi in /home/ec2-user/anaconda3/envs/python3/lib/python3.10/site-packages (from netCDF4) (2023.7.22)\n",
      "Requirement already satisfied: attrs>=19.2.0 in /home/ec2-user/anaconda3/envs/python3/lib/python3.10/site-packages (from fiona>=1.8.21->geopandas) (23.1.0)\n",
      "Requirement already satisfied: click-plugins>=1.0 in /home/ec2-user/anaconda3/envs/python3/lib/python3.10/site-packages (from fiona>=1.8.21->geopandas) (1.1.1)\n",
      "Requirement already satisfied: cligj>=0.5 in /home/ec2-user/anaconda3/envs/python3/lib/python3.10/site-packages (from fiona>=1.8.21->geopandas) (0.7.2)\n",
      "Requirement already satisfied: six in /home/ec2-user/anaconda3/envs/python3/lib/python3.10/site-packages (from fiona>=1.8.21->geopandas) (1.16.0)\n",
      "Requirement already satisfied: setuptools in /home/ec2-user/anaconda3/envs/python3/lib/python3.10/site-packages (from fiona>=1.8.21->geopandas) (68.2.2)\n",
      "Requirement already satisfied: zipp>=0.5 in /home/ec2-user/anaconda3/envs/python3/lib/python3.10/site-packages (from importlib-metadata>=4.13.0->dask) (3.17.0)\n",
      "Requirement already satisfied: python-dateutil>=2.8.2 in /home/ec2-user/anaconda3/envs/python3/lib/python3.10/site-packages (from pandas>=1.5->xarray[all]) (2.8.2)\n",
      "Requirement already satisfied: pytz>=2020.1 in /home/ec2-user/anaconda3/envs/python3/lib/python3.10/site-packages (from pandas>=1.5->xarray[all]) (2023.3.post1)\n",
      "Requirement already satisfied: tzdata>=2022.1 in /home/ec2-user/anaconda3/envs/python3/lib/python3.10/site-packages (from pandas>=1.5->xarray[all]) (2023.3)\n",
      "Requirement already satisfied: locket in /home/ec2-user/anaconda3/envs/python3/lib/python3.10/site-packages (from partd>=1.2.0->dask) (1.0.0)\n",
      "Requirement already satisfied: platformdirs>=2.5.0 in /home/ec2-user/anaconda3/envs/python3/lib/python3.10/site-packages (from pooch>=1.4->regionmask) (3.11.0)\n",
      "Requirement already satisfied: requests>=2.19.0 in /home/ec2-user/anaconda3/envs/python3/lib/python3.10/site-packages (from pooch>=1.4->regionmask) (2.31.0)\n",
      "Requirement already satisfied: affine in /home/ec2-user/anaconda3/envs/python3/lib/python3.10/site-packages (from rasterio>=1.3->rioxarray) (2.4.0)\n",
      "Requirement already satisfied: snuggs>=1.4.1 in /home/ec2-user/anaconda3/envs/python3/lib/python3.10/site-packages (from rasterio>=1.3->rioxarray) (1.4.7)\n",
      "Requirement already satisfied: charset-normalizer<4,>=2 in /home/ec2-user/anaconda3/envs/python3/lib/python3.10/site-packages (from requests>=2.19.0->pooch>=1.4->regionmask) (3.3.1)\n",
      "Requirement already satisfied: idna<4,>=2.5 in /home/ec2-user/anaconda3/envs/python3/lib/python3.10/site-packages (from requests>=2.19.0->pooch>=1.4->regionmask) (3.4)\n",
      "Requirement already satisfied: urllib3<3,>=1.21.1 in /home/ec2-user/anaconda3/envs/python3/lib/python3.10/site-packages (from requests>=2.19.0->pooch>=1.4->regionmask) (1.26.18)\n",
      "Requirement already satisfied: pyparsing>=2.1.6 in /home/ec2-user/anaconda3/envs/python3/lib/python3.10/site-packages (from snuggs>=1.4.1->rasterio>=1.3->rioxarray) (3.1.1)\n",
      "Downloading netCDF4-1.6.5-cp310-cp310-manylinux_2_17_x86_64.manylinux2014_x86_64.whl (5.5 MB)\n",
      "\u001b[2K   \u001b[90m━━━━━━━━━━━━━━━━━━━━━━━━━━━━━━━━━━━━━━━━\u001b[0m \u001b[32m5.5/5.5 MB\u001b[0m \u001b[31m41.2 MB/s\u001b[0m eta \u001b[36m0:00:00\u001b[0ma \u001b[36m0:00:01\u001b[0m\n",
      "\u001b[?25hDownloading cftime-1.6.3-cp310-cp310-manylinux_2_17_x86_64.manylinux2014_x86_64.whl (1.3 MB)\n",
      "\u001b[2K   \u001b[90m━━━━━━━━━━━━━━━━━━━━━━━━━━━━━━━━━━━━━━━━\u001b[0m \u001b[32m1.3/1.3 MB\u001b[0m \u001b[31m103.0 MB/s\u001b[0m eta \u001b[36m0:00:00\u001b[0m\n",
      "\u001b[?25hInstalling collected packages: cftime, netCDF4\n",
      "Successfully installed cftime-1.6.3 netCDF4-1.6.5\n"
     ]
    }
   ],
   "source": [
    "!pip install xarray rioxarray geopandas regionmask  dask netCDF4 bottleneck"
   ]
  },
  {
   "cell_type": "code",
   "execution_count": null,
   "id": "1508d5a1-0830-490d-b8c2-afa8987d5253",
   "metadata": {
    "tags": []
   },
   "outputs": [
    {
     "name": "stdout",
     "output_type": "stream",
     "text": [
      "Requirement already satisfied: netCDF4 in /home/ec2-user/anaconda3/envs/python3/lib/python3.10/site-packages (1.6.5)\n",
      "Requirement already satisfied: cftime in /home/ec2-user/anaconda3/envs/python3/lib/python3.10/site-packages (from netCDF4) (1.6.3)\n",
      "Requirement already satisfied: certifi in /home/ec2-user/anaconda3/envs/python3/lib/python3.10/site-packages (from netCDF4) (2023.7.22)\n",
      "Requirement already satisfied: numpy in /home/ec2-user/anaconda3/envs/python3/lib/python3.10/site-packages (from netCDF4) (1.26.4)\n"
     ]
    }
   ],
   "source": [
    "! pip install netCDF4"
   ]
  },
  {
   "cell_type": "code",
   "execution_count": 16,
   "id": "6d4cc1c8-d41a-4b52-87cf-cddb99b7ea83",
   "metadata": {
    "tags": []
   },
   "outputs": [
    {
     "name": "stderr",
     "output_type": "stream",
     "text": [
      "Matplotlib is building the font cache; this may take a moment.\n"
     ]
    }
   ],
   "source": [
    "import xarray as xr\n",
    "import rioxarray as rx\n",
    "import regionmask\n",
    "import geopandas as gpd\n",
    "import numpy as np\n",
    "import matplotlib.pyplot as plt"
   ]
  },
  {
   "cell_type": "code",
   "execution_count": 4,
   "id": "7d84caef-32b8-47fa-9f1e-064a068b7e19",
   "metadata": {
    "tags": []
   },
   "outputs": [],
   "source": [
    "netcdfPath  = 'data/Prec_ACCESS-ESM1-5_ssp126_2021_2040.nc'\n",
    "africaShapeFile = 'data/Africa/Africa_Boundaries.shp'"
   ]
  },
  {
   "cell_type": "code",
   "execution_count": 3,
   "id": "f21b52fa-a6fe-4627-96b8-b4fd592f21dc",
   "metadata": {
    "tags": []
   },
   "outputs": [],
   "source": [
    "futureScenariosData = xr.open_dataset(netcdfPath)\n",
    "futureScenariosData = futureScenariosData.sel(lat=slice(37,-35), lon=slice(-18, 51))"
   ]
  },
  {
   "cell_type": "code",
   "execution_count": 23,
   "id": "d7a429a7-c388-4e13-8ed4-928500aa1e00",
   "metadata": {
    "tags": []
   },
   "outputs": [
    {
     "data": {
      "text/plain": [
       "<matplotlib.colorbar.Colorbar at 0x7f5cc4e0ba60>"
      ]
     },
     "execution_count": 23,
     "metadata": {},
     "output_type": "execute_result"
    },
    {
     "data": {
      "image/png": "[encoded data removed]",
      "text/plain": [
       "<Figure size 640x480 with 2 Axes>"
      ]
     },
     "metadata": {},
     "output_type": "display_data"
    }
   ],
   "source": [
    "plt.contourf(futureScenariosData.sel(lat=slice(37,-35), lon=slice(-18, 51),time= '2021-01-31')['tmin'][0,:,:])\n",
    "plt.colorbar()"
   ]
  }
 ],
 "metadata": {
  "kernelspec": {
   "display_name": "conda_python3",
   "language": "python",
   "name": "conda_python3"
  },
  "language_info": {
   "codemirror_mode": {
    "name": "ipython",
    "version": 3
   },
   "file_extension": ".py",
   "mimetype": "text/x-python",
   "name": "python",
   "nbconvert_exporter": "python",
   "pygments_lexer": "ipython3",
   "version": "3.10.13"
  }
 },
 "nbformat": 4,
 "nbformat_minor": 5
}
