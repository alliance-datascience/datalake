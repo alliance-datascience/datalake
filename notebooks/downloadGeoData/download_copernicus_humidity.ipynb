{
 "cells": [
  {
   "cell_type": "code",
   "execution_count": 1,
   "metadata": {},
   "outputs": [
    {
     "name": "stdout",
     "output_type": "stream",
     "text": [
      "Looking in indexes: https://pypi.org/simple, https://pip.repos.neuron.amazonaws.com\n",
      "Collecting cdsapi\n",
      "  Downloading cdsapi-0.6.1.tar.gz (13 kB)\n",
      "  Preparing metadata (setup.py) ... \u001b[?25ldone\n",
      "\u001b[?25hRequirement already satisfied: requests>=2.5.0 in /home/ec2-user/anaconda3/envs/python3/lib/python3.10/site-packages (from cdsapi) (2.29.0)\n",
      "Requirement already satisfied: tqdm in /home/ec2-user/anaconda3/envs/python3/lib/python3.10/site-packages (from cdsapi) (4.65.0)\n",
      "Requirement already satisfied: charset-normalizer<4,>=2 in /home/ec2-user/anaconda3/envs/python3/lib/python3.10/site-packages (from requests>=2.5.0->cdsapi) (2.1.1)\n",
      "Requirement already satisfied: idna<4,>=2.5 in /home/ec2-user/anaconda3/envs/python3/lib/python3.10/site-packages (from requests>=2.5.0->cdsapi) (3.4)\n",
      "Requirement already satisfied: urllib3<1.27,>=1.21.1 in /home/ec2-user/anaconda3/envs/python3/lib/python3.10/site-packages (from requests>=2.5.0->cdsapi) (1.26.14)\n",
      "Requirement already satisfied: certifi>=2017.4.17 in /home/ec2-user/anaconda3/envs/python3/lib/python3.10/site-packages (from requests>=2.5.0->cdsapi) (2023.5.7)\n",
      "Building wheels for collected packages: cdsapi\n",
      "  Building wheel for cdsapi (setup.py) ... \u001b[?25ldone\n",
      "\u001b[?25h  Created wheel for cdsapi: filename=cdsapi-0.6.1-py2.py3-none-any.whl size=12009 sha256=c4214562a0018751568925a194ea568599567f1dd12dec470457d27e942318d3\n",
      "  Stored in directory: /home/ec2-user/.cache/pip/wheels/7c/63/08/45461d6f6636c1aba7846828d8c787a064073945048f76d44a\n",
      "Successfully built cdsapi\n",
      "Installing collected packages: cdsapi\n",
      "Successfully installed cdsapi-0.6.1\n"
     ]
    }
   ],
   "source": [
    "!pip install cdsapi"
   ]
  },
  {
   "cell_type": "code",
   "execution_count": 7,
   "metadata": {},
   "outputs": [],
   "source": [
    "import cdsapi\n",
    "import os\n",
    "from zipfile import ZipFile\n",
    "import glob\n",
    "import boto3\n",
    "import shutil\n"
   ]
  },
  {
   "cell_type": "code",
   "execution_count": 8,
   "metadata": {},
   "outputs": [],
   "source": [
    "key=\"187933:64547c55-b131-4cec-a39e-f455bf2b12b3\"\n",
    "url = \"https://cds.climate.copernicus.eu/api/v2\"\n",
    "user = \"129570\"\n",
    "cds =cdsapi.Client(key=key,url=url)\n",
    "bucket = \"climate-action-datalake\"\n",
    "localDownloadPath = \"data/\"\n",
    "zipName=\"sample.zip\"\n",
    "datalakeZone=\"landing\"\n",
    "source=\"agera5\"\n",
    "# print(key)\n",
    "s3_client = boto3.client('s3')\n",
    "historicalYears = range(2023,2024)\n",
    "months = range(1,13)\n",
    "variableNames = [\"2m_relative_humidity\"] # 2m_relative_humidity-solar_radiation_flux-10m_wind_speed\n",
    "days=range(1,32)\n",
    "statistics = ['24_hour_maximum', '24_hour_mean', '24_hour_minimum']\n",
    "variableS3= \"2m_relative_humidity\" #  2m_relative_humidity-10m-wind-speed-solar-radiation-flux\n"
   ]
  },
  {
   "cell_type": "code",
   "execution_count": 9,
   "metadata": {},
   "outputs": [],
   "source": [
    "def downloadAgera5Data(variableName:str\n",
    "                       ,statistics:[]\n",
    "                       ,year:[]\n",
    "                       ,month:[]\n",
    "                       ,day:[]\n",
    "                       ,bucket:str\n",
    "                       ,downloadPath:str\n",
    "                       ,zipName:str\n",
    "                       ,datalakeZone:str\n",
    "                       ,source:str\n",
    "                       ,variable:str\n",
    "                       ,url:str\n",
    "                       ,key:str\n",
    "                      ):\n",
    "    cds =cdsapi.Client(key=key,url=url)\n",
    "    sisK=\"sis-agrometeorological-indicators\"\n",
    "    for _year in year:\n",
    "        for _month in month:\n",
    "            for _day in day:\n",
    "                jsonCopernicus = {'format':'zip'\n",
    "                                   ,'version': '1_1'\n",
    "                            #  ,'statistic':statistics\n",
    "                                ,'variable': variableName\n",
    "                                ,'year':[str(_year)]\n",
    "                                ,'month':[f\"{_month:02d}\"]\n",
    "                                ,'day':[f\"{_day:02d}\"]  \n",
    "                                ,'time': '12_00'\n",
    "                              }\n",
    "                try:\n",
    "\n",
    "                    cds.retrieve(sisK,jsonCopernicus,localDownloadPath+zipName)\n",
    "                    with  ZipFile(downloadPath+zipName,'r') as z:\n",
    "                        z.extractall(path=downloadPath)\n",
    "                    filesUpload = glob.glob(downloadPath+\"*.nc\")\n",
    "                    for _file in filesUpload:\n",
    "                        s3Path= f\"zone={datalakeZone}/source={source}/variable={variable}/\"\n",
    "                        response = s3_client.upload_file(_file\n",
    "                                                         , bucket\n",
    "                                                         ,s3Path+_file.split(\"/\")[1])\n",
    "                        os.remove(_file)\n",
    "                        \n",
    "                except:\n",
    "                    print(_year,_month,_day)"
   ]
  },
  {
   "cell_type": "code",
   "execution_count": null,
   "metadata": {},
   "outputs": [],
   "source": [
    "downloadAgera5Data(variableName=variableNames\n",
    "                   ,statistics=statistics\n",
    "                   ,year=historicalYears\n",
    "                   ,month=months\n",
    "                   ,day=days\n",
    "                   ,bucket=bucket\n",
    "                   ,downloadPath=localDownloadPath\n",
    "                   ,zipName=zipName\n",
    "                   ,datalakeZone=datalakeZone\n",
    "                   ,source=source\n",
    "                   ,variable=variableS3\n",
    "                   ,url=url\n",
    "                   ,key=key\n",
    "                  )"
   ]
  },
  {
   "cell_type": "code",
   "execution_count": null,
   "metadata": {},
   "outputs": [],
   "source": [
    "filesUpload = glob.glob(localDownloadPath+\"*.nc\")"
   ]
  },
  {
   "cell_type": "code",
   "execution_count": null,
   "metadata": {},
   "outputs": [],
   "source": [
    "len(filesUpload)"
   ]
  },
  {
   "cell_type": "code",
   "execution_count": null,
   "metadata": {
    "tags": []
   },
   "outputs": [],
   "source": [
    "# os.remove(filesUpload[1])"
   ]
  }
 ],
 "metadata": {
  "kernelspec": {
   "display_name": "conda_python3",
   "language": "python",
   "name": "conda_python3"
  },
  "language_info": {
   "codemirror_mode": {
    "name": "ipython",
    "version": 3
   },
   "file_extension": ".py",
   "mimetype": "text/x-python",
   "name": "python",
   "nbconvert_exporter": "python",
   "pygments_lexer": "ipython3",
   "version": "3.10.13"
  }
 },
 "nbformat": 4,
 "nbformat_minor": 4
}
