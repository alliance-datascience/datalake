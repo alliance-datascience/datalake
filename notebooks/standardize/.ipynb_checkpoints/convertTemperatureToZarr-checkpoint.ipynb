{
 "cells": [
  {
   "cell_type": "code",
   "execution_count": null,
   "id": "4df1e2a7-d8da-47af-8ab2-01fe215150c1",
   "metadata": {
    "tags": []
   },
   "outputs": [],
   "source": [
    " !pip install rioxarray \"xarray[complete]\" geopandas  \"dask[complete]\""
   ]
  },
  {
   "cell_type": "code",
   "execution_count": 1,
   "id": "cca629ec-8c78-443a-8482-a76990d40322",
   "metadata": {
    "tags": []
   },
   "outputs": [],
   "source": [
    "import rioxarray as rx\n",
    "import pandas as pd\n",
    "import boto3\n",
    "import xarray as xr\n",
    "import glob\n",
    "import shutil\n",
    "import os\n",
    "import zarr\n",
    "import s3fs\n",
    "import geopandas as gpd\n",
    "from dask.diagnostics import ProgressBar"
   ]
  },
  {
   "cell_type": "code",
   "execution_count": 2,
   "id": "8c3eefcb-d0e0-44f1-b63b-3b91ec5f4bbd",
   "metadata": {
    "tags": []
   },
   "outputs": [],
   "source": [
    "pathS3 = \"s3://climate-action-datalake/zone=raw/source=agera5\"\n",
    "localPath = 'data/toZarr/*.nc'"
   ]
  },
  {
   "cell_type": "code",
   "execution_count": 3,
   "id": "62ebd39b-71f1-4164-86fe-798a1d353e63",
   "metadata": {
    "tags": []
   },
   "outputs": [],
   "source": [
    "def convertKelvinCelsius(k):\n",
    "    c = k - 273.15\n",
    "    return c"
   ]
  },
  {
   "cell_type": "code",
   "execution_count": 4,
   "id": "edd7d96c-5f63-437f-b645-29308c0a886f",
   "metadata": {
    "tags": []
   },
   "outputs": [],
   "source": [
    "allFiles = xr.open_mfdataset(localPath,parallel=True)"
   ]
  },
  {
   "cell_type": "code",
   "execution_count": 5,
   "id": "2f3a56f1-edc9-47f0-b1b5-059fac13f95b",
   "metadata": {
    "tags": []
   },
   "outputs": [
    {
     "name": "stdout",
     "output_type": "stream",
     "text": [
      "Hola mundo\n"
     ]
    }
   ],
   "source": [
    "print('Hola mundo')"
   ]
  },
  {
   "cell_type": "code",
   "execution_count": 6,
   "id": "551ad518-2985-493d-bdb6-5554d18905ff",
   "metadata": {
    "tags": []
   },
   "outputs": [],
   "source": [
    "allFiles = allFiles.apply(convertKelvinCelsius)"
   ]
  },
  {
   "cell_type": "code",
   "execution_count": 7,
   "id": "8698e010-fa4f-49cc-b53c-a3981b66b295",
   "metadata": {
    "tags": []
   },
   "outputs": [],
   "source": [
    "compressor = zarr.Blosc(cname='zstd')\n",
    "encoding = {vname: {'compressor': compressor,'chunks': (1,1801,3600)} for vname in allFiles.data_vars}\n"
   ]
  },
  {
   "cell_type": "code",
   "execution_count": 8,
   "id": "2839578f-c3e0-4ea4-b5e1-5afb7f18f172",
   "metadata": {
    "tags": []
   },
   "outputs": [],
   "source": [
    "s3 = s3fs.S3FileSystem()\n",
    "store = s3fs.S3Map(root=\"s3://climate-action-datalake/zone=raw/source=agera5/variable=airTemperatureMax.zarr\", s3=s3, check=False)"
   ]
  },
  {
   "cell_type": "code",
   "execution_count": 9,
   "id": "3899fc5e-5a58-41c7-9bf7-6803a8f209b3",
   "metadata": {
    "tags": []
   },
   "outputs": [
    {
     "name": "stdout",
     "output_type": "stream",
     "text": [
      "[########################################] | 100% Completed | 53m 4ss\n"
     ]
    }
   ],
   "source": [
    "with ProgressBar():\n",
    "    result = allFiles.to_zarr(store=store, encoding=encoding, consolidated=True)"
   ]
  },
  {
   "cell_type": "code",
   "execution_count": 10,
   "id": "dbae9c74-d82f-493e-abf5-0b4967d5e323",
   "metadata": {
    "tags": []
   },
   "outputs": [
    {
     "name": "stdout",
     "output_type": "stream",
     "text": [
      "He finalizado\n"
     ]
    }
   ],
   "source": [
    "print(\"He finalizado\")"
   ]
  }
 ],
 "metadata": {
  "kernelspec": {
   "display_name": "conda_python3",
   "language": "python",
   "name": "conda_python3"
  },
  "language_info": {
   "codemirror_mode": {
    "name": "ipython",
    "version": 3
   },
   "file_extension": ".py",
   "mimetype": "text/x-python",
   "name": "python",
   "nbconvert_exporter": "python",
   "pygments_lexer": "ipython3",
   "version": "3.10.12"
  }
 },
 "nbformat": 4,
 "nbformat_minor": 5
}
