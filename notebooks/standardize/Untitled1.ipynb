{
 "cells": [
  {
   "cell_type": "code",
   "execution_count": 1,
   "id": "5b922bce-920c-4a75-89af-e07d00ce6574",
   "metadata": {
    "tags": []
   },
   "outputs": [],
   "source": [
    "import xarray as xr"
   ]
  },
  {
   "cell_type": "code",
   "execution_count": 2,
   "id": "2590884a-46d6-40c6-bf6e-68c3d55219c3",
   "metadata": {
    "tags": []
   },
   "outputs": [],
   "source": [
    "b = xr.open_dataset('/home/ec2-user/SageMaker/datalake/notebooks/utils/data/temporal/Solar-Radiation-Flux_C3S-glob-agric_AgERA5_20230408_final-v1.0.nc')"
   ]
  },
  {
   "cell_type": "code",
   "execution_count": 4,
   "id": "5dd985b7-b7ae-4f83-aba9-929dfe8415b1",
   "metadata": {
    "tags": []
   },
   "outputs": [],
   "source": [
    "c = b.to_dataframe()"
   ]
  },
  {
   "cell_type": "code",
   "execution_count": 6,
   "id": "31311658-3dde-4b05-804a-3f4be8ba1d3e",
   "metadata": {
    "tags": []
   },
   "outputs": [
    {
     "data": {
      "text/html": [
       "<div>\n",
       "<style scoped>\n",
       "    .dataframe tbody tr th:only-of-type {\n",
       "        vertical-align: middle;\n",
       "    }\n",
       "\n",
       "    .dataframe tbody tr th {\n",
       "        vertical-align: top;\n",
       "    }\n",
       "\n",
       "    .dataframe thead th {\n",
       "        text-align: right;\n",
       "    }\n",
       "</style>\n",
       "<table border=\"1\" class=\"dataframe\">\n",
       "  <thead>\n",
       "    <tr style=\"text-align: right;\">\n",
       "      <th></th>\n",
       "      <th></th>\n",
       "      <th></th>\n",
       "      <th>Solar-Radiation-Flux</th>\n",
       "    </tr>\n",
       "    <tr>\n",
       "      <th>time</th>\n",
       "      <th>lat</th>\n",
       "      <th>lon</th>\n",
       "      <th></th>\n",
       "    </tr>\n",
       "  </thead>\n",
       "  <tbody>\n",
       "    <tr>\n",
       "      <th rowspan=\"11\" valign=\"top\">2023-04-08</th>\n",
       "      <th rowspan=\"5\" valign=\"top\">-49.975001</th>\n",
       "      <th>-75.724998</th>\n",
       "      <td>3280107.75</td>\n",
       "    </tr>\n",
       "    <tr>\n",
       "      <th>-75.674998</th>\n",
       "      <td>3273755.50</td>\n",
       "    </tr>\n",
       "    <tr>\n",
       "      <th>-75.624998</th>\n",
       "      <td>3261051.50</td>\n",
       "    </tr>\n",
       "    <tr>\n",
       "      <th>-75.574998</th>\n",
       "      <td>3151049.50</td>\n",
       "    </tr>\n",
       "    <tr>\n",
       "      <th>-75.524998</th>\n",
       "      <td>2943761.50</td>\n",
       "    </tr>\n",
       "    <tr>\n",
       "      <th>...</th>\n",
       "      <th>...</th>\n",
       "      <td>...</td>\n",
       "    </tr>\n",
       "    <tr>\n",
       "      <th rowspan=\"5\" valign=\"top\">49.975000</th>\n",
       "      <th>156.025005</th>\n",
       "      <td>2277218.00</td>\n",
       "    </tr>\n",
       "    <tr>\n",
       "      <th>156.075005</th>\n",
       "      <td>2274363.00</td>\n",
       "    </tr>\n",
       "    <tr>\n",
       "      <th>156.125005</th>\n",
       "      <td>2274820.75</td>\n",
       "    </tr>\n",
       "    <tr>\n",
       "      <th>156.175005</th>\n",
       "      <td>2278590.25</td>\n",
       "    </tr>\n",
       "    <tr>\n",
       "      <th>156.225005</th>\n",
       "      <td>2280474.50</td>\n",
       "    </tr>\n",
       "  </tbody>\n",
       "</table>\n",
       "<p>4025360 rows × 1 columns</p>\n",
       "</div>"
      ],
      "text/plain": [
       "                                   Solar-Radiation-Flux\n",
       "time       lat        lon                              \n",
       "2023-04-08 -49.975001 -75.724998             3280107.75\n",
       "                      -75.674998             3273755.50\n",
       "                      -75.624998             3261051.50\n",
       "                      -75.574998             3151049.50\n",
       "                      -75.524998             2943761.50\n",
       "...                                                 ...\n",
       "            49.975000  156.025005            2277218.00\n",
       "                       156.075005            2274363.00\n",
       "                       156.125005            2274820.75\n",
       "                       156.175005            2278590.25\n",
       "                       156.225005            2280474.50\n",
       "\n",
       "[4025360 rows x 1 columns]"
      ]
     },
     "execution_count": 6,
     "metadata": {},
     "output_type": "execute_result"
    }
   ],
   "source": [
    "c[c['Solar-Radiation-Flux']>0]"
   ]
  }
 ],
 "metadata": {
  "kernelspec": {
   "display_name": "conda_python3",
   "language": "python",
   "name": "conda_python3"
  },
  "language_info": {
   "codemirror_mode": {
    "name": "ipython",
    "version": 3
   },
   "file_extension": ".py",
   "mimetype": "text/x-python",
   "name": "python",
   "nbconvert_exporter": "python",
   "pygments_lexer": "ipython3",
   "version": "3.10.13"
  }
 },
 "nbformat": 4,
 "nbformat_minor": 5
}
