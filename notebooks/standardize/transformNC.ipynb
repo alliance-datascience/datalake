{
 "cells": [
  {
   "cell_type": "code",
   "execution_count": 3,
   "id": "2b1f76be-e8b2-46e3-9c80-7ab1a9f21fac",
   "metadata": {
    "tags": []
   },
   "outputs": [
    {
     "name": "stderr",
     "output_type": "stream",
     "text": [
      "/tmp/ipykernel_18671/2380725633.py:10: DeprecationWarning: The current Dask DataFrame implementation is deprecated. \n",
      "In a future release, Dask DataFrame will use new implementation that\n",
      "contains several improvements including a logical query planning.\n",
      "The user-facing DataFrame API will remain unchanged.\n",
      "\n",
      "The new implementation is already available and can be enabled by\n",
      "installing the dask-expr library:\n",
      "\n",
      "    $ pip install dask-expr\n",
      "\n",
      "and turning the query planning option on:\n",
      "\n",
      "    >>> import dask\n",
      "    >>> dask.config.set({'dataframe.query-planning': True})\n",
      "    >>> import dask.dataframe as dd\n",
      "\n",
      "API documentation for the new implementation is available at\n",
      "https://docs.dask.org/en/stable/dask-expr-api.html\n",
      "\n",
      "Any feedback can be reported on the Dask issue tracker\n",
      "https://github.com/dask/dask/issues \n",
      "\n",
      "  from dask import dataframe as dd\n"
     ]
    }
   ],
   "source": [
    "import rioxarray as rx\n",
    "import pandas as pd\n",
    "import boto3\n",
    "import xarray as xr\n",
    "import os\n",
    "import zarr\n",
    "import s3fs\n",
    "from dask.diagnostics import ProgressBar\n",
    "from datetime import datetime\n",
    "from dask import dataframe as dd"
   ]
  },
  {
   "cell_type": "code",
   "execution_count": 4,
   "id": "8d57daf5-5ffb-4ca1-aa61-79bce82e1ade",
   "metadata": {
    "tags": []
   },
   "outputs": [],
   "source": [
    "originalFiles = '/home/ec2-user/SageMaker/datalake/notebooks/utils/data/brozen/'\n",
    "outputPath = '/home/ec2-user/SageMaker/datalake/notebooks/utils/data/temporal/'\n",
    "\n",
    "def netcdfChange(path\n",
    "                 , file\n",
    "                 ,outputPath\n",
    "                ):\n",
    "    dt = file.split('_')[-2]\n",
    "    dt = datetime.strptime(dt,'%Y%m%d')\n",
    "    f = xr.open_dataset(path+file)\n",
    "    f = f.drop_vars(['crs'])\n",
    "    f = f.rename_vars(name_dict = {'Band1':'Solar-Radiation-Flux'})\n",
    "    #time_da = xr.DataArray({'time': dt})\n",
    "    f = f.assign_coords(time = dt)\n",
    "    f = f.expand_dims(dim=\"time\")\n",
    "    f.to_netcdf(outputPath+file)\n",
    "    \n",
    "    \n",
    "    "
   ]
  },
  {
   "cell_type": "code",
   "execution_count": 3,
   "id": "b3fc720a-628f-48f7-998d-48f46bdbddb8",
   "metadata": {
    "tags": []
   },
   "outputs": [],
   "source": [
    "getFile = os.listdir(originalFiles)\n",
    "filespd= pd.DataFrame(getFile,columns=['file'])\n",
    "filesDD = dd.from_pandas(filespd,npartitions=90)\n"
   ]
  },
  {
   "cell_type": "code",
   "execution_count": 4,
   "id": "a1acd875-77f7-4418-ba6c-df968c43d101",
   "metadata": {
    "tags": []
   },
   "outputs": [
    {
     "name": "stdout",
     "output_type": "stream",
     "text": [
      "[########################################] | 100% Completed | 2hr 59m\n"
     ]
    }
   ],
   "source": [
    "with ProgressBar():\n",
    "    filesDD.map_partitions(lambda df:\n",
    "                          df.file.apply(lambda x: netcdfChange(originalFiles\n",
    "                                                               ,x\n",
    "                                                               ,outputPath)\n",
    "                                       ),meta= {'name':'object'}\n",
    "                          ).compute(scheduler='processes')"
   ]
  },
  {
   "cell_type": "code",
   "execution_count": 11,
   "id": "88665d00-4c65-4c0d-8247-ebfe596a7db7",
   "metadata": {
    "tags": []
   },
   "outputs": [
    {
     "data": {
      "text/plain": [
       "'Solar-Radiation-Flux_C3S-glob-agric_AgERA5_19870212_final-v1.0.nc'"
      ]
     },
     "execution_count": 11,
     "metadata": {},
     "output_type": "execute_result"
    }
   ],
   "source": [
    "getFile[3]"
   ]
  },
  {
   "cell_type": "code",
   "execution_count": 12,
   "id": "38acea21-4d78-4703-8cc1-3a6bd9b3e7af",
   "metadata": {
    "tags": []
   },
   "outputs": [],
   "source": [
    "netcdfChange(originalFiles\n",
    "             ,'Solar-Radiation-Flux_C3S-glob-agric_AgERA5_19870212_final-v1.0.nc'\n",
    "            ,outputPath)"
   ]
  },
  {
   "cell_type": "code",
   "execution_count": 5,
   "id": "a22d85c4-b9c9-478c-aadb-3f06dc8a6b62",
   "metadata": {
    "tags": []
   },
   "outputs": [],
   "source": [
    "s = xr.open_dataset(outputPath+'Solar-Radiation-Flux_C3S-glob-agric_AgERA5_20230212_final-v1.0.nc')"
   ]
  },
  {
   "cell_type": "code",
   "execution_count": 8,
   "id": "d452e2ac-8e9c-4984-83e1-68a6d2d5084a",
   "metadata": {
    "tags": []
   },
   "outputs": [],
   "source": [
    "s = s.to_dataframe()"
   ]
  },
  {
   "cell_type": "code",
   "execution_count": 9,
   "id": "ff8e9a5d-a246-4a0a-8321-a818c0272aae",
   "metadata": {
    "tags": []
   },
   "outputs": [
    {
     "data": {
      "text/html": [
       "<div>\n",
       "<style scoped>\n",
       "    .dataframe tbody tr th:only-of-type {\n",
       "        vertical-align: middle;\n",
       "    }\n",
       "\n",
       "    .dataframe tbody tr th {\n",
       "        vertical-align: top;\n",
       "    }\n",
       "\n",
       "    .dataframe thead th {\n",
       "        text-align: right;\n",
       "    }\n",
       "</style>\n",
       "<table border=\"1\" class=\"dataframe\">\n",
       "  <thead>\n",
       "    <tr style=\"text-align: right;\">\n",
       "      <th></th>\n",
       "      <th></th>\n",
       "      <th></th>\n",
       "      <th>Solar-Radiation-Flux</th>\n",
       "    </tr>\n",
       "    <tr>\n",
       "      <th>time</th>\n",
       "      <th>lat</th>\n",
       "      <th>lon</th>\n",
       "      <th></th>\n",
       "    </tr>\n",
       "  </thead>\n",
       "  <tbody>\n",
       "    <tr>\n",
       "      <th rowspan=\"11\" valign=\"top\">2023-02-12</th>\n",
       "      <th rowspan=\"5\" valign=\"top\">-49.975001</th>\n",
       "      <th>-75.724998</th>\n",
       "      <td>15838024.0</td>\n",
       "    </tr>\n",
       "    <tr>\n",
       "      <th>-75.674998</th>\n",
       "      <td>15807819.0</td>\n",
       "    </tr>\n",
       "    <tr>\n",
       "      <th>-75.624998</th>\n",
       "      <td>15747412.0</td>\n",
       "    </tr>\n",
       "    <tr>\n",
       "      <th>-75.574998</th>\n",
       "      <td>15259058.0</td>\n",
       "    </tr>\n",
       "    <tr>\n",
       "      <th>-75.524998</th>\n",
       "      <td>14342808.0</td>\n",
       "    </tr>\n",
       "    <tr>\n",
       "      <th>...</th>\n",
       "      <th>...</th>\n",
       "      <td>...</td>\n",
       "    </tr>\n",
       "    <tr>\n",
       "      <th rowspan=\"5\" valign=\"top\">49.975000</th>\n",
       "      <th>156.025005</th>\n",
       "      <td>8008318.5</td>\n",
       "    </tr>\n",
       "    <tr>\n",
       "      <th>156.075005</th>\n",
       "      <td>8023380.0</td>\n",
       "    </tr>\n",
       "    <tr>\n",
       "      <th>156.125005</th>\n",
       "      <td>8033751.5</td>\n",
       "    </tr>\n",
       "    <tr>\n",
       "      <th>156.175005</th>\n",
       "      <td>8039436.0</td>\n",
       "    </tr>\n",
       "    <tr>\n",
       "      <th>156.225005</th>\n",
       "      <td>8042277.5</td>\n",
       "    </tr>\n",
       "  </tbody>\n",
       "</table>\n",
       "<p>4025360 rows × 1 columns</p>\n",
       "</div>"
      ],
      "text/plain": [
       "                                   Solar-Radiation-Flux\n",
       "time       lat        lon                              \n",
       "2023-02-12 -49.975001 -75.724998             15838024.0\n",
       "                      -75.674998             15807819.0\n",
       "                      -75.624998             15747412.0\n",
       "                      -75.574998             15259058.0\n",
       "                      -75.524998             14342808.0\n",
       "...                                                 ...\n",
       "            49.975000  156.025005             8008318.5\n",
       "                       156.075005             8023380.0\n",
       "                       156.125005             8033751.5\n",
       "                       156.175005             8039436.0\n",
       "                       156.225005             8042277.5\n",
       "\n",
       "[4025360 rows x 1 columns]"
      ]
     },
     "execution_count": 9,
     "metadata": {},
     "output_type": "execute_result"
    }
   ],
   "source": [
    "s[s['Solar-Radiation-Flux']>0]"
   ]
  }
 ],
 "metadata": {
  "kernelspec": {
   "display_name": "conda_python3",
   "language": "python",
   "name": "conda_python3"
  },
  "language_info": {
   "codemirror_mode": {
    "name": "ipython",
    "version": 3
   },
   "file_extension": ".py",
   "mimetype": "text/x-python",
   "name": "python",
   "nbconvert_exporter": "python",
   "pygments_lexer": "ipython3",
   "version": "3.10.13"
  }
 },
 "nbformat": 4,
 "nbformat_minor": 5
}
