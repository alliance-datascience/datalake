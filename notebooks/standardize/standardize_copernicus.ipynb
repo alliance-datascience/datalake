{
 "cells": [
  {
   "cell_type": "code",
   "execution_count": 1,
   "id": "f33f36cf-98e4-473c-a888-4cd8b09dd70e",
   "metadata": {
    "scrolled": true,
    "tags": []
   },
   "outputs": [],
   "source": [
    " # !pip install rioxarray \"xarray[complete]\""
   ]
  },
  {
   "cell_type": "code",
   "execution_count": 2,
   "id": "03a1afb3-cde3-4107-87f1-0256d1faccf8",
   "metadata": {
    "tags": []
   },
   "outputs": [],
   "source": [
    "import rioxarray as rx\n",
    "import pandas as pd\n",
    "import boto3\n",
    "import xarray as xr\n",
    "import glob\n",
    "import shutil\n",
    "import os"
   ]
  },
  {
   "cell_type": "code",
   "execution_count": 3,
   "id": "356b4e3a-ec72-48d9-aaaa-17f41aa03c98",
   "metadata": {
    "tags": []
   },
   "outputs": [],
   "source": [
    "\n",
    "continentalBox=[\n",
    "    (\"Africa\", -20.0, -35.0, 55.0, 40.0),\n",
    "    (\"Antarctica\", -180.0, -90.0, 180.0, -60.0),\n",
    "    (\"Asia\", 25.0, -12.0, 180.0, 75.0),\n",
    "    (\"Europe\", -25.0, 35.0, 45.0, 75.0),\n",
    "    (\"North_America\", -180.0, 10.0, -35.0, 75.0),\n",
    "    (\"Oceania\", 100.0, -50.0, 180.0, -10.0),\n",
    "    (\"South_America\", -90.0, -60.0, -30.0, 15.0)\n",
    "]\n",
    "\n",
    "continentalDf = pd.DataFrame(\n",
    "    continentalBox,\n",
    "    columns=[\"continent\", \"xmin\", \"ymin\", \"xmax\", \"ymax\"]\n",
    ")\n",
    "\n",
    "bucketName = \"climate-action-datalake\"\n",
    "s3LandingPath = \"zone=landing/source=agera5/variable=2mTemperature/\"\n",
    "zone = \"raw\"\n",
    "source = \"agera5\"\n",
    "variable = \"2mTemperature\"\n"
   ]
  },
  {
   "cell_type": "code",
   "execution_count": 4,
   "id": "854eb279-9044-4f3b-a68a-0cf9ee013849",
   "metadata": {
    "tags": []
   },
   "outputs": [],
   "source": [
    "\n",
    "def listS3Files(bucketName: str, path: str):\n",
    "    objectArr = []\n",
    "    s3 = boto3.resource(\"s3\")\n",
    "    s3Bucket = s3.Bucket(bucketName)\n",
    "    for blob in s3Bucket.objects.filter(Prefix=path):\n",
    "        objectArr.append(blob)\n",
    "    return objectArr\n",
    "\n",
    "def convertKelvinCelsius(k):\n",
    "    c = k - 273.15\n",
    "    return c\n",
    "\n",
    "def filesToProcess(s3Files: list, year: int=None):\n",
    "    filesToProcess = pd.DataFrame(columns=['s3_path', 'file_name'])\n",
    "    s3Path = []\n",
    "    fileName = []\n",
    "    if year:\n",
    "        for blob in s3Files:\n",
    "            if str(year) in blob.key:\n",
    "                file = blob.key\n",
    "                s3Path.append(file)\n",
    "                fileName.append(file.split('/')[3].split('.')[0])\n",
    "    else:\n",
    "        for blob in s3Files:\n",
    "            file = blob.key\n",
    "            s3Path.append(file)\n",
    "            fileName.append(file.split('/')[3].split('.')[0])\n",
    "    filesToProcess['s3_path'] = s3Path\n",
    "    filesToProcess['file_name'] = fileName\n",
    "    return filesToProcess\n",
    "\n",
    "def downloadData(bucketName: str, s3Path: str, outputName: str, s3):\n",
    "    s3.download_file(bucketName, s3Path, outputName)\n",
    "\n",
    "def cutGeoTiff(continentsDf, geoTiff, fileName: str, outputPath: str):\n",
    "    for index, row in continentsDf.iterrows():\n",
    "        continentName = row['continent']\n",
    "        xmin = row['xmin']\n",
    "        ymin = row['ymin']\n",
    "        xmax = row['xmax']\n",
    "        ymax = row['ymax']\n",
    "        _geoTiff = geoTiff.rio.clip_box(xmin, ymin, xmax, ymax)\n",
    "        _geoTiff.rio.to_raster(f\"{outputPath}/{fileName}{continentName}.tiff\")\n",
    "\n",
    "def uploadData(s3_client, bucket, filename, uploadPath):\n",
    "    s3_client.upload_file(Filename=filename, Bucket=bucket, Key=uploadPath)"
   ]
  },
  {
   "cell_type": "code",
   "execution_count": 5,
   "id": "7c347bad-7d3e-4842-afe2-3551c0c1b2db",
   "metadata": {
    "tags": []
   },
   "outputs": [],
   "source": [
    "s3Files =  listS3Files(bucketName = bucketName\n",
    "                       ,path = s3LandingPath)"
   ]
  },
  {
   "cell_type": "code",
   "execution_count": null,
   "id": "4ba4079a-ef8a-4d25-bd72-4ccb4d73ddb7",
   "metadata": {
    "tags": []
   },
   "outputs": [
    {
     "name": "stdout",
     "output_type": "stream",
     "text": [
      "1986\n",
      "1987\n",
      "1988\n"
     ]
    }
   ],
   "source": [
    "for _year in range(1986,2024):\n",
    "    print(_year)\n",
    "    df = filesToProcess(s3Files=s3Files,\n",
    "                        year=_year)\n",
    "    s3 = boto3.client(\"s3\")\n",
    "    outputPath = \"data\"\n",
    "    originaExtension = \"nc\"\n",
    "    for index, row in df.iterrows():\n",
    "        _file_name = row['file_name']\n",
    "        _s3_path = row['s3_path']\n",
    "        downloadFile = outputPath+\"/\"+_file_name+\".\"+originaExtension\n",
    "        downloadData(bucketName=bucketName\n",
    "                , s3Path=_s3_path\n",
    "                , outputName=downloadFile\n",
    "                , s3=s3\n",
    "                    )\n",
    "        geoFile= xr.open_dataset(downloadFile)\n",
    "        geoFileC = geoFile.apply(convertKelvinCelsius)\n",
    "        variable = list(geoFileC.keys())[0]\n",
    "        #print(variable)\n",
    "        variableValues = geoFileC[variable]\n",
    "        variableValues = variableValues.rio.set_spatial_dims(x_dim='lon', y_dim='lat')\n",
    "        variableValues.rio.write_crs(\"epsg:4326\", inplace=True)\n",
    "        variableValues.rio.to_raster(r\"data/dev.tiff\")\n",
    "        rxDf = rx.open_rasterio(\"data/dev.tiff\")\n",
    "        cutGeoTiff(continentsDf = continentalDf\n",
    "                       , geoTiff =  rxDf\n",
    "                       ,fileName = _file_name\n",
    "                       ,outputPath = outputPath\n",
    "                      )\n",
    "        uploadFilesList = glob.glob(outputPath+\"/*\")\n",
    "        uploadFilesList = [f  for f in uploadFilesList  if variable.replace('_','-') in f and \".tiff\" in f ]\n",
    "        for up in uploadFilesList:\n",
    "            filename = up.split(\"/\")[1]\n",
    "            continent = up.split(\"v1\")[1].split(\".\")[0]\n",
    "            uploadLandingPath = f\"zone={zone}/source={source}/continent={continent}/variable={variable}/{filename}\"\n",
    "            # s3_client, bucket,filename, uploadPath\n",
    "            uploadData(s3_client=s3\n",
    "                       ,filename=up\n",
    "                       ,bucket=bucketName\n",
    "                       ,uploadPath=uploadLandingPath)\n",
    "            #print(filename,continent)\n",
    "        shutil.rmtree(\"data\")\n",
    "        os.makedirs(\"data\")"
   ]
  },
  {
   "cell_type": "code",
   "execution_count": null,
   "id": "e04bb509-d75e-4f11-b182-a3662fcd9ff0",
   "metadata": {
    "tags": []
   },
   "outputs": [],
   "source": [
    "geoFile= xr.open_dataset(\"data/Temperature-Air-2m-Min-24h_C3S-glob-agric_AgERA5_19791029_final-v1.nc\")\n",
    "geoFileC = geoFile.apply(convertKelvinCelsious)\n",
    "variable = list(geoFileC.keys())[0]"
   ]
  },
  {
   "cell_type": "code",
   "execution_count": null,
   "id": "43e31760-7ece-4559-9d2e-92ff92b6f446",
   "metadata": {
    "tags": []
   },
   "outputs": [],
   "source": [
    "variable"
   ]
  },
  {
   "cell_type": "code",
   "execution_count": null,
   "id": "0c3f01be-cc24-4c75-9f05-447404393cc5",
   "metadata": {
    "tags": []
   },
   "outputs": [],
   "source": [
    "df[df.file_name.str.contains(\"Temperature-Air-2m-Min\")]"
   ]
  },
  {
   "cell_type": "code",
   "execution_count": null,
   "id": "f066f612-66b2-417b-ae80-40c0630f447b",
   "metadata": {
    "tags": []
   },
   "outputs": [],
   "source": [
    "\n"
   ]
  },
  {
   "cell_type": "code",
   "execution_count": null,
   "id": "a1a9f9fd-37f3-473f-a683-f781d158d283",
   "metadata": {
    "tags": []
   },
   "outputs": [],
   "source": []
  },
  {
   "cell_type": "code",
   "execution_count": null,
   "id": "61f9f58f",
   "metadata": {},
   "outputs": [],
   "source": []
  },
  {
   "cell_type": "code",
   "execution_count": null,
   "id": "1592b794-bde2-4adc-b08e-847a0539c0b4",
   "metadata": {
    "tags": []
   },
   "outputs": [],
   "source": []
  },
  {
   "cell_type": "code",
   "execution_count": null,
   "id": "61d30a09",
   "metadata": {},
   "outputs": [],
   "source": []
  },
  {
   "cell_type": "code",
   "execution_count": null,
   "id": "c6fb035d",
   "metadata": {
    "tags": []
   },
   "outputs": [],
   "source": [
    "\n",
    "        \n",
    "        "
   ]
  },
  {
   "cell_type": "code",
   "execution_count": null,
   "id": "d7a4c498-99c5-47c5-8042-56a2e4d2996f",
   "metadata": {
    "tags": []
   },
   "outputs": [],
   "source": []
  }
 ],
 "metadata": {
  "kernelspec": {
   "display_name": "conda_python3",
   "language": "python",
   "name": "conda_python3"
  },
  "language_info": {
   "codemirror_mode": {
    "name": "ipython",
    "version": 3
   },
   "file_extension": ".py",
   "mimetype": "text/x-python",
   "name": "python",
   "nbconvert_exporter": "python",
   "pygments_lexer": "ipython3",
   "version": "3.10.14"
  }
 },
 "nbformat": 4,
 "nbformat_minor": 5
}
