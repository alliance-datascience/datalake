{
 "cells": [
  {
   "cell_type": "code",
   "execution_count": 1,
   "id": "4df1e2a7-d8da-47af-8ab2-01fe215150c1",
   "metadata": {
    "tags": []
   },
   "outputs": [
    {
     "name": "stdout",
     "output_type": "stream",
     "text": [
      "Collecting rioxarray\n",
      "  Obtaining dependency information for rioxarray from https://files.pythonhosted.org/packages/4e/34/8ee402df8a49228b6aae89ab2127cdd5aa0ba0976904af7d55270f4f30b8/rioxarray-0.15.0-py3-none-any.whl.metadata\n",
      "  Downloading rioxarray-0.15.0-py3-none-any.whl.metadata (6.5 kB)\n",
      "Collecting xarray[complete]\n",
      "  Obtaining dependency information for xarray[complete] from https://files.pythonhosted.org/packages/cc/21/c3a9d3017c131cea3c2967957b05448ffc81cafced239796bbbdc98073e4/xarray-2023.8.0-py3-none-any.whl.metadata\n",
      "  Downloading xarray-2023.8.0-py3-none-any.whl.metadata (6.0 kB)\n",
      "Collecting geopandas\n",
      "  Obtaining dependency information for geopandas from https://files.pythonhosted.org/packages/cb/7b/2fb6ab376c78d2e60812ad0bf4b24889309d2aeb543f54efcd586c69907f/geopandas-0.13.2-py3-none-any.whl.metadata\n",
      "  Downloading geopandas-0.13.2-py3-none-any.whl.metadata (1.5 kB)\n",
      "Requirement already satisfied: packaging in /home/ec2-user/anaconda3/envs/python3/lib/python3.10/site-packages (from rioxarray) (21.3)\n",
      "Collecting rasterio>=1.2 (from rioxarray)\n",
      "  Obtaining dependency information for rasterio>=1.2 from https://files.pythonhosted.org/packages/c8/7e/08d80abba94a41a6102b432897fe21e99896120fad2766b4875bfc06a8d2/rasterio-1.3.8-cp310-cp310-manylinux_2_17_x86_64.manylinux2014_x86_64.whl.metadata\n",
      "  Downloading rasterio-1.3.8-cp310-cp310-manylinux_2_17_x86_64.manylinux2014_x86_64.whl.metadata (14 kB)\n",
      "Collecting pyproj>=2.2 (from rioxarray)\n",
      "  Obtaining dependency information for pyproj>=2.2 from https://files.pythonhosted.org/packages/24/18/0a0895fd8c1136fea0aed5e0ee290e591b8de19c5d0cf8a1237b9e47b4b3/pyproj-3.6.0-cp310-cp310-manylinux_2_17_x86_64.manylinux2014_x86_64.whl.metadata\n",
      "  Downloading pyproj-3.6.0-cp310-cp310-manylinux_2_17_x86_64.manylinux2014_x86_64.whl.metadata (30 kB)\n",
      "Requirement already satisfied: numpy>=1.21 in /home/ec2-user/anaconda3/envs/python3/lib/python3.10/site-packages (from rioxarray) (1.22.3)\n",
      "Requirement already satisfied: pandas>=1.4 in /home/ec2-user/anaconda3/envs/python3/lib/python3.10/site-packages (from xarray[complete]) (2.0.3)\n",
      "Collecting netCDF4 (from xarray[complete])\n",
      "  Obtaining dependency information for netCDF4 from https://files.pythonhosted.org/packages/3d/2c/3d1f7c1d4287dab5bc997fed8e58bad9fc9aa9c39a692bbf1aab6b1feb19/netCDF4-1.6.4-cp310-cp310-manylinux_2_17_x86_64.manylinux2014_x86_64.whl.metadata\n",
      "  Downloading netCDF4-1.6.4-cp310-cp310-manylinux_2_17_x86_64.manylinux2014_x86_64.whl.metadata (1.6 kB)\n",
      "Collecting h5netcdf (from xarray[complete])\n",
      "  Obtaining dependency information for h5netcdf from https://files.pythonhosted.org/packages/d1/11/8116d6f209c8588ceb1382fddb8820fc720330373d9bd1a09434d684dbde/h5netcdf-1.2.0-py3-none-any.whl.metadata\n",
      "  Downloading h5netcdf-1.2.0-py3-none-any.whl.metadata (13 kB)\n",
      "Requirement already satisfied: scipy in /home/ec2-user/anaconda3/envs/python3/lib/python3.10/site-packages (from xarray[complete]) (1.11.1)\n",
      "Collecting zarr (from xarray[complete])\n",
      "  Obtaining dependency information for zarr from https://files.pythonhosted.org/packages/ba/55/0f5ec28561a1698ac5c11edc5724f8c6d48d01baecf740ffd62107d95e7f/zarr-2.16.1-py3-none-any.whl.metadata\n",
      "  Downloading zarr-2.16.1-py3-none-any.whl.metadata (5.8 kB)\n",
      "Requirement already satisfied: fsspec in /home/ec2-user/anaconda3/envs/python3/lib/python3.10/site-packages (from xarray[complete]) (2023.6.0)\n",
      "Collecting cftime (from xarray[complete])\n",
      "  Downloading cftime-1.6.2-cp310-cp310-manylinux_2_17_x86_64.manylinux2014_x86_64.whl (1.2 MB)\n",
      "\u001b[2K     \u001b[90m━━━━━━━━━━━━━━━━━━━━━━━━━━━━━━━━━━━━━━━━\u001b[0m \u001b[32m1.2/1.2 MB\u001b[0m \u001b[31m39.1 MB/s\u001b[0m eta \u001b[36m0:00:00\u001b[0m\n",
      "\u001b[?25hRequirement already satisfied: pooch in /home/ec2-user/anaconda3/envs/python3/lib/python3.10/site-packages (from xarray[complete]) (1.7.0)\n",
      "Requirement already satisfied: bottleneck in /home/ec2-user/anaconda3/envs/python3/lib/python3.10/site-packages (from xarray[complete]) (1.3.7)\n",
      "Collecting numbagg (from xarray[complete])\n",
      "  Downloading numbagg-0.2.2-py2.py3-none-any.whl (18 kB)\n",
      "Collecting flox (from xarray[complete])\n",
      "  Obtaining dependency information for flox from https://files.pythonhosted.org/packages/c8/c7/b861a2a2f11f775d01c7787b393cae3ea82f8cb903505dd3474242692ae5/flox-0.7.2-py3-none-any.whl.metadata\n",
      "  Downloading flox-0.7.2-py3-none-any.whl.metadata (17 kB)\n",
      "Requirement already satisfied: dask[complete] in /home/ec2-user/anaconda3/envs/python3/lib/python3.10/site-packages (from xarray[complete]) (2023.7.0)\n",
      "Requirement already satisfied: matplotlib in /home/ec2-user/anaconda3/envs/python3/lib/python3.10/site-packages (from xarray[complete]) (3.7.2)\n",
      "Requirement already satisfied: seaborn in /home/ec2-user/anaconda3/envs/python3/lib/python3.10/site-packages (from xarray[complete]) (0.12.2)\n",
      "Collecting nc-time-axis (from xarray[complete])\n",
      "  Downloading nc_time_axis-1.4.1-py3-none-any.whl (17 kB)\n",
      "Collecting fiona>=1.8.19 (from geopandas)\n",
      "  Obtaining dependency information for fiona>=1.8.19 from https://files.pythonhosted.org/packages/57/b9/c3821af48b949f8db275dc5bf0d66fd4cb6a492cd96d3f427bced20945ae/Fiona-1.9.4.post1-cp310-cp310-manylinux_2_17_x86_64.manylinux2014_x86_64.whl.metadata\n",
      "  Downloading Fiona-1.9.4.post1-cp310-cp310-manylinux_2_17_x86_64.manylinux2014_x86_64.whl.metadata (49 kB)\n",
      "\u001b[2K     \u001b[90m━━━━━━━━━━━━━━━━━━━━━━━━━━━━━━━━━━━━━━━━\u001b[0m \u001b[32m49.3/49.3 kB\u001b[0m \u001b[31m10.6 MB/s\u001b[0m eta \u001b[36m0:00:00\u001b[0m\n",
      "\u001b[?25hCollecting shapely>=1.7.1 (from geopandas)\n",
      "  Downloading shapely-2.0.1-cp310-cp310-manylinux_2_17_x86_64.manylinux2014_x86_64.whl (2.3 MB)\n",
      "\u001b[2K     \u001b[90m━━━━━━━━━━━━━━━━━━━━━━━━━━━━━━━━━━━━━━━━\u001b[0m \u001b[32m2.3/2.3 MB\u001b[0m \u001b[31m18.5 MB/s\u001b[0m eta \u001b[36m0:00:00\u001b[0m00:01\u001b[0m00:01\u001b[0m\n",
      "\u001b[?25hRequirement already satisfied: attrs>=19.2.0 in /home/ec2-user/anaconda3/envs/python3/lib/python3.10/site-packages (from fiona>=1.8.19->geopandas) (23.1.0)\n",
      "Requirement already satisfied: certifi in /home/ec2-user/anaconda3/envs/python3/lib/python3.10/site-packages (from fiona>=1.8.19->geopandas) (2023.5.7)\n",
      "Requirement already satisfied: click~=8.0 in /home/ec2-user/anaconda3/envs/python3/lib/python3.10/site-packages (from fiona>=1.8.19->geopandas) (8.1.6)\n",
      "Collecting click-plugins>=1.0 (from fiona>=1.8.19->geopandas)\n",
      "  Downloading click_plugins-1.1.1-py2.py3-none-any.whl (7.5 kB)\n",
      "Collecting cligj>=0.5 (from fiona>=1.8.19->geopandas)\n",
      "  Downloading cligj-0.7.2-py3-none-any.whl (7.1 kB)\n",
      "Requirement already satisfied: six in /home/ec2-user/anaconda3/envs/python3/lib/python3.10/site-packages (from fiona>=1.8.19->geopandas) (1.16.0)\n",
      "Requirement already satisfied: pyparsing!=3.0.5,>=2.0.2 in /home/ec2-user/anaconda3/envs/python3/lib/python3.10/site-packages (from packaging->rioxarray) (3.0.9)\n",
      "Requirement already satisfied: python-dateutil>=2.8.2 in /home/ec2-user/anaconda3/envs/python3/lib/python3.10/site-packages (from pandas>=1.4->xarray[complete]) (2.8.2)\n",
      "Requirement already satisfied: pytz>=2020.1 in /home/ec2-user/anaconda3/envs/python3/lib/python3.10/site-packages (from pandas>=1.4->xarray[complete]) (2023.3)\n",
      "Requirement already satisfied: tzdata>=2022.1 in /home/ec2-user/anaconda3/envs/python3/lib/python3.10/site-packages (from pandas>=1.4->xarray[complete]) (2023.3)\n",
      "Collecting affine (from rasterio>=1.2->rioxarray)\n",
      "  Downloading affine-2.4.0-py3-none-any.whl (15 kB)\n",
      "Collecting snuggs>=1.4.1 (from rasterio>=1.2->rioxarray)\n",
      "  Downloading snuggs-1.4.7-py3-none-any.whl (5.4 kB)\n",
      "Requirement already satisfied: setuptools in /home/ec2-user/anaconda3/envs/python3/lib/python3.10/site-packages (from rasterio>=1.2->rioxarray) (68.0.0)\n",
      "Requirement already satisfied: cloudpickle>=1.5.0 in /home/ec2-user/anaconda3/envs/python3/lib/python3.10/site-packages (from dask[complete]->xarray[complete]) (2.2.1)\n",
      "Requirement already satisfied: partd>=1.2.0 in /home/ec2-user/anaconda3/envs/python3/lib/python3.10/site-packages (from dask[complete]->xarray[complete]) (1.4.0)\n",
      "Requirement already satisfied: pyyaml>=5.3.1 in /home/ec2-user/anaconda3/envs/python3/lib/python3.10/site-packages (from dask[complete]->xarray[complete]) (6.0)\n",
      "Requirement already satisfied: toolz>=0.10.0 in /home/ec2-user/anaconda3/envs/python3/lib/python3.10/site-packages (from dask[complete]->xarray[complete]) (0.12.0)\n",
      "Requirement already satisfied: importlib-metadata>=4.13.0 in /home/ec2-user/anaconda3/envs/python3/lib/python3.10/site-packages (from dask[complete]->xarray[complete]) (6.8.0)\n",
      "Requirement already satisfied: pyarrow>=7.0 in /home/ec2-user/anaconda3/envs/python3/lib/python3.10/site-packages (from dask[complete]->xarray[complete]) (12.0.1)\n",
      "Requirement already satisfied: lz4>=4.3.2 in /home/ec2-user/anaconda3/envs/python3/lib/python3.10/site-packages (from dask[complete]->xarray[complete]) (4.3.2)\n",
      "Collecting numpy-groupies>=0.9.19 (from flox->xarray[complete])\n",
      "  Downloading numpy_groupies-0.9.22.tar.gz (53 kB)\n",
      "\u001b[2K     \u001b[90m━━━━━━━━━━━━━━━━━━━━━━━━━━━━━━━━━━━━━━━━\u001b[0m \u001b[32m53.3/53.3 kB\u001b[0m \u001b[31m9.7 MB/s\u001b[0m eta \u001b[36m0:00:00\u001b[0m\n",
      "\u001b[?25h  Preparing metadata (setup.py) ... \u001b[?25ldone\n",
      "\u001b[?25hRequirement already satisfied: h5py in /home/ec2-user/anaconda3/envs/python3/lib/python3.10/site-packages (from h5netcdf->xarray[complete]) (3.9.0)\n",
      "Requirement already satisfied: contourpy>=1.0.1 in /home/ec2-user/anaconda3/envs/python3/lib/python3.10/site-packages (from matplotlib->xarray[complete]) (1.1.0)\n",
      "Requirement already satisfied: cycler>=0.10 in /home/ec2-user/anaconda3/envs/python3/lib/python3.10/site-packages (from matplotlib->xarray[complete]) (0.11.0)\n",
      "Requirement already satisfied: fonttools>=4.22.0 in /home/ec2-user/anaconda3/envs/python3/lib/python3.10/site-packages (from matplotlib->xarray[complete]) (4.41.0)\n",
      "Requirement already satisfied: kiwisolver>=1.0.1 in /home/ec2-user/anaconda3/envs/python3/lib/python3.10/site-packages (from matplotlib->xarray[complete]) (1.4.4)\n",
      "Requirement already satisfied: pillow>=6.2.0 in /home/ec2-user/anaconda3/envs/python3/lib/python3.10/site-packages (from matplotlib->xarray[complete]) (9.4.0)\n",
      "Requirement already satisfied: numba in /home/ec2-user/anaconda3/envs/python3/lib/python3.10/site-packages (from numbagg->xarray[complete]) (0.57.1)\n",
      "Requirement already satisfied: platformdirs>=2.5.0 in /home/ec2-user/anaconda3/envs/python3/lib/python3.10/site-packages (from pooch->xarray[complete]) (3.9.1)\n",
      "Requirement already satisfied: requests>=2.19.0 in /home/ec2-user/anaconda3/envs/python3/lib/python3.10/site-packages (from pooch->xarray[complete]) (2.31.0)\n",
      "Collecting asciitree (from zarr->xarray[complete])\n",
      "  Downloading asciitree-0.3.3.tar.gz (4.0 kB)\n",
      "  Preparing metadata (setup.py) ... \u001b[?25ldone\n",
      "\u001b[?25hCollecting fasteners (from zarr->xarray[complete])\n",
      "  Downloading fasteners-0.18-py3-none-any.whl (18 kB)\n",
      "Collecting numcodecs>=0.10.0 (from zarr->xarray[complete])\n",
      "  Downloading numcodecs-0.11.0-cp310-cp310-manylinux_2_17_x86_64.manylinux2014_x86_64.whl (6.7 MB)\n",
      "\u001b[2K     \u001b[90m━━━━━━━━━━━━━━━━━━━━━━━━━━━━━━━━━━━━━━━━\u001b[0m \u001b[32m6.7/6.7 MB\u001b[0m \u001b[31m32.4 MB/s\u001b[0m eta \u001b[36m0:00:00\u001b[0m00:01\u001b[0m:00:01\u001b[0m\n",
      "\u001b[?25hRequirement already satisfied: zipp>=0.5 in /home/ec2-user/anaconda3/envs/python3/lib/python3.10/site-packages (from importlib-metadata>=4.13.0->dask[complete]->xarray[complete]) (3.16.2)\n",
      "Requirement already satisfied: entrypoints in /home/ec2-user/anaconda3/envs/python3/lib/python3.10/site-packages (from numcodecs>=0.10.0->zarr->xarray[complete]) (0.4)\n",
      "Requirement already satisfied: locket in /home/ec2-user/anaconda3/envs/python3/lib/python3.10/site-packages (from partd>=1.2.0->dask[complete]->xarray[complete]) (1.0.0)\n",
      "Requirement already satisfied: charset-normalizer<4,>=2 in /home/ec2-user/anaconda3/envs/python3/lib/python3.10/site-packages (from requests>=2.19.0->pooch->xarray[complete]) (3.2.0)\n",
      "Requirement already satisfied: idna<4,>=2.5 in /home/ec2-user/anaconda3/envs/python3/lib/python3.10/site-packages (from requests>=2.19.0->pooch->xarray[complete]) (3.4)\n",
      "Requirement already satisfied: urllib3<3,>=1.21.1 in /home/ec2-user/anaconda3/envs/python3/lib/python3.10/site-packages (from requests>=2.19.0->pooch->xarray[complete]) (1.26.14)\n",
      "Requirement already satisfied: distributed==2023.7.0 in /home/ec2-user/anaconda3/envs/python3/lib/python3.10/site-packages (from dask[complete]->xarray[complete]) (2023.7.0)\n",
      "Requirement already satisfied: bokeh>=2.4.2 in /home/ec2-user/anaconda3/envs/python3/lib/python3.10/site-packages (from dask[complete]->xarray[complete]) (3.2.0)\n",
      "Requirement already satisfied: jinja2>=2.10.3 in /home/ec2-user/anaconda3/envs/python3/lib/python3.10/site-packages (from dask[complete]->xarray[complete]) (3.1.2)\n",
      "Requirement already satisfied: msgpack>=1.0.0 in /home/ec2-user/anaconda3/envs/python3/lib/python3.10/site-packages (from distributed==2023.7.0->dask[complete]->xarray[complete]) (1.0.5)\n",
      "Requirement already satisfied: psutil>=5.7.2 in /home/ec2-user/anaconda3/envs/python3/lib/python3.10/site-packages (from distributed==2023.7.0->dask[complete]->xarray[complete]) (5.9.5)\n",
      "Requirement already satisfied: sortedcontainers>=2.0.5 in /home/ec2-user/anaconda3/envs/python3/lib/python3.10/site-packages (from distributed==2023.7.0->dask[complete]->xarray[complete]) (2.4.0)\n",
      "Requirement already satisfied: tblib>=1.6.0 in /home/ec2-user/anaconda3/envs/python3/lib/python3.10/site-packages (from distributed==2023.7.0->dask[complete]->xarray[complete]) (1.7.0)\n",
      "Requirement already satisfied: tornado>=6.0.4 in /home/ec2-user/anaconda3/envs/python3/lib/python3.10/site-packages (from distributed==2023.7.0->dask[complete]->xarray[complete]) (6.3.2)\n",
      "Requirement already satisfied: zict>=2.2.0 in /home/ec2-user/anaconda3/envs/python3/lib/python3.10/site-packages (from distributed==2023.7.0->dask[complete]->xarray[complete]) (3.0.0)\n",
      "Requirement already satisfied: llvmlite<0.41,>=0.40.0dev0 in /home/ec2-user/anaconda3/envs/python3/lib/python3.10/site-packages (from numba->numbagg->xarray[complete]) (0.40.1)\n",
      "Requirement already satisfied: xyzservices>=2021.09.1 in /home/ec2-user/anaconda3/envs/python3/lib/python3.10/site-packages (from bokeh>=2.4.2->dask[complete]->xarray[complete]) (2023.7.0)\n",
      "Requirement already satisfied: MarkupSafe>=2.0 in /home/ec2-user/anaconda3/envs/python3/lib/python3.10/site-packages (from jinja2>=2.10.3->dask[complete]->xarray[complete]) (2.1.3)\n",
      "Downloading rioxarray-0.15.0-py3-none-any.whl (53 kB)\n",
      "\u001b[2K   \u001b[90m━━━━━━━━━━━━━━━━━━━━━━━━━━━━━━━━━━━━━━━━\u001b[0m \u001b[32m53.7/53.7 kB\u001b[0m \u001b[31m14.6 MB/s\u001b[0m eta \u001b[36m0:00:00\u001b[0m\n",
      "\u001b[?25hDownloading geopandas-0.13.2-py3-none-any.whl (1.1 MB)\n",
      "\u001b[2K   \u001b[90m━━━━━━━━━━━━━━━━━━━━━━━━━━━━━━━━━━━━━━━━\u001b[0m \u001b[32m1.1/1.1 MB\u001b[0m \u001b[31m14.4 MB/s\u001b[0m eta \u001b[36m0:00:00\u001b[0m:00:01\u001b[0m\n",
      "\u001b[?25hDownloading Fiona-1.9.4.post1-cp310-cp310-manylinux_2_17_x86_64.manylinux2014_x86_64.whl (16.4 MB)\n",
      "\u001b[2K   \u001b[90m━━━━━━━━━━━━━━━━━━━━━━━━━━━━━━━━━━━━━━━━\u001b[0m \u001b[32m16.4/16.4 MB\u001b[0m \u001b[31m41.3 MB/s\u001b[0m eta \u001b[36m0:00:00\u001b[0m:00:01\u001b[0m00:01\u001b[0m\n",
      "\u001b[?25hDownloading pyproj-3.6.0-cp310-cp310-manylinux_2_17_x86_64.manylinux2014_x86_64.whl (7.9 MB)\n",
      "\u001b[2K   \u001b[90m━━━━━━━━━━━━━━━━━━━━━━━━━━━━━━━━━━━━━━━━\u001b[0m \u001b[32m7.9/7.9 MB\u001b[0m \u001b[31m50.0 MB/s\u001b[0m eta \u001b[36m0:00:00\u001b[0m:00:01\u001b[0m00:01\u001b[0m\n",
      "\u001b[?25hDownloading rasterio-1.3.8-cp310-cp310-manylinux_2_17_x86_64.manylinux2014_x86_64.whl (21.3 MB)\n",
      "\u001b[2K   \u001b[90m━━━━━━━━━━━━━━━━━━━━━━━━━━━━━━━━━━━━━━━━\u001b[0m \u001b[32m21.3/21.3 MB\u001b[0m \u001b[31m19.5 MB/s\u001b[0m eta \u001b[36m0:00:00\u001b[0m:00:01\u001b[0m0:01\u001b[0m\n",
      "\u001b[?25hDownloading xarray-2023.8.0-py3-none-any.whl (1.0 MB)\n",
      "\u001b[2K   \u001b[90m━━━━━━━━━━━━━━━━━━━━━━━━━━━━━━━━━━━━━━━━\u001b[0m \u001b[32m1.0/1.0 MB\u001b[0m \u001b[31m11.6 MB/s\u001b[0m eta \u001b[36m0:00:00\u001b[0m:00:01\u001b[0m\n",
      "\u001b[?25hDownloading flox-0.7.2-py3-none-any.whl (54 kB)\n",
      "\u001b[2K   \u001b[90m━━━━━━━━━━━━━━━━━━━━━━━━━━━━━━━━━━━━━━━━\u001b[0m \u001b[32m54.1/54.1 kB\u001b[0m \u001b[31m11.1 MB/s\u001b[0m eta \u001b[36m0:00:00\u001b[0m\n",
      "\u001b[?25hDownloading h5netcdf-1.2.0-py3-none-any.whl (43 kB)\n",
      "\u001b[2K   \u001b[90m━━━━━━━━━━━━━━━━━━━━━━━━━━━━━━━━━━━━━━━━\u001b[0m \u001b[32m43.3/43.3 kB\u001b[0m \u001b[31m7.6 MB/s\u001b[0m eta \u001b[36m0:00:00\u001b[0m\n",
      "\u001b[?25hDownloading netCDF4-1.6.4-cp310-cp310-manylinux_2_17_x86_64.manylinux2014_x86_64.whl (5.4 MB)\n",
      "\u001b[2K   \u001b[90m━━━━━━━━━━━━━━━━━━━━━━━━━━━━━━━━━━━━━━━━\u001b[0m \u001b[32m5.4/5.4 MB\u001b[0m \u001b[31m99.0 MB/s\u001b[0m eta \u001b[36m0:00:00\u001b[0m:00:01\u001b[0m\n",
      "\u001b[?25hDownloading zarr-2.16.1-py3-none-any.whl (206 kB)\n",
      "\u001b[2K   \u001b[90m━━━━━━━━━━━━━━━━━━━━━━━━━━━━━━━━━━━━━━━━\u001b[0m \u001b[32m206.9/206.9 kB\u001b[0m \u001b[31m35.9 MB/s\u001b[0m eta \u001b[36m0:00:00\u001b[0m\n",
      "\u001b[?25hBuilding wheels for collected packages: numpy-groupies, asciitree\n",
      "  Building wheel for numpy-groupies (setup.py) ... \u001b[?25ldone\n",
      "\u001b[?25h  Created wheel for numpy-groupies: filename=numpy_groupies-0.9.22-py3-none-any.whl size=25846 sha256=f581585de972f5c3d6038c2e28ee968499220ed82bc9a75644ed4a6ad557f673\n",
      "  Stored in directory: /home/ec2-user/.cache/pip/wheels/5b/ce/73/9192b12bb05cc6a44ba159cb733270b1539004037302a42077\n",
      "  Building wheel for asciitree (setup.py) ... \u001b[?25ldone\n",
      "\u001b[?25h  Created wheel for asciitree: filename=asciitree-0.3.3-py3-none-any.whl size=5034 sha256=57ac1bdd009688ee43d516656e64c326199dde778fded5d1b2e3db7af1dfbd12\n",
      "  Stored in directory: /home/ec2-user/.cache/pip/wheels/7f/4e/be/1171b40f43b918087657ec57cf3b81fa1a2e027d8755baa184\n",
      "Successfully built numpy-groupies asciitree\n",
      "Installing collected packages: asciitree, snuggs, shapely, pyproj, numpy-groupies, numcodecs, fasteners, cligj, click-plugins, cftime, affine, zarr, rasterio, numbagg, netCDF4, h5netcdf, fiona, xarray, nc-time-axis, geopandas, flox, rioxarray\n",
      "Successfully installed affine-2.4.0 asciitree-0.3.3 cftime-1.6.2 click-plugins-1.1.1 cligj-0.7.2 fasteners-0.18 fiona-1.9.4.post1 flox-0.7.2 geopandas-0.13.2 h5netcdf-1.2.0 nc-time-axis-1.4.1 netCDF4-1.6.4 numbagg-0.2.2 numcodecs-0.11.0 numpy-groupies-0.9.22 pyproj-3.6.0 rasterio-1.3.8 rioxarray-0.15.0 shapely-2.0.1 snuggs-1.4.7 xarray-2023.8.0 zarr-2.16.1\n"
     ]
    }
   ],
   "source": [
    " !pip install rioxarray \"xarray[complete]\" geopandas\n"
   ]
  },
  {
   "cell_type": "code",
   "execution_count": 2,
   "id": "cca629ec-8c78-443a-8482-a76990d40322",
   "metadata": {
    "tags": []
   },
   "outputs": [],
   "source": [
    "import rioxarray as rx\n",
    "import pandas as pd\n",
    "import boto3\n",
    "import xarray as xr\n",
    "import glob\n",
    "import shutil\n",
    "import os\n",
    "import zarr\n",
    "import s3fs\n",
    "import geopandas as gpd\n",
    "from dask.diagnostics import ProgressBar"
   ]
  },
  {
   "cell_type": "code",
   "execution_count": 3,
   "id": "8c3eefcb-d0e0-44f1-b63b-3b91ec5f4bbd",
   "metadata": {
    "tags": []
   },
   "outputs": [],
   "source": [
    "pathS3 = \"s3://climate-action-datalake/zone=raw/source=agera5\"\n",
    "localPath = 'data/*.nc'"
   ]
  },
  {
   "cell_type": "code",
   "execution_count": 4,
   "id": "62ebd39b-71f1-4164-86fe-798a1d353e63",
   "metadata": {
    "tags": []
   },
   "outputs": [],
   "source": [
    "def convertRadiation(k):\n",
    "    c = k/1000000\n",
    "    return c"
   ]
  },
  {
   "cell_type": "code",
   "execution_count": 5,
   "id": "edd7d96c-5f63-437f-b645-29308c0a886f",
   "metadata": {
    "tags": []
   },
   "outputs": [],
   "source": [
    "allFiles = xr.open_mfdataset(localPath,parallel=True)"
   ]
  },
  {
   "cell_type": "code",
   "execution_count": 6,
   "id": "2f3a56f1-edc9-47f0-b1b5-059fac13f95b",
   "metadata": {
    "tags": []
   },
   "outputs": [
    {
     "name": "stdout",
     "output_type": "stream",
     "text": [
      "Hola mundo\n"
     ]
    }
   ],
   "source": [
    "print('Hola mundo')"
   ]
  },
  {
   "cell_type": "code",
   "execution_count": 7,
   "id": "551ad518-2985-493d-bdb6-5554d18905ff",
   "metadata": {
    "tags": []
   },
   "outputs": [],
   "source": [
    "allFiles = allFiles.apply(convertRadiation)"
   ]
  },
  {
   "cell_type": "code",
   "execution_count": 19,
   "id": "8698e010-fa4f-49cc-b53c-a3981b66b295",
   "metadata": {
    "tags": []
   },
   "outputs": [],
   "source": [
    "compressor = zarr.Blosc(cname='zstd')\n",
    "encoding = {vname: {'compressor': compressor,'chunks': (1,1801,3600)} for vname in allFiles.data_vars}\n"
   ]
  },
  {
   "cell_type": "code",
   "execution_count": 20,
   "id": "2839578f-c3e0-4ea4-b5e1-5afb7f18f172",
   "metadata": {
    "tags": []
   },
   "outputs": [],
   "source": [
    "s3 = s3fs.S3FileSystem()\n",
    "store = s3fs.S3Map(root=\"s3://climate-action-datalake/zone=raw/source=agera5/variable=solarRadiationFlux.zarr\", s3=s3, check=False)"
   ]
  },
  {
   "cell_type": "code",
   "execution_count": 21,
   "id": "3899fc5e-5a58-41c7-9bf7-6803a8f209b3",
   "metadata": {
    "tags": []
   },
   "outputs": [
    {
     "name": "stdout",
     "output_type": "stream",
     "text": [
      "[########################################] | 100% Completed | 50m 8ss\n"
     ]
    }
   ],
   "source": [
    "with ProgressBar():\n",
    "    result = allFiles.to_zarr(store=store, encoding=encoding, consolidated=True)"
   ]
  },
  {
   "cell_type": "code",
   "execution_count": 22,
   "id": "dbae9c74-d82f-493e-abf5-0b4967d5e323",
   "metadata": {
    "tags": []
   },
   "outputs": [
    {
     "name": "stdout",
     "output_type": "stream",
     "text": [
      "He finalizado\n"
     ]
    }
   ],
   "source": [
    "print(\"He finalizado\")"
   ]
  }
 ],
 "metadata": {
  "kernelspec": {
   "display_name": "conda_python3",
   "language": "python",
   "name": "conda_python3"
  },
  "language_info": {
   "codemirror_mode": {
    "name": "ipython",
    "version": 3
   },
   "file_extension": ".py",
   "mimetype": "text/x-python",
   "name": "python",
   "nbconvert_exporter": "python",
   "pygments_lexer": "ipython3",
   "version": "3.10.12"
  }
 },
 "nbformat": 4,
 "nbformat_minor": 5
}
