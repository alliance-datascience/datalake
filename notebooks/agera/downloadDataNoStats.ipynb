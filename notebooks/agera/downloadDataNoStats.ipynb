{
 "cells": [
  {
   "cell_type": "code",
   "execution_count": 2,
   "metadata": {
    "tags": []
   },
   "outputs": [],
   "source": [
    "#!pip install cdsapi"
   ]
  },
  {
   "cell_type": "code",
   "execution_count": 1,
   "metadata": {
    "tags": []
   },
   "outputs": [],
   "source": [
    "import cdsapi\n",
    "import os\n",
    "from zipfile import ZipFile\n",
    "import glob\n",
    "import boto3\n",
    "import shutil\n",
    "import argparse\n",
    "import logging\n",
    "import yaml\n",
    "from yaml.loader import SafeLoader\n",
    "logging.basicConfig(format='%(asctime)s %(message)s')\n"
   ]
  },
  {
   "cell_type": "code",
   "execution_count": 8,
   "metadata": {},
   "outputs": [],
   "source": [
    "ymlPath = 'conf/chirps.yml'\n",
    "\n",
    "\n",
    "key=\"187933:64547c55-b131-4cec-a39e-f455bf2b12b3\"\n",
    "url = \"https://cds.climate.copernicus.eu/api/v2\"\n",
    "user = \"129570\"\n",
    "bucket = \"climate-action-datalake\"\n",
    "localDownloadPath = \"data/\"\n",
    "zipName=\"sample.zip\"\n",
    "datalakeZone=\"landing\"\n",
    "source=\"agera5\"\n",
    "# print(key)\n",
    "\n",
    "\n",
    "s3_client = boto3.client('s3')\n",
    "\n",
    "#variableNames = [\"2m_relative_humidity\"] # 2m_relative_humidity-solar_radiation_flux-10m_wind_speed\n",
    "days=range(1,32)\n",
    "#variableS3= \"2m_relative_humidity\" #  2m_relative_humidity-10m-wind-speed-solar-radiation-flux\n"
   ]
  },
  {
   "cell_type": "code",
   "execution_count": null,
   "metadata": {},
   "outputs": [],
   "source": [
    "def readYamlConf(path: str):\n",
    "    with open(path,'r') as conf:\n",
    "        confArgs = yaml.load(conf, Loader= SafeLoader)\n",
    "        #print(confArgs)\n",
    "    return confArgs\n",
    "\n",
    "def downloadAgera5Data(variableName:str\n",
    "                       ,statistics:[]\n",
    "                       ,year:[]\n",
    "                       ,month:[]\n",
    "                       ,day:[]\n",
    "                       ,bucket:str\n",
    "                       ,downloadPath:str\n",
    "                       ,zipName:str\n",
    "                       ,datalakeZone:str\n",
    "                       ,source:str\n",
    "                       ,variable:str\n",
    "                       ,url:str\n",
    "                       ,key:str\n",
    "                      ):\n",
    "    cds =cdsapi.Client(key=key,url=url)\n",
    "    sisK=\"sis-agrometeorological-indicators\"\n",
    "    for _year in year:\n",
    "        for _month in month:\n",
    "            for _day in day:\n",
    "                jsonCopernicus = {'format':'zip'\n",
    "                                   ,'version': '1_1'\n",
    "                            #  ,'statistic':statistics\n",
    "                                ,'variable': variableName\n",
    "                                ,'year':[str(_year)]\n",
    "                                ,'month':[f\"{_month:02d}\"]\n",
    "                                ,'day':[f\"{_day:02d}\"]  \n",
    "                                ,'time': '12_00'\n",
    "                              }\n",
    "                try:\n",
    "\n",
    "                    cds.retrieve(sisK,jsonCopernicus,localDownloadPath+zipName)\n",
    "                    with  ZipFile(downloadPath+zipName,'r') as z:\n",
    "                        z.extractall(path=downloadPath)\n",
    "                    filesUpload = glob.glob(downloadPath+\"*.nc\")\n",
    "                    for _file in filesUpload:\n",
    "                        s3Path= f\"zone={datalakeZone}/source={source}/variable={variable}/\"\n",
    "                        response = s3_client.upload_file(_file\n",
    "                                                         , bucket\n",
    "                                                         ,s3Path+_file.split(\"/\")[1])\n",
    "                        os.remove(_file)\n",
    "                        \n",
    "                except:\n",
    "                    print(_year,_month,_day)\n",
    "\n",
    "def callDownloadData(arguments):\n",
    "    if arguments.year and arguments.month and arguments.variable:\n",
    "        downloadAgera5Data(variableName=variableNames\n",
    "                   ,statistics=statistics\n",
    "                   ,year=arguments.year\n",
    "                   ,month=arguments.month\n",
    "                   ,day=days\n",
    "                   ,bucket=bucket\n",
    "                   ,downloadPath=localDownloadPath\n",
    "                   ,zipName=zipName\n",
    "                   ,datalakeZone=datalakeZone\n",
    "                   ,source=source\n",
    "                   ,variable=arguments.variable\n",
    "                   ,url=url\n",
    "                   ,key=key\n",
    "                  )\n",
    "    else:\n",
    "        logging.info(msg:\"Nothing arguments passes\")\n",
    "        "
   ]
  },
  {
   "cell_type": "code",
   "execution_count": null,
   "metadata": {},
   "outputs": [],
   "source": [
    "cds =cdsapi.Client(key=key,url=url)"
   ]
  },
  {
   "cell_type": "code",
   "execution_count": 9,
   "metadata": {},
   "outputs": [],
   "source": [
    "if __name__ == '__main__':\n",
    "    parser = argparse.ArgumentParser()\n",
    "    parser.add_argument('--year')\n",
    "    parser.add_argument('--month')\n",
    "    parser.add_argument('--variable')\n",
    "    args = parser.parse_args()\n",
    "    logging.info(\"Starting download rutine\")\n",
    "    callDownloadData(args)\n",
    "    "
   ]
  },
  {
   "cell_type": "code",
   "execution_count": null,
   "metadata": {
    "tags": []
   },
   "outputs": [],
   "source": [
    "# os.remove(filesUpload[1])"
   ]
  },
  {
   "cell_type": "code",
   "execution_count": 4,
   "metadata": {
    "tags": []
   },
   "outputs": [],
   "source": [
    "import glob\n",
    "filesUpload = glob.glob(\"/home/ec2-user/SageMaker/datalake/data/agera/solarFlux/brozen/\"+\"*.nc\")"
   ]
  },
  {
   "cell_type": "code",
   "execution_count": 5,
   "metadata": {
    "tags": []
   },
   "outputs": [
    {
     "data": {
      "text/plain": [
       "['/home/ec2-user/SageMaker/datalake/data/agera/solarFlux/brozen/Solar-Radiation-Flux_C3S-glob-agric_AgERA5_20240102_final-v1.1.nc',\n",
       " '/home/ec2-user/SageMaker/datalake/data/agera/solarFlux/brozen/Solar-Radiation-Flux_C3S-glob-agric_AgERA5_20240103_final-v1.1.nc',\n",
       " '/home/ec2-user/SageMaker/datalake/data/agera/solarFlux/brozen/Solar-Radiation-Flux_C3S-glob-agric_AgERA5_20240104_final-v1.1.nc',\n",
       " '/home/ec2-user/SageMaker/datalake/data/agera/solarFlux/brozen/Solar-Radiation-Flux_C3S-glob-agric_AgERA5_20240101_final-v1.1.nc']"
      ]
     },
     "execution_count": 5,
     "metadata": {},
     "output_type": "execute_result"
    }
   ],
   "source": [
    "filesUpload"
   ]
  }
 ],
 "metadata": {
  "kernelspec": {
   "display_name": "conda_python3",
   "language": "python",
   "name": "conda_python3"
  },
  "language_info": {
   "codemirror_mode": {
    "name": "ipython",
    "version": 3
   },
   "file_extension": ".py",
   "mimetype": "text/x-python",
   "name": "python",
   "nbconvert_exporter": "python",
   "pygments_lexer": "ipython3",
   "version": "3.10.14"
  }
 },
 "nbformat": 4,
 "nbformat_minor": 4
}
