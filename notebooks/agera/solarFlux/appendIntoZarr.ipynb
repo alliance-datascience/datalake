{
 "cells": [
  {
   "cell_type": "code",
   "execution_count": 1,
   "id": "4df1e2a7-d8da-47af-8ab2-01fe215150c1",
   "metadata": {
    "tags": []
   },
   "outputs": [],
   "source": [
    "%%capture\n",
    "!pip install -U \"xarray[complete]\" netCDF4 \n"
   ]
  },
  {
   "cell_type": "code",
   "execution_count": 8,
   "id": "cca629ec-8c78-443a-8482-a76990d40322",
   "metadata": {
    "tags": []
   },
   "outputs": [],
   "source": [
    "import pandas as pd\n",
    "import boto3\n",
    "import xarray as xr\n",
    "import os\n",
    "import zarr\n",
    "import s3fs\n",
    "from dask.diagnostics import ProgressBar\n",
    "from datetime import datetime\n",
    "from yaml import safe_load\n",
    "from numcodecs import blosc\n",
    "import logging\n",
    "logging.basicConfig(format='%(asctime)s %(message)s')"
   ]
  },
  {
   "cell_type": "code",
   "execution_count": 10,
   "id": "1cfc99ca-3efd-4697-a74f-1fd182ae0a1f",
   "metadata": {
    "tags": []
   },
   "outputs": [
    {
     "name": "stderr",
     "output_type": "stream",
     "text": [
      "2024-05-06 14:23:17,023 Loading files to append\n"
     ]
    }
   ],
   "source": [
    "# Don't forget to disable fixed env\n",
    "s3 = s3fs.S3FileSystem()\n",
    "os.environ[\"DATALAKE_CONF_PATH\"] = \"/home/ec2-user/SageMaker/datalake/conf/data/configuration.yml\"\n",
    "confType = 'agera5ArgumentsSolarFlux'\n",
    "ymlPath = os.environ[\"DATALAKE_CONF_PATH\"]\n",
    "conf_args = safe_load(open(ymlPath, 'r'))  # Use safe_load for security\n",
    "confFile = conf_args[confType]\n",
    "ageraS3 = s3fs.S3Map(root=confFile['s3Raw'], s3=s3, check=False)\n",
    "logging.warning(\"Loading files to append\")\n",
    "ncToLoad = os.listdir(confFile['pathforReggrid'])"
   ]
  },
  {
   "cell_type": "code",
   "execution_count": 17,
   "id": "be005ec5-d635-4a23-93b5-9c0fd3ed6a4d",
   "metadata": {
    "tags": []
   },
   "outputs": [],
   "source": [
    "def convertRadiation(k):\n",
    "    c = k/1000000\n",
    "    return c\n",
    "\n",
    "def netcdfChange(path\n",
    "                 , file\n",
    "                 ,variableName: str\n",
    "                ):\n",
    "    dt = file.split('_')[-2]\n",
    "    dt = datetime.strptime(dt,'%Y%m%d')\n",
    "    f = xr.open_dataset(path+file)\n",
    "    f = f.drop_vars(['crs'])\n",
    "    f = f.rename_vars(name_dict = {'Band1':variableName})\n",
    "    #time_da = xr.DataArray({'time': dt})\n",
    "    f = f.assign_coords(time = dt)\n",
    "    f = f.expand_dims(dim=\"time\")\n",
    "    return f"
   ]
  },
  {
   "cell_type": "code",
   "execution_count": 18,
   "id": "d55cdcfe-16ef-41d3-a533-a3d3ff6568c0",
   "metadata": {
    "tags": []
   },
   "outputs": [
    {
     "name": "stderr",
     "output_type": "stream",
     "text": [
      "2024-05-06 14:35:20,380 Opening Solar-Radiation-Flux_C3S-glob-agric_AgERA5_20240101_final-v1.1.nc \n",
      "2024-05-06 14:35:20,578 Organizing dimensions\n",
      "2024-05-06 14:35:20,579 Insert finished\n",
      "2024-05-06 14:35:20,580 Opening Solar-Radiation-Flux_C3S-glob-agric_AgERA5_20240102_final-v1.1.nc \n",
      "2024-05-06 14:35:20,772 Organizing dimensions\n",
      "2024-05-06 14:35:20,773 Insert finished\n",
      "2024-05-06 14:35:20,774 Opening Solar-Radiation-Flux_C3S-glob-agric_AgERA5_20240103_final-v1.1.nc \n"
     ]
    },
    {
     "name": "stdout",
     "output_type": "stream",
     "text": [
      "Hellooooo\n",
      "Hellooooo\n"
     ]
    },
    {
     "name": "stderr",
     "output_type": "stream",
     "text": [
      "2024-05-06 14:35:20,965 Organizing dimensions\n",
      "2024-05-06 14:35:20,966 Insert finished\n",
      "2024-05-06 14:35:20,967 Opening Solar-Radiation-Flux_C3S-glob-agric_AgERA5_20240104_final-v1.1.nc \n",
      "2024-05-06 14:35:21,158 Organizing dimensions\n",
      "2024-05-06 14:35:21,159 Insert finished\n",
      "2024-05-06 14:35:21,160 Opening Solar-Radiation-Flux_C3S-glob-agric_AgERA5_20240105_final-v1.1.nc \n"
     ]
    },
    {
     "name": "stdout",
     "output_type": "stream",
     "text": [
      "Hellooooo\n",
      "Hellooooo\n"
     ]
    },
    {
     "name": "stderr",
     "output_type": "stream",
     "text": [
      "2024-05-06 14:35:21,350 Organizing dimensions\n",
      "2024-05-06 14:35:21,352 Insert finished\n",
      "2024-05-06 14:35:21,352 Opening Solar-Radiation-Flux_C3S-glob-agric_AgERA5_20240106_final-v1.1.nc \n",
      "2024-05-06 14:35:21,543 Organizing dimensions\n",
      "2024-05-06 14:35:21,544 Insert finished\n",
      "2024-05-06 14:35:21,545 Opening Solar-Radiation-Flux_C3S-glob-agric_AgERA5_20240107_final-v1.1.nc \n"
     ]
    },
    {
     "name": "stdout",
     "output_type": "stream",
     "text": [
      "Hellooooo\n",
      "Hellooooo\n"
     ]
    },
    {
     "name": "stderr",
     "output_type": "stream",
     "text": [
      "2024-05-06 14:35:21,736 Organizing dimensions\n",
      "2024-05-06 14:35:21,737 Insert finished\n",
      "2024-05-06 14:35:21,738 Opening Solar-Radiation-Flux_C3S-glob-agric_AgERA5_20240108_final-v1.1.nc \n",
      "2024-05-06 14:35:21,930 Organizing dimensions\n",
      "2024-05-06 14:35:21,931 Insert finished\n",
      "2024-05-06 14:35:21,931 Opening Solar-Radiation-Flux_C3S-glob-agric_AgERA5_20240109_final-v1.1.nc \n"
     ]
    },
    {
     "name": "stdout",
     "output_type": "stream",
     "text": [
      "Hellooooo\n",
      "Hellooooo\n"
     ]
    },
    {
     "name": "stderr",
     "output_type": "stream",
     "text": [
      "2024-05-06 14:35:22,122 Organizing dimensions\n",
      "2024-05-06 14:35:22,123 Insert finished\n",
      "2024-05-06 14:35:22,124 Opening Solar-Radiation-Flux_C3S-glob-agric_AgERA5_20240110_final-v1.1.nc \n",
      "2024-05-06 14:35:22,314 Organizing dimensions\n",
      "2024-05-06 14:35:22,315 Insert finished\n",
      "2024-05-06 14:35:22,316 Opening Solar-Radiation-Flux_C3S-glob-agric_AgERA5_20240111_final-v1.1.nc \n"
     ]
    },
    {
     "name": "stdout",
     "output_type": "stream",
     "text": [
      "Hellooooo\n",
      "Hellooooo\n"
     ]
    },
    {
     "name": "stderr",
     "output_type": "stream",
     "text": [
      "2024-05-06 14:35:22,506 Organizing dimensions\n",
      "2024-05-06 14:35:22,507 Insert finished\n",
      "2024-05-06 14:35:22,507 Opening Solar-Radiation-Flux_C3S-glob-agric_AgERA5_20240112_final-v1.1.nc \n",
      "2024-05-06 14:35:22,697 Organizing dimensions\n",
      "2024-05-06 14:35:22,698 Insert finished\n",
      "2024-05-06 14:35:22,699 Opening Solar-Radiation-Flux_C3S-glob-agric_AgERA5_20240113_final-v1.1.nc \n"
     ]
    },
    {
     "name": "stdout",
     "output_type": "stream",
     "text": [
      "Hellooooo\n",
      "Hellooooo\n"
     ]
    },
    {
     "name": "stderr",
     "output_type": "stream",
     "text": [
      "2024-05-06 14:35:22,888 Organizing dimensions\n",
      "2024-05-06 14:35:22,889 Insert finished\n",
      "2024-05-06 14:35:22,890 Opening Solar-Radiation-Flux_C3S-glob-agric_AgERA5_20240114_final-v1.1.nc \n",
      "2024-05-06 14:35:23,080 Organizing dimensions\n",
      "2024-05-06 14:35:23,080 Insert finished\n",
      "2024-05-06 14:35:23,081 Opening Solar-Radiation-Flux_C3S-glob-agric_AgERA5_20240115_final-v1.1.nc \n"
     ]
    },
    {
     "name": "stdout",
     "output_type": "stream",
     "text": [
      "Hellooooo\n",
      "Hellooooo\n"
     ]
    },
    {
     "name": "stderr",
     "output_type": "stream",
     "text": [
      "2024-05-06 14:35:23,271 Organizing dimensions\n",
      "2024-05-06 14:35:23,272 Insert finished\n",
      "2024-05-06 14:35:23,273 Opening Solar-Radiation-Flux_C3S-glob-agric_AgERA5_20240116_final-v1.1.nc \n",
      "2024-05-06 14:35:23,463 Organizing dimensions\n",
      "2024-05-06 14:35:23,464 Insert finished\n",
      "2024-05-06 14:35:23,465 Opening Solar-Radiation-Flux_C3S-glob-agric_AgERA5_20240117_final-v1.1.nc \n"
     ]
    },
    {
     "name": "stdout",
     "output_type": "stream",
     "text": [
      "Hellooooo\n",
      "Hellooooo\n"
     ]
    },
    {
     "name": "stderr",
     "output_type": "stream",
     "text": [
      "2024-05-06 14:35:23,655 Organizing dimensions\n",
      "2024-05-06 14:35:23,656 Insert finished\n",
      "2024-05-06 14:35:23,657 Opening Solar-Radiation-Flux_C3S-glob-agric_AgERA5_20240118_final-v1.1.nc \n",
      "2024-05-06 14:35:23,847 Organizing dimensions\n",
      "2024-05-06 14:35:23,848 Insert finished\n",
      "2024-05-06 14:35:23,849 Opening Solar-Radiation-Flux_C3S-glob-agric_AgERA5_20240119_final-v1.1.nc \n"
     ]
    },
    {
     "name": "stdout",
     "output_type": "stream",
     "text": [
      "Hellooooo\n",
      "Hellooooo\n"
     ]
    },
    {
     "name": "stderr",
     "output_type": "stream",
     "text": [
      "2024-05-06 14:35:24,040 Organizing dimensions\n",
      "2024-05-06 14:35:24,041 Insert finished\n",
      "2024-05-06 14:35:24,041 Opening Solar-Radiation-Flux_C3S-glob-agric_AgERA5_20240120_final-v1.1.nc \n",
      "2024-05-06 14:35:24,233 Organizing dimensions\n",
      "2024-05-06 14:35:24,234 Insert finished\n",
      "2024-05-06 14:35:24,235 Opening Solar-Radiation-Flux_C3S-glob-agric_AgERA5_20240121_final-v1.1.nc \n"
     ]
    },
    {
     "name": "stdout",
     "output_type": "stream",
     "text": [
      "Hellooooo\n",
      "Hellooooo\n"
     ]
    },
    {
     "name": "stderr",
     "output_type": "stream",
     "text": [
      "2024-05-06 14:35:24,423 Organizing dimensions\n",
      "2024-05-06 14:35:24,424 Insert finished\n",
      "2024-05-06 14:35:24,425 Opening Solar-Radiation-Flux_C3S-glob-agric_AgERA5_20240122_final-v1.1.nc \n",
      "2024-05-06 14:35:24,614 Organizing dimensions\n",
      "2024-05-06 14:35:24,615 Insert finished\n",
      "2024-05-06 14:35:24,616 Opening Solar-Radiation-Flux_C3S-glob-agric_AgERA5_20240123_final-v1.1.nc \n"
     ]
    },
    {
     "name": "stdout",
     "output_type": "stream",
     "text": [
      "Hellooooo\n",
      "Hellooooo\n"
     ]
    },
    {
     "name": "stderr",
     "output_type": "stream",
     "text": [
      "2024-05-06 14:35:24,806 Organizing dimensions\n",
      "2024-05-06 14:35:24,807 Insert finished\n",
      "2024-05-06 14:35:24,808 Opening Solar-Radiation-Flux_C3S-glob-agric_AgERA5_20240124_final-v1.1.nc \n",
      "2024-05-06 14:35:24,998 Organizing dimensions\n",
      "2024-05-06 14:35:24,999 Insert finished\n",
      "2024-05-06 14:35:24,999 Opening Solar-Radiation-Flux_C3S-glob-agric_AgERA5_20240125_final-v1.1.nc \n"
     ]
    },
    {
     "name": "stdout",
     "output_type": "stream",
     "text": [
      "Hellooooo\n",
      "Hellooooo\n"
     ]
    },
    {
     "name": "stderr",
     "output_type": "stream",
     "text": [
      "2024-05-06 14:35:25,190 Organizing dimensions\n",
      "2024-05-06 14:35:25,191 Insert finished\n",
      "2024-05-06 14:35:25,192 Opening Solar-Radiation-Flux_C3S-glob-agric_AgERA5_20240126_final-v1.1.nc \n",
      "2024-05-06 14:35:25,384 Organizing dimensions\n",
      "2024-05-06 14:35:25,385 Insert finished\n",
      "2024-05-06 14:35:25,385 Opening Solar-Radiation-Flux_C3S-glob-agric_AgERA5_20240127_final-v1.1.nc \n"
     ]
    },
    {
     "name": "stdout",
     "output_type": "stream",
     "text": [
      "Hellooooo\n",
      "Hellooooo\n"
     ]
    },
    {
     "name": "stderr",
     "output_type": "stream",
     "text": [
      "2024-05-06 14:35:25,576 Organizing dimensions\n",
      "2024-05-06 14:35:25,577 Insert finished\n",
      "2024-05-06 14:35:25,578 Opening Solar-Radiation-Flux_C3S-glob-agric_AgERA5_20240128_final-v1.1.nc \n",
      "2024-05-06 14:35:25,769 Organizing dimensions\n",
      "2024-05-06 14:35:25,770 Insert finished\n",
      "2024-05-06 14:35:25,771 Opening Solar-Radiation-Flux_C3S-glob-agric_AgERA5_20240129_final-v1.1.nc \n"
     ]
    },
    {
     "name": "stdout",
     "output_type": "stream",
     "text": [
      "Hellooooo\n",
      "Hellooooo\n"
     ]
    },
    {
     "name": "stderr",
     "output_type": "stream",
     "text": [
      "2024-05-06 14:35:25,962 Organizing dimensions\n",
      "2024-05-06 14:35:25,963 Insert finished\n",
      "2024-05-06 14:35:25,964 Opening Solar-Radiation-Flux_C3S-glob-agric_AgERA5_20240130_final-v1.1.nc \n",
      "2024-05-06 14:35:26,155 Organizing dimensions\n",
      "2024-05-06 14:35:26,156 Insert finished\n",
      "2024-05-06 14:35:26,156 Opening Solar-Radiation-Flux_C3S-glob-agric_AgERA5_20240131_final-v1.1.nc \n"
     ]
    },
    {
     "name": "stdout",
     "output_type": "stream",
     "text": [
      "Hellooooo\n",
      "Hellooooo\n"
     ]
    },
    {
     "name": "stderr",
     "output_type": "stream",
     "text": [
      "2024-05-06 14:35:26,347 Organizing dimensions\n",
      "2024-05-06 14:35:26,348 Insert finished\n",
      "2024-05-06 14:35:26,348 Process completed\n"
     ]
    },
    {
     "name": "stdout",
     "output_type": "stream",
     "text": [
      "Hellooooo\n"
     ]
    }
   ],
   "source": [
    "for _nc in sorted(ncToLoad):\n",
    "    varName = \"Solar-Radiation-Flux\"\n",
    "    _file = confFile['pathforReggrid']+_nc\n",
    "    logging.warning(\"Opening %s \", _nc)\n",
    "    nc = netcdfChange(confFile['pathforReggrid'],_nc,varName)\n",
    "    nc = nc.apply(convertRadiation)\n",
    "    nc = nc[['time','lat','lon',varName]]\n",
    "    logging.warning(\"Organizing dimensions\")\n",
    "    compressor = zarr.Blosc(cname='lz4', clevel= 1, shuffle=False)\n",
    "    blosc.set_nthreads(8) \n",
    "    encoding = {vname: {'compressor': compressor,'chunks': (1,1,2000,7200)} for vname in nc.data_vars}\n",
    "    with ProgressBar():\n",
    "        #print(\"Hellooooo\")\n",
    "        nc.to_zarr(ageraS3,  mode='a', append_dim='time', consolidated=True)\n",
    "    logging.warning(\"Insert finished\")\n",
    "logging.warning(\"Process completed\")"
   ]
  },
  {
   "cell_type": "code",
   "execution_count": 19,
   "id": "3d46de7c-09a3-40e5-ae54-8705e9a23d4f",
   "metadata": {
    "tags": []
   },
   "outputs": [
    {
     "data": {
      "text/html": [
       "<div><svg style=\"position: absolute; width: 0; height: 0; overflow: hidden\">\n",
       "<defs>\n",
       "<symbol id=\"icon-database\" viewBox=\"0 0 32 32\">\n",
       "<path d=\"M16 0c-8.837 0-16 2.239-16 5v4c0 2.761 7.163 5 16 5s16-2.239 16-5v-4c0-2.761-7.163-5-16-5z\"></path>\n",
       "<path d=\"M16 17c-8.837 0-16-2.239-16-5v6c0 2.761 7.163 5 16 5s16-2.239 16-5v-6c0 2.761-7.163 5-16 5z\"></path>\n",
       "<path d=\"M16 26c-8.837 0-16-2.239-16-5v6c0 2.761 7.163 5 16 5s16-2.239 16-5v-6c0 2.761-7.163 5-16 5z\"></path>\n",
       "</symbol>\n",
       "<symbol id=\"icon-file-text2\" viewBox=\"0 0 32 32\">\n",
       "<path d=\"M28.681 7.159c-0.694-0.947-1.662-2.053-2.724-3.116s-2.169-2.030-3.116-2.724c-1.612-1.182-2.393-1.319-2.841-1.319h-15.5c-1.378 0-2.5 1.121-2.5 2.5v27c0 1.378 1.122 2.5 2.5 2.5h23c1.378 0 2.5-1.122 2.5-2.5v-19.5c0-0.448-0.137-1.23-1.319-2.841zM24.543 5.457c0.959 0.959 1.712 1.825 2.268 2.543h-4.811v-4.811c0.718 0.556 1.584 1.309 2.543 2.268zM28 29.5c0 0.271-0.229 0.5-0.5 0.5h-23c-0.271 0-0.5-0.229-0.5-0.5v-27c0-0.271 0.229-0.5 0.5-0.5 0 0 15.499-0 15.5 0v7c0 0.552 0.448 1 1 1h7v19.5z\"></path>\n",
       "<path d=\"M23 26h-14c-0.552 0-1-0.448-1-1s0.448-1 1-1h14c0.552 0 1 0.448 1 1s-0.448 1-1 1z\"></path>\n",
       "<path d=\"M23 22h-14c-0.552 0-1-0.448-1-1s0.448-1 1-1h14c0.552 0 1 0.448 1 1s-0.448 1-1 1z\"></path>\n",
       "<path d=\"M23 18h-14c-0.552 0-1-0.448-1-1s0.448-1 1-1h14c0.552 0 1 0.448 1 1s-0.448 1-1 1z\"></path>\n",
       "</symbol>\n",
       "</defs>\n",
       "</svg>\n",
       "<style>/* CSS stylesheet for displaying xarray objects in jupyterlab.\n",
       " *\n",
       " */\n",
       "\n",
       ":root {\n",
       "  --xr-font-color0: var(--jp-content-font-color0, rgba(0, 0, 0, 1));\n",
       "  --xr-font-color2: var(--jp-content-font-color2, rgba(0, 0, 0, 0.54));\n",
       "  --xr-font-color3: var(--jp-content-font-color3, rgba(0, 0, 0, 0.38));\n",
       "  --xr-border-color: var(--jp-border-color2, #e0e0e0);\n",
       "  --xr-disabled-color: var(--jp-layout-color3, #bdbdbd);\n",
       "  --xr-background-color: var(--jp-layout-color0, white);\n",
       "  --xr-background-color-row-even: var(--jp-layout-color1, white);\n",
       "  --xr-background-color-row-odd: var(--jp-layout-color2, #eeeeee);\n",
       "}\n",
       "\n",
       "html[theme=dark],\n",
       "body[data-theme=dark],\n",
       "body.vscode-dark {\n",
       "  --xr-font-color0: rgba(255, 255, 255, 1);\n",
       "  --xr-font-color2: rgba(255, 255, 255, 0.54);\n",
       "  --xr-font-color3: rgba(255, 255, 255, 0.38);\n",
       "  --xr-border-color: #1F1F1F;\n",
       "  --xr-disabled-color: #515151;\n",
       "  --xr-background-color: #111111;\n",
       "  --xr-background-color-row-even: #111111;\n",
       "  --xr-background-color-row-odd: #313131;\n",
       "}\n",
       "\n",
       ".xr-wrap {\n",
       "  display: block !important;\n",
       "  min-width: 300px;\n",
       "  max-width: 700px;\n",
       "}\n",
       "\n",
       ".xr-text-repr-fallback {\n",
       "  /* fallback to plain text repr when CSS is not injected (untrusted notebook) */\n",
       "  display: none;\n",
       "}\n",
       "\n",
       ".xr-header {\n",
       "  padding-top: 6px;\n",
       "  padding-bottom: 6px;\n",
       "  margin-bottom: 4px;\n",
       "  border-bottom: solid 1px var(--xr-border-color);\n",
       "}\n",
       "\n",
       ".xr-header > div,\n",
       ".xr-header > ul {\n",
       "  display: inline;\n",
       "  margin-top: 0;\n",
       "  margin-bottom: 0;\n",
       "}\n",
       "\n",
       ".xr-obj-type,\n",
       ".xr-array-name {\n",
       "  margin-left: 2px;\n",
       "  margin-right: 10px;\n",
       "}\n",
       "\n",
       ".xr-obj-type {\n",
       "  color: var(--xr-font-color2);\n",
       "}\n",
       "\n",
       ".xr-sections {\n",
       "  padding-left: 0 !important;\n",
       "  display: grid;\n",
       "  grid-template-columns: 150px auto auto 1fr 20px 20px;\n",
       "}\n",
       "\n",
       ".xr-section-item {\n",
       "  display: contents;\n",
       "}\n",
       "\n",
       ".xr-section-item input {\n",
       "  display: none;\n",
       "}\n",
       "\n",
       ".xr-section-item input + label {\n",
       "  color: var(--xr-disabled-color);\n",
       "}\n",
       "\n",
       ".xr-section-item input:enabled + label {\n",
       "  cursor: pointer;\n",
       "  color: var(--xr-font-color2);\n",
       "}\n",
       "\n",
       ".xr-section-item input:enabled + label:hover {\n",
       "  color: var(--xr-font-color0);\n",
       "}\n",
       "\n",
       ".xr-section-summary {\n",
       "  grid-column: 1;\n",
       "  color: var(--xr-font-color2);\n",
       "  font-weight: 500;\n",
       "}\n",
       "\n",
       ".xr-section-summary > span {\n",
       "  display: inline-block;\n",
       "  padding-left: 0.5em;\n",
       "}\n",
       "\n",
       ".xr-section-summary-in:disabled + label {\n",
       "  color: var(--xr-font-color2);\n",
       "}\n",
       "\n",
       ".xr-section-summary-in + label:before {\n",
       "  display: inline-block;\n",
       "  content: '►';\n",
       "  font-size: 11px;\n",
       "  width: 15px;\n",
       "  text-align: center;\n",
       "}\n",
       "\n",
       ".xr-section-summary-in:disabled + label:before {\n",
       "  color: var(--xr-disabled-color);\n",
       "}\n",
       "\n",
       ".xr-section-summary-in:checked + label:before {\n",
       "  content: '▼';\n",
       "}\n",
       "\n",
       ".xr-section-summary-in:checked + label > span {\n",
       "  display: none;\n",
       "}\n",
       "\n",
       ".xr-section-summary,\n",
       ".xr-section-inline-details {\n",
       "  padding-top: 4px;\n",
       "  padding-bottom: 4px;\n",
       "}\n",
       "\n",
       ".xr-section-inline-details {\n",
       "  grid-column: 2 / -1;\n",
       "}\n",
       "\n",
       ".xr-section-details {\n",
       "  display: none;\n",
       "  grid-column: 1 / -1;\n",
       "  margin-bottom: 5px;\n",
       "}\n",
       "\n",
       ".xr-section-summary-in:checked ~ .xr-section-details {\n",
       "  display: contents;\n",
       "}\n",
       "\n",
       ".xr-array-wrap {\n",
       "  grid-column: 1 / -1;\n",
       "  display: grid;\n",
       "  grid-template-columns: 20px auto;\n",
       "}\n",
       "\n",
       ".xr-array-wrap > label {\n",
       "  grid-column: 1;\n",
       "  vertical-align: top;\n",
       "}\n",
       "\n",
       ".xr-preview {\n",
       "  color: var(--xr-font-color3);\n",
       "}\n",
       "\n",
       ".xr-array-preview,\n",
       ".xr-array-data {\n",
       "  padding: 0 5px !important;\n",
       "  grid-column: 2;\n",
       "}\n",
       "\n",
       ".xr-array-data,\n",
       ".xr-array-in:checked ~ .xr-array-preview {\n",
       "  display: none;\n",
       "}\n",
       "\n",
       ".xr-array-in:checked ~ .xr-array-data,\n",
       ".xr-array-preview {\n",
       "  display: inline-block;\n",
       "}\n",
       "\n",
       ".xr-dim-list {\n",
       "  display: inline-block !important;\n",
       "  list-style: none;\n",
       "  padding: 0 !important;\n",
       "  margin: 0;\n",
       "}\n",
       "\n",
       ".xr-dim-list li {\n",
       "  display: inline-block;\n",
       "  padding: 0;\n",
       "  margin: 0;\n",
       "}\n",
       "\n",
       ".xr-dim-list:before {\n",
       "  content: '(';\n",
       "}\n",
       "\n",
       ".xr-dim-list:after {\n",
       "  content: ')';\n",
       "}\n",
       "\n",
       ".xr-dim-list li:not(:last-child):after {\n",
       "  content: ',';\n",
       "  padding-right: 5px;\n",
       "}\n",
       "\n",
       ".xr-has-index {\n",
       "  font-weight: bold;\n",
       "}\n",
       "\n",
       ".xr-var-list,\n",
       ".xr-var-item {\n",
       "  display: contents;\n",
       "}\n",
       "\n",
       ".xr-var-item > div,\n",
       ".xr-var-item label,\n",
       ".xr-var-item > .xr-var-name span {\n",
       "  background-color: var(--xr-background-color-row-even);\n",
       "  margin-bottom: 0;\n",
       "}\n",
       "\n",
       ".xr-var-item > .xr-var-name:hover span {\n",
       "  padding-right: 5px;\n",
       "}\n",
       "\n",
       ".xr-var-list > li:nth-child(odd) > div,\n",
       ".xr-var-list > li:nth-child(odd) > label,\n",
       ".xr-var-list > li:nth-child(odd) > .xr-var-name span {\n",
       "  background-color: var(--xr-background-color-row-odd);\n",
       "}\n",
       "\n",
       ".xr-var-name {\n",
       "  grid-column: 1;\n",
       "}\n",
       "\n",
       ".xr-var-dims {\n",
       "  grid-column: 2;\n",
       "}\n",
       "\n",
       ".xr-var-dtype {\n",
       "  grid-column: 3;\n",
       "  text-align: right;\n",
       "  color: var(--xr-font-color2);\n",
       "}\n",
       "\n",
       ".xr-var-preview {\n",
       "  grid-column: 4;\n",
       "}\n",
       "\n",
       ".xr-index-preview {\n",
       "  grid-column: 2 / 5;\n",
       "  color: var(--xr-font-color2);\n",
       "}\n",
       "\n",
       ".xr-var-name,\n",
       ".xr-var-dims,\n",
       ".xr-var-dtype,\n",
       ".xr-preview,\n",
       ".xr-attrs dt {\n",
       "  white-space: nowrap;\n",
       "  overflow: hidden;\n",
       "  text-overflow: ellipsis;\n",
       "  padding-right: 10px;\n",
       "}\n",
       "\n",
       ".xr-var-name:hover,\n",
       ".xr-var-dims:hover,\n",
       ".xr-var-dtype:hover,\n",
       ".xr-attrs dt:hover {\n",
       "  overflow: visible;\n",
       "  width: auto;\n",
       "  z-index: 1;\n",
       "}\n",
       "\n",
       ".xr-var-attrs,\n",
       ".xr-var-data,\n",
       ".xr-index-data {\n",
       "  display: none;\n",
       "  background-color: var(--xr-background-color) !important;\n",
       "  padding-bottom: 5px !important;\n",
       "}\n",
       "\n",
       ".xr-var-attrs-in:checked ~ .xr-var-attrs,\n",
       ".xr-var-data-in:checked ~ .xr-var-data,\n",
       ".xr-index-data-in:checked ~ .xr-index-data {\n",
       "  display: block;\n",
       "}\n",
       "\n",
       ".xr-var-data > table {\n",
       "  float: right;\n",
       "}\n",
       "\n",
       ".xr-var-name span,\n",
       ".xr-var-data,\n",
       ".xr-index-name div,\n",
       ".xr-index-data,\n",
       ".xr-attrs {\n",
       "  padding-left: 25px !important;\n",
       "}\n",
       "\n",
       ".xr-attrs,\n",
       ".xr-var-attrs,\n",
       ".xr-var-data,\n",
       ".xr-index-data {\n",
       "  grid-column: 1 / -1;\n",
       "}\n",
       "\n",
       "dl.xr-attrs {\n",
       "  padding: 0;\n",
       "  margin: 0;\n",
       "  display: grid;\n",
       "  grid-template-columns: 125px auto;\n",
       "}\n",
       "\n",
       ".xr-attrs dt,\n",
       ".xr-attrs dd {\n",
       "  padding: 0;\n",
       "  margin: 0;\n",
       "  float: left;\n",
       "  padding-right: 10px;\n",
       "  width: auto;\n",
       "}\n",
       "\n",
       ".xr-attrs dt {\n",
       "  font-weight: normal;\n",
       "  grid-column: 1;\n",
       "}\n",
       "\n",
       ".xr-attrs dt:hover span {\n",
       "  display: inline-block;\n",
       "  background: var(--xr-background-color);\n",
       "  padding-right: 10px;\n",
       "}\n",
       "\n",
       ".xr-attrs dd {\n",
       "  grid-column: 2;\n",
       "  white-space: pre-wrap;\n",
       "  word-break: break-all;\n",
       "}\n",
       "\n",
       ".xr-icon-database,\n",
       ".xr-icon-file-text2,\n",
       ".xr-no-icon {\n",
       "  display: inline-block;\n",
       "  vertical-align: middle;\n",
       "  width: 1em;\n",
       "  height: 1.5em !important;\n",
       "  stroke-width: 0;\n",
       "  stroke: currentColor;\n",
       "  fill: currentColor;\n",
       "}\n",
       "</style><pre class='xr-text-repr-fallback'>&lt;xarray.Dataset&gt; Size: 115MB\n",
       "Dimensions:               (time: 1, lat: 2000, lon: 7200)\n",
       "Coordinates:\n",
       "  * time                  (time) datetime64[ns] 8B 2024-01-31\n",
       "  * lat                   (lat) float64 16kB -49.98 -49.93 ... 49.92 49.97\n",
       "  * lon                   (lon) float64 58kB -180.0 -179.9 ... 179.9 180.0\n",
       "Data variables:\n",
       "    Solar-Radiation-Flux  (time, lat, lon) float64 115MB nan nan nan ... nan nan</pre><div class='xr-wrap' style='display:none'><div class='xr-header'><div class='xr-obj-type'>xarray.Dataset</div></div><ul class='xr-sections'><li class='xr-section-item'><input id='section-0cc7d867-5a33-4727-b184-9019ef2b5105' class='xr-section-summary-in' type='checkbox' disabled ><label for='section-0cc7d867-5a33-4727-b184-9019ef2b5105' class='xr-section-summary'  title='Expand/collapse section'>Dimensions:</label><div class='xr-section-inline-details'><ul class='xr-dim-list'><li><span class='xr-has-index'>time</span>: 1</li><li><span class='xr-has-index'>lat</span>: 2000</li><li><span class='xr-has-index'>lon</span>: 7200</li></ul></div><div class='xr-section-details'></div></li><li class='xr-section-item'><input id='section-b1c4751e-9b70-4b51-b46a-77eae61300e7' class='xr-section-summary-in' type='checkbox'  checked><label for='section-b1c4751e-9b70-4b51-b46a-77eae61300e7' class='xr-section-summary' >Coordinates: <span>(3)</span></label><div class='xr-section-inline-details'></div><div class='xr-section-details'><ul class='xr-var-list'><li class='xr-var-item'><div class='xr-var-name'><span class='xr-has-index'>time</span></div><div class='xr-var-dims'>(time)</div><div class='xr-var-dtype'>datetime64[ns]</div><div class='xr-var-preview xr-preview'>2024-01-31</div><input id='attrs-f43f4832-f357-428b-8bae-a16dd9da94af' class='xr-var-attrs-in' type='checkbox' disabled><label for='attrs-f43f4832-f357-428b-8bae-a16dd9da94af' title='Show/Hide attributes'><svg class='icon xr-icon-file-text2'><use xlink:href='#icon-file-text2'></use></svg></label><input id='data-9285c4ed-8143-4027-83a1-d480d228f3db' class='xr-var-data-in' type='checkbox'><label for='data-9285c4ed-8143-4027-83a1-d480d228f3db' title='Show/Hide data repr'><svg class='icon xr-icon-database'><use xlink:href='#icon-database'></use></svg></label><div class='xr-var-attrs'><dl class='xr-attrs'></dl></div><div class='xr-var-data'><pre>array([&#x27;2024-01-31T00:00:00.000000000&#x27;], dtype=&#x27;datetime64[ns]&#x27;)</pre></div></li><li class='xr-var-item'><div class='xr-var-name'><span class='xr-has-index'>lat</span></div><div class='xr-var-dims'>(lat)</div><div class='xr-var-dtype'>float64</div><div class='xr-var-preview xr-preview'>-49.98 -49.93 ... 49.92 49.97</div><input id='attrs-b6871c96-5287-4807-8de4-bd697d6a2ebb' class='xr-var-attrs-in' type='checkbox' ><label for='attrs-b6871c96-5287-4807-8de4-bd697d6a2ebb' title='Show/Hide attributes'><svg class='icon xr-icon-file-text2'><use xlink:href='#icon-file-text2'></use></svg></label><input id='data-789004b0-e3e7-4086-99fb-ffd60f9c8192' class='xr-var-data-in' type='checkbox'><label for='data-789004b0-e3e7-4086-99fb-ffd60f9c8192' title='Show/Hide data repr'><svg class='icon xr-icon-database'><use xlink:href='#icon-database'></use></svg></label><div class='xr-var-attrs'><dl class='xr-attrs'><dt><span>standard_name :</span></dt><dd>latitude</dd><dt><span>long_name :</span></dt><dd>latitude</dd><dt><span>units :</span></dt><dd>degrees_north</dd></dl></div><div class='xr-var-data'><pre>array([-49.975001, -49.925001, -49.875001, ...,  49.875   ,  49.925   ,\n",
       "        49.975   ])</pre></div></li><li class='xr-var-item'><div class='xr-var-name'><span class='xr-has-index'>lon</span></div><div class='xr-var-dims'>(lon)</div><div class='xr-var-dtype'>float64</div><div class='xr-var-preview xr-preview'>-180.0 -179.9 ... 179.9 180.0</div><input id='attrs-1b9a3694-8831-4d85-a009-18bb1ba383cf' class='xr-var-attrs-in' type='checkbox' ><label for='attrs-1b9a3694-8831-4d85-a009-18bb1ba383cf' title='Show/Hide attributes'><svg class='icon xr-icon-file-text2'><use xlink:href='#icon-file-text2'></use></svg></label><input id='data-d3a44b53-190c-482e-90dd-437a5bcb7d7d' class='xr-var-data-in' type='checkbox'><label for='data-d3a44b53-190c-482e-90dd-437a5bcb7d7d' title='Show/Hide data repr'><svg class='icon xr-icon-database'><use xlink:href='#icon-database'></use></svg></label><div class='xr-var-attrs'><dl class='xr-attrs'><dt><span>standard_name :</span></dt><dd>longitude</dd><dt><span>long_name :</span></dt><dd>longitude</dd><dt><span>units :</span></dt><dd>degrees_east</dd></dl></div><div class='xr-var-data'><pre>array([-179.975   , -179.925   , -179.875   , ...,  179.875005,  179.925005,\n",
       "        179.975005])</pre></div></li></ul></div></li><li class='xr-section-item'><input id='section-9f5e3805-ed55-4426-a2a5-fbe3c66a889c' class='xr-section-summary-in' type='checkbox'  checked><label for='section-9f5e3805-ed55-4426-a2a5-fbe3c66a889c' class='xr-section-summary' >Data variables: <span>(1)</span></label><div class='xr-section-inline-details'></div><div class='xr-section-details'><ul class='xr-var-list'><li class='xr-var-item'><div class='xr-var-name'><span>Solar-Radiation-Flux</span></div><div class='xr-var-dims'>(time, lat, lon)</div><div class='xr-var-dtype'>float64</div><div class='xr-var-preview xr-preview'>nan nan nan nan ... nan nan nan nan</div><input id='attrs-833a36a3-96ea-471d-861a-177e3dbb89de' class='xr-var-attrs-in' type='checkbox' disabled><label for='attrs-833a36a3-96ea-471d-861a-177e3dbb89de' title='Show/Hide attributes'><svg class='icon xr-icon-file-text2'><use xlink:href='#icon-file-text2'></use></svg></label><input id='data-9570c358-da0a-4f1d-bec3-b188001f36f8' class='xr-var-data-in' type='checkbox'><label for='data-9570c358-da0a-4f1d-bec3-b188001f36f8' title='Show/Hide data repr'><svg class='icon xr-icon-database'><use xlink:href='#icon-database'></use></svg></label><div class='xr-var-attrs'><dl class='xr-attrs'></dl></div><div class='xr-var-data'><pre>array([[[nan, nan, nan, ..., nan, nan, nan],\n",
       "        [nan, nan, nan, ..., nan, nan, nan],\n",
       "        [nan, nan, nan, ..., nan, nan, nan],\n",
       "        ...,\n",
       "        [nan, nan, nan, ..., nan, nan, nan],\n",
       "        [nan, nan, nan, ..., nan, nan, nan],\n",
       "        [nan, nan, nan, ..., nan, nan, nan]]])</pre></div></li></ul></div></li><li class='xr-section-item'><input id='section-e63472e8-be2c-41bb-a1a5-78469d3cb0fc' class='xr-section-summary-in' type='checkbox'  ><label for='section-e63472e8-be2c-41bb-a1a5-78469d3cb0fc' class='xr-section-summary' >Indexes: <span>(3)</span></label><div class='xr-section-inline-details'></div><div class='xr-section-details'><ul class='xr-var-list'><li class='xr-var-item'><div class='xr-index-name'><div>lat</div></div><div class='xr-index-preview'>PandasIndex</div><div></div><input id='index-bb07b806-6c92-40db-9bf0-02a1605dd2fc' class='xr-index-data-in' type='checkbox'/><label for='index-bb07b806-6c92-40db-9bf0-02a1605dd2fc' title='Show/Hide index repr'><svg class='icon xr-icon-database'><use xlink:href='#icon-database'></use></svg></label><div class='xr-index-data'><pre>PandasIndex(Index([ -49.97500148974359,  -49.92500148899853, -49.875001488253474,\n",
       "       -49.825001487508416,  -49.77500148676336,   -49.7250014860183,\n",
       "        -49.67500148527324, -49.625001484528184, -49.575001483783126,\n",
       "        -49.52500148303807,\n",
       "       ...\n",
       "         49.52499999292195,   49.57499999366701,  49.624999994412065,\n",
       "         49.67499999515712,   49.72499999590218,   49.77499999664724,\n",
       "          49.8249999973923,  49.874999998137355,   49.92499999888241,\n",
       "         49.97499999962747],\n",
       "      dtype=&#x27;float64&#x27;, name=&#x27;lat&#x27;, length=2000))</pre></div></li><li class='xr-var-item'><div class='xr-index-name'><div>lon</div></div><div class='xr-index-preview'>PandasIndex</div><div></div><input id='index-b3a74fca-4e36-45b9-a6ce-c22876700545' class='xr-index-data-in' type='checkbox'/><label for='index-b3a74fca-4e36-45b9-a6ce-c22876700545' title='Show/Hide index repr'><svg class='icon xr-icon-database'><use xlink:href='#icon-database'></use></svg></label><div class='xr-index-data'><pre>PandasIndex(Index([-179.97499999962747,  -179.9249999988824, -179.87499999813735,\n",
       "        -179.8249999973923, -179.77499999664724, -179.72499999590218,\n",
       "       -179.67499999515712, -179.62499999441206,   -179.574999993667,\n",
       "       -179.52499999292195,\n",
       "       ...\n",
       "        179.52500535733998,  179.57500535808504,   179.6250053588301,\n",
       "        179.67500535957515,   179.7250053603202,  179.77500536106527,\n",
       "        179.82500536181033,  179.87500536255538,  179.92500536330044,\n",
       "         179.9750053640455],\n",
       "      dtype=&#x27;float64&#x27;, name=&#x27;lon&#x27;, length=7200))</pre></div></li><li class='xr-var-item'><div class='xr-index-name'><div>time</div></div><div class='xr-index-preview'>PandasIndex</div><div></div><input id='index-dd3bb86a-cdc3-4b09-adc1-cc9e915a5307' class='xr-index-data-in' type='checkbox'/><label for='index-dd3bb86a-cdc3-4b09-adc1-cc9e915a5307' title='Show/Hide index repr'><svg class='icon xr-icon-database'><use xlink:href='#icon-database'></use></svg></label><div class='xr-index-data'><pre>PandasIndex(DatetimeIndex([&#x27;2024-01-31&#x27;], dtype=&#x27;datetime64[ns]&#x27;, name=&#x27;time&#x27;, freq=None))</pre></div></li></ul></div></li><li class='xr-section-item'><input id='section-bfdb3f00-1e45-4d42-8353-e746c976f46e' class='xr-section-summary-in' type='checkbox' disabled ><label for='section-bfdb3f00-1e45-4d42-8353-e746c976f46e' class='xr-section-summary'  title='Expand/collapse section'>Attributes: <span>(0)</span></label><div class='xr-section-inline-details'></div><div class='xr-section-details'><dl class='xr-attrs'></dl></div></li></ul></div></div>"
      ],
      "text/plain": [
       "<xarray.Dataset> Size: 115MB\n",
       "Dimensions:               (time: 1, lat: 2000, lon: 7200)\n",
       "Coordinates:\n",
       "  * time                  (time) datetime64[ns] 8B 2024-01-31\n",
       "  * lat                   (lat) float64 16kB -49.98 -49.93 ... 49.92 49.97\n",
       "  * lon                   (lon) float64 58kB -180.0 -179.9 ... 179.9 180.0\n",
       "Data variables:\n",
       "    Solar-Radiation-Flux  (time, lat, lon) float64 115MB nan nan nan ... nan nan"
      ]
     },
     "execution_count": 19,
     "metadata": {},
     "output_type": "execute_result"
    }
   ],
   "source": [
    "nc"
   ]
  },
  {
   "cell_type": "code",
   "execution_count": 5,
   "id": "62ebd39b-71f1-4164-86fe-798a1d353e63",
   "metadata": {
    "tags": []
   },
   "outputs": [],
   "source": []
  }
 ],
 "metadata": {
  "kernelspec": {
   "display_name": "conda_python3",
   "language": "python",
   "name": "conda_python3"
  },
  "language_info": {
   "codemirror_mode": {
    "name": "ipython",
    "version": 3
   },
   "file_extension": ".py",
   "mimetype": "text/x-python",
   "name": "python",
   "nbconvert_exporter": "python",
   "pygments_lexer": "ipython3",
   "version": "3.10.14"
  }
 },
 "nbformat": 4,
 "nbformat_minor": 5
}
