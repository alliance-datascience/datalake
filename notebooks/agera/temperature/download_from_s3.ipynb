{
 "cells": [
  {
   "cell_type": "code",
   "execution_count": null,
   "id": "963ce2a4-554e-4176-bdf3-63965fc8fe20",
   "metadata": {},
   "outputs": [],
   "source": [
    "import os\n",
    "import boto3"
   ]
  },
  {
   "cell_type": "code",
   "execution_count": null,
   "id": "e5addb9b-800b-49e6-ba01-091f7263d48a",
   "metadata": {},
   "outputs": [],
   "source": [
    "def download_from_s3(bucket_name, s3_file_key, local_path):\n",
    "    \"\"\"\n",
    "    Descarga un archivo desde un bucket S3 a una instancia de SageMaker.\n",
    "\n",
    "    :param bucket_name: Nombre del bucket S3\n",
    "    :param s3_file_key: Ruta del archivo en S3\n",
    "    :param local_path: Ruta local donde se guardará el archivo\n",
    "    :return: True si la descarga fue exitosa, False en caso contrario\n",
    "    \"\"\"\n",
    "    try:\n",
    "        # Crear un cliente de S3 sin especificar credenciales\n",
    "        s3_client = boto3.client('s3')\n",
    "        \n",
    "        # Asegurarse de que el directorio local exista\n",
    "        os.makedirs(os.path.dirname(local_path), exist_ok=True)\n",
    "        \n",
    "        # Descargar el archivo\n",
    "        s3_client.download_file(bucket_name, s3_file_key, local_path)\n",
    "        \n",
    "        print(f\"Archivo descargado exitosamente: {local_path}\")\n",
    "        return True\n",
    "    except Exception as e:\n",
    "        print(f\"Error al descargar el archivo: {str(e)}\")\n",
    "        return False"
   ]
  },
  {
   "cell_type": "code",
   "execution_count": null,
   "id": "b28fc6ed-5448-444d-ae2f-ed34c498d958",
   "metadata": {},
   "outputs": [],
   "source": [
    "# Ejemplo de uso\n",
    "bucket_name = 'climate-action-datalake'\n",
    "s3_file_key = 'zone=landing/source=agera5/variable=2mTemperature/Temperature-Air-2m-Max-24h_C3S-glob-agric_AgERA5_19790101_final-v1.0.nc'\n",
    "local_path = '/home/ec2-user/SageMaker/datalake/data/agera/temperature/Temperature-Air-2m-Max-24h_C3S-glob-agric_AgERA5_19790101_final-v1.0.nc'\n",
    "download_from_s3(bucket_name, s3_file_key, local_path)"
   ]
  },
  {
   "cell_type": "code",
   "execution_count": null,
   "id": "369fc2ff-f34c-41bc-9b5f-a13c2f439079",
   "metadata": {},
   "outputs": [],
   "source": []
  },
  {
   "cell_type": "code",
   "execution_count": null,
   "id": "66b2cbd9-e3fb-4378-af65-be47f4550216",
   "metadata": {},
   "outputs": [],
   "source": [
    "import boto3\n",
    "import os\n",
    "import time\n",
    "from concurrent.futures import ThreadPoolExecutor, as_completed"
   ]
  },
  {
   "cell_type": "code",
   "execution_count": null,
   "id": "65d4b98f-7c7b-41f3-a44e-8fe7de91d4cf",
   "metadata": {},
   "outputs": [],
   "source": [
    "# Configurar el cliente de S3\n",
    "s3 = boto3.client('s3')\n",
    "\n",
    "# Configurar las rutas\n",
    "bucket_name = 'datalake'\n",
    "s3_prefix = 'variable=2m_temperature/'\n",
    "local_dir = '/home/ec2-user/SageMaker/datalake/data/agera/temperature/landing'"
   ]
  },
  {
   "cell_type": "code",
   "execution_count": null,
   "id": "d8db2c64-ac0d-473f-9341-3de9cebf3dea",
   "metadata": {},
   "outputs": [],
   "source": [
    "# Asegurarse de que el directorio local existe\n",
    "os.makedirs(local_dir, exist_ok=True)"
   ]
  },
  {
   "cell_type": "code",
   "execution_count": null,
   "id": "31a9d8e6-876b-489f-a843-bd26d573733e",
   "metadata": {},
   "outputs": [],
   "source": [
    "# Función para descargar un archivo individual\n",
    "def download_file(obj):\n",
    "    local_file_path = os.path.join(local_dir, obj['Key'][len(s3_prefix):])\n",
    "    os.makedirs(os.path.dirname(local_file_path), exist_ok=True)\n",
    "    s3.download_file(bucket_name, obj['Key'], local_file_path)\n",
    "    return obj['Key'], obj['Size']\n",
    "\n",
    "# Función principal\n",
    "def main():\n",
    "    start_time = time.time()\n",
    "    total_size = 0\n",
    "    file_count = 0\n",
    "\n",
    "    # Listar todos los objetos en el prefijo\n",
    "    paginator = s3.get_paginator('list_objects_v2')\n",
    "    pages = paginator.paginate(Bucket=bucket_name, Prefix=s3_prefix)\n",
    "\n",
    "    # Usar ThreadPoolExecutor para descargas paralelas\n",
    "    with ThreadPoolExecutor(max_workers=16) as executor:\n",
    "        future_to_file = {}\n",
    "        for page in pages:\n",
    "            for obj in page.get('Contents', []):\n",
    "                future = executor.submit(download_file, obj)\n",
    "                future_to_file[future] = obj['Key']\n",
    "\n",
    "        for future in as_completed(future_to_file):\n",
    "            file_key, file_size = future.result()\n",
    "            total_size += file_size\n",
    "            file_count += 1\n",
    "            print(f\"Descargado: {file_key}\")\n",
    "\n",
    "    end_time = time.time()\n",
    "    duration = end_time - start_time\n",
    "    \n",
    "    print(f\"\\nDescarga completada.\")\n",
    "    print(f\"Tiempo total: {duration:.2f} segundos\")\n",
    "    print(f\"Archivos descargados: {file_count}\")\n",
    "    print(f\"Tamaño total descargado: {total_size / (1024*1024*1024):.2f} GB\")"
   ]
  },
  {
   "cell_type": "code",
   "execution_count": null,
   "id": "67aeb5b2-7e59-4318-8685-ca87856c39f5",
   "metadata": {},
   "outputs": [],
   "source": [
    "if __name__ == \"__main__\":\n",
    "    main()"
   ]
  }
 ],
 "metadata": {
  "kernelspec": {
   "display_name": "conda_python3",
   "language": "python",
   "name": "conda_python3"
  },
  "language_info": {
   "codemirror_mode": {
    "name": "ipython",
    "version": 3
   },
   "file_extension": ".py",
   "mimetype": "text/x-python",
   "name": "python",
   "nbconvert_exporter": "python",
   "pygments_lexer": "ipython3",
   "version": "3.10.14"
  }
 },
 "nbformat": 4,
 "nbformat_minor": 5
}
