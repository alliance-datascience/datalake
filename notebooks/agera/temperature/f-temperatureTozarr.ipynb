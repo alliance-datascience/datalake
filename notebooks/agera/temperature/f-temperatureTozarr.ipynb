{
 "cells": [
  {
   "cell_type": "markdown",
   "id": "a960b570-6f73-4247-bd97-99456a3d07a6",
   "metadata": {
    "jp-MarkdownHeadingCollapsed": true,
    "tags": []
   },
   "source": [
    "## Instalar librerias"
   ]
  },
  {
   "cell_type": "code",
   "execution_count": 1,
   "id": "0b7cddd1-4a93-47e1-9e73-f0506ee43a92",
   "metadata": {
    "tags": []
   },
   "outputs": [],
   "source": [
    "%%capture\n",
    "!pip install luigi pyyaml netCDF4 h5netcdf scipy boto3 s3fs numpy tqdm"
   ]
  },
  {
   "cell_type": "code",
   "execution_count": 2,
   "id": "9c1fa3bc-8d16-461f-8104-1534c82f75d2",
   "metadata": {
    "tags": []
   },
   "outputs": [],
   "source": [
    "%%capture\n",
    "!pip install dask[complete] zarr xarray[io]"
   ]
  },
  {
   "cell_type": "code",
   "execution_count": 3,
   "id": "81de3ad9-954f-4dde-a709-4a16435fb4f2",
   "metadata": {
    "tags": []
   },
   "outputs": [],
   "source": [
    "%%capture\n",
    "!pip install --upgrade s3fs"
   ]
  },
  {
   "cell_type": "code",
   "execution_count": 4,
   "id": "4dfff23f-56c3-46a8-a6dc-0cf9b504fcda",
   "metadata": {
    "tags": []
   },
   "outputs": [],
   "source": [
    "%%capture\n",
    "!pip install \"xarray[complete]\"==2023.8.0 s3fs --user"
   ]
  },
  {
   "cell_type": "code",
   "execution_count": 5,
   "id": "855b4d76-0b19-4fe1-bd77-3dca00134b26",
   "metadata": {
    "tags": []
   },
   "outputs": [],
   "source": [
    "%%capture\n",
    "!pip install --upgrade dask"
   ]
  },
  {
   "cell_type": "markdown",
   "id": "718e0204-518c-480d-882a-48240f558d9d",
   "metadata": {},
   "source": [
    "## Cargar librerias"
   ]
  },
  {
   "cell_type": "code",
   "execution_count": 1,
   "id": "8d88d7f4-8b2f-4760-93d4-089ab451aa32",
   "metadata": {
    "tags": []
   },
   "outputs": [],
   "source": [
    "import xarray as xr\n",
    "import pandas as pd\n",
    "import numpy as np\n",
    "import s3fs\n",
    "import os\n",
    "import re\n",
    "from collections import defaultdict\n",
    "import zarr\n",
    "from numcodecs import blosc\n",
    "from glob import glob\n",
    "import dask\n",
    "from dask import delayed, compute\n",
    "from tqdm import tqdm\n",
    "from dask.distributed import Client\n",
    "from dask.diagnostics import ProgressBar\n",
    "from datetime import datetime"
   ]
  },
  {
   "cell_type": "markdown",
   "id": "7c42e843-a3b3-4a68-9d8a-9acccd4e9a89",
   "metadata": {},
   "source": [
    "## Funciones"
   ]
  },
  {
   "cell_type": "code",
   "execution_count": 2,
   "id": "7fc5e760-d2fe-4254-ab5b-7d2a0d81385b",
   "metadata": {
    "tags": []
   },
   "outputs": [],
   "source": [
    "def kelvin_a_celsius(temp_k):\n",
    "    return xr.where(np.isnan(temp_k), temp_k, temp_k - 273.15)\n",
    "\n",
    "def extraer_fecha_y_tipo(nombre_archivo):\n",
    "    match = re.search(r'Temperature-Air-2m-(Max|Mean|Min)-24h.*_(\\d{8})_', nombre_archivo)\n",
    "    if match:\n",
    "        tipo, fecha = match.groups()\n",
    "        return fecha, tipo\n",
    "    return '00000000', ''"
   ]
  },
  {
   "cell_type": "code",
   "execution_count": 3,
   "id": "d00a1328-f059-4d69-9734-40403b1febde",
   "metadata": {
    "tags": []
   },
   "outputs": [],
   "source": [
    "#dataframe de archivos\n",
    "\n",
    "def archivos_mes(directorio):\n",
    "    archivos = [f for f in os.listdir(directorio) if f.endswith('.nc')]\n",
    "    data = []\n",
    "\n",
    "    for archivo in archivos:\n",
    "        fecha, tipo = extraer_fecha_y_tipo(archivo)\n",
    "        if fecha != '00000000':\n",
    "            data.append({\n",
    "                'año': int(fecha[:4]),\n",
    "                'mes': int(fecha[4:6]),\n",
    "                'fecha': pd.to_datetime(fecha, format='%Y%m%d'),\n",
    "                'tipo': tipo,\n",
    "                'path': os.path.join(directorio, archivo)\n",
    "            })\n",
    "\n",
    "    df = pd.DataFrame(data)\n",
    "    df.sort_values(by=['fecha', 'tipo'], inplace=True)\n",
    "    df['tipo'] = pd.Categorical(df['tipo'], categories=['Max', 'Mean', 'Min'], ordered=True)\n",
    "    df.sort_values(by=['fecha', 'tipo'], inplace=True)\n",
    "    df.reset_index(drop=True, inplace=True)\n",
    "    \n",
    "    return df"
   ]
  },
  {
   "cell_type": "markdown",
   "id": "d9ec422c-4064-487b-bfc3-c75c6b70488f",
   "metadata": {},
   "source": [
    "### Función ejecución mes"
   ]
  },
  {
   "cell_type": "code",
   "execution_count": 4,
   "id": "fc8a5245-87fa-4b38-826f-83bc397054d5",
   "metadata": {
    "tags": []
   },
   "outputs": [],
   "source": [
    "def consolidate_nc(df_mes, año, mes):\n",
    "    start_date = pd.Timestamp(f\"{año}-{mes:02d}-01\")\n",
    "    end_date = start_date + pd.offsets.MonthEnd(0)\n",
    "    datasets = xr.open_mfdataset(df_mes['path'].tolist())\n",
    "    # Convertir de Kelvin a Celsius\n",
    "    for var_name in datasets.data_vars:\n",
    "        datasets[var_name] = kelvin_a_celsius(datasets[var_name])\n",
    "        datasets[var_name].attrs['units'] = 'C'\n",
    "    return datasets"
   ]
  },
  {
   "cell_type": "code",
   "execution_count": 5,
   "id": "85a9e1a6-06fa-4e63-bbbf-ebc296125121",
   "metadata": {},
   "outputs": [],
   "source": [
    "def append_zarr(año, mes, df_mes, bucket_salida, ruta_salida_s3):\n",
    "    datasets = consolidate_nc(df_mes, año, mes)\n",
    "    s3 = s3fs.S3FileSystem(anon=False)\n",
    "    zarr_store = s3fs.S3Map(root=f's3://{bucket_salida}/{ruta_salida_s3}', s3=s3)\n",
    "\n",
    "    # Configurar compresión y encoding\n",
    "    blosc.set_nthreads(8)\n",
    "    compressor = zarr.Blosc(cname='lz4', clevel=1, shuffle=False)\n",
    "    encoding = {vname: {'compressor': compressor, 'chunks': (1, 1801, 3600)} for vname in datasets.data_vars}\n",
    "    with tqdm(total=100, desc=f\"Procesando {año}-{mes:02d}\") as pbar:\n",
    "        try:\n",
    "            datasets.to_zarr(zarr_store, mode='a', append_dim='time', consolidated=True)\n",
    "        except ValueError as e:\n",
    "            # Si el archivo no existe, crear un nuevo archivo\n",
    "            print(f\"Error al abrir el archivo en modo append: {e}. Creando archivo nuevo.\")\n",
    "            datasets.to_zarr(zarr_store, mode='w', consolidated=True, encoding=encoding)\n",
    "        pbar.update(100)\n",
    "    print(f\"Datos del mes {año}-{mes:02d} procesados y guardados en S3\")"
   ]
  },
  {
   "cell_type": "markdown",
   "id": "c2c17ecc-6b49-4116-94a6-facef2ed8616",
   "metadata": {},
   "source": [
    "### Función para ejecutar un rango de fechas"
   ]
  },
  {
   "cell_type": "code",
   "execution_count": 6,
   "id": "49ddbbee-94c1-4df5-b178-764b42ef4c94",
   "metadata": {},
   "outputs": [],
   "source": [
    "def procesar_rango_meses(fecha_inicio, fecha_fin, directorio, bucket_salida, ruta_salida_s3):\n",
    "    # Convertir fechas de entrada a objetos datetime\n",
    "    fecha_inicio = pd.to_datetime(fecha_inicio)\n",
    "    fecha_fin = pd.to_datetime(fecha_fin)\n",
    "    \n",
    "    # Crear dataframe de todos los archivos a procesar\n",
    "    df = archivos_mes(directorio)\n",
    "    \n",
    "    # Listar todos los meses en el rango de fechas\n",
    "    rango_meses = pd.date_range(start=fecha_inicio, end=fecha_fin, freq='MS')\n",
    "    \n",
    "    # Iterar sobre cada mes en el rango de meses a procesar\n",
    "    for mes_actual in rango_meses:\n",
    "        año = mes_actual.year\n",
    "        mes = mes_actual.month\n",
    "\n",
    "        # Filtrar archivos para el mes\n",
    "        df_mes = df[(df['año'] == año) & (df['mes'] == mes)]\n",
    "        append_zarr(año, mes, df_mes, bucket_salida, ruta_salida_s3)\n",
    "        print(f\"Ejecutado mes: {año}/{mes}\")"
   ]
  },
  {
   "cell_type": "code",
   "execution_count": 10,
   "id": "d783ca91-de08-461c-b6e8-f7ea461cc34a",
   "metadata": {
    "tags": []
   },
   "outputs": [],
   "source": [
    "# Versión 2 dataframe en un rango de fechas\n",
    "\n",
    "def archivos_mes(directorio, fecha_inicio=None, fecha_fin=None):\n",
    "    archivos = [f for f in os.listdir(directorio) if f.endswith('.nc')]\n",
    "    data = []\n",
    "\n",
    "    for archivo in archivos:\n",
    "        fecha, tipo = extraer_fecha_y_tipo(archivo)\n",
    "        if fecha != '00000000':\n",
    "            data.append({\n",
    "                'año': int(fecha[:4]),\n",
    "                'mes': int(fecha[4:6]),\n",
    "                'fecha': pd.to_datetime(fecha, format='%Y%m%d'),\n",
    "                'tipo': tipo,\n",
    "                'path': os.path.join(directorio, archivo)\n",
    "            })\n",
    "\n",
    "    df = pd.DataFrame(data)\n",
    "    df.sort_values(by=['fecha', 'tipo'], inplace=True)\n",
    "    df['tipo'] = pd.Categorical(df['tipo'], categories=['Max', 'Mean', 'Min'], ordered=True)\n",
    "    df.sort_values(by=['fecha', 'tipo'], inplace=True)\n",
    "    df.reset_index(drop=True, inplace=True)\n",
    "    \n",
    "    # Filtrar el DataFrame por el rango de fechas si se proporcionan\n",
    "    if fecha_inicio and fecha_fin:\n",
    "        df = df[(df['fecha'] >= pd.to_datetime(fecha_inicio)) & (df['fecha'] <= pd.to_datetime(fecha_fin))]\n",
    "\n",
    "    return df"
   ]
  },
  {
   "cell_type": "code",
   "execution_count": 11,
   "id": "b96ee492-9b77-4e8d-9798-b1f8a1ebce35",
   "metadata": {
    "tags": []
   },
   "outputs": [],
   "source": [
    "# Versión 2 dataframe reducido\n",
    "\n",
    "def procesar_rango_meses(fecha_inicio, fecha_fin, directorio, bucket_salida, ruta_salida_s3):\n",
    "    # Convertir fechas de entrada a objetos datetime\n",
    "    fecha_inicio = pd.to_datetime(fecha_inicio)\n",
    "    fecha_fin = pd.to_datetime(fecha_fin)\n",
    "    \n",
    "    # Crear dataframe de todos los archivos a procesar\n",
    "    df = archivos_mes(directorio, fecha_inicio, fecha_fin)\n",
    "    \n",
    "    # Listar todos los meses en el rango de fechas\n",
    "    rango_meses = pd.date_range(start=fecha_inicio, end=fecha_fin, freq='MS')\n",
    "    \n",
    "    # Iterar sobre cada mes en el rango de meses a procesar\n",
    "    for mes_actual in rango_meses:\n",
    "        año = mes_actual.year\n",
    "        mes = mes_actual.month\n",
    "\n",
    "        # Filtrar archivos para el mes\n",
    "        df_mes = df[(df['año'] == año) & (df['mes'] == mes)]\n",
    "        append_zarr(año, mes, df_mes, bucket_salida, ruta_salida_s3)\n",
    "        print(f\"Ejecutado mes: {año}/{mes}\")"
   ]
  },
  {
   "cell_type": "markdown",
   "id": "0bb9510e-5b6a-4664-ae4f-88ab020fd32b",
   "metadata": {},
   "source": [
    "### Ejecución rango de fechas"
   ]
  },
  {
   "cell_type": "code",
   "execution_count": null,
   "id": "fb4b0fdd-2f07-4474-ae51-d56aca76e649",
   "metadata": {
    "tags": []
   },
   "outputs": [],
   "source": [
    "# Rango 2, 5 años\n",
    "directorio = '/home/ec2-user/SageMaker/datalake/data/agera/temperature/landing'\n",
    "fecha_inicio = '2000-01-01'\n",
    "fecha_fin = '2004-12-31'\n",
    "bucket_salida = 'climate-action-datalake'\n",
    "ruta_salida_s3 = 'zone=raw/source=agera5-v1-1/variable=temperature.zarr'\n",
    "\n",
    "#procesar_rango_meses(fecha_inicio, fecha_fin, directorio, bucket_salida, ruta_salida_s3)"
   ]
  },
  {
   "cell_type": "code",
   "execution_count": null,
   "id": "8ed5e886-5366-44ba-a258-6b25f290b7d7",
   "metadata": {
    "tags": []
   },
   "outputs": [],
   "source": [
    "# Rango 3, 5 años\n",
    "directorio = '/home/ec2-user/SageMaker/datalake/data/agera/temperature/landing'\n",
    "fecha_inicio = '2005-01-01'\n",
    "fecha_fin = '2009-12-31'\n",
    "bucket_salida = 'climate-action-datalake'\n",
    "ruta_salida_s3 = 'zone=raw/source=agera5-v1-1/variable=temperature.zarr'\n",
    "\n",
    "procesar_rango_meses(fecha_inicio, fecha_fin, directorio, bucket_salida, ruta_salida_s3)"
   ]
  },
  {
   "cell_type": "code",
   "execution_count": null,
   "id": "c775d2f2-3db6-4986-9ecf-fc88abae4345",
   "metadata": {
    "tags": []
   },
   "outputs": [],
   "source": [
    "# Rango 4, 5 años\n",
    "directorio = '/home/ec2-user/SageMaker/datalake/data/agera/temperature/landing'\n",
    "fecha_inicio = '2010-01-01'\n",
    "fecha_fin = '2014-12-31'\n",
    "bucket_salida = 'climate-action-datalake'\n",
    "ruta_salida_s3 = 'zone=raw/source=agera5-v1-1/variable=temperature.zarr'\n",
    "\n",
    "procesar_rango_meses(fecha_inicio, fecha_fin, directorio, bucket_salida, ruta_salida_s3)"
   ]
  },
  {
   "cell_type": "code",
   "execution_count": null,
   "id": "4c1e638f-3b0d-41fb-8faa-bd44fa80bb32",
   "metadata": {
    "tags": []
   },
   "outputs": [],
   "source": [
    "# Rango 5, 5 años\n",
    "directorio = '/home/ec2-user/SageMaker/datalake/data/agera/temperature/landing'\n",
    "fecha_inicio = '2015-01-01'\n",
    "fecha_fin = '2019-12-31'\n",
    "bucket_salida = 'climate-action-datalake'\n",
    "ruta_salida_s3 = 'zone=raw/source=agera5-v1-1/variable=temperature.zarr'\n",
    "\n",
    "procesar_rango_meses(fecha_inicio, fecha_fin, directorio, bucket_salida, ruta_salida_s3)"
   ]
  },
  {
   "cell_type": "code",
   "execution_count": null,
   "id": "96626eb7-7e88-43d7-884e-b476ae06a2d6",
   "metadata": {
    "tags": []
   },
   "outputs": [],
   "source": [
    "# Rango 6, 4 años y 6 meses\n",
    "directorio = '/home/ec2-user/SageMaker/datalake/data/agera/temperature/landing'\n",
    "fecha_inicio = '2020-01-01'\n",
    "fecha_fin = '2024-07-09'\n",
    "bucket_salida = 'climate-action-datalake'\n",
    "ruta_salida_s3 = 'zone=raw/source=agera5-v1-1/variable=temperature.zarr'\n",
    "\n",
    "procesar_rango_meses(fecha_inicio, fecha_fin, directorio, bucket_salida, ruta_salida_s3)"
   ]
  },
  {
   "cell_type": "code",
   "execution_count": 12,
   "id": "ae7361f1-8698-4ede-8768-11d1d77b8aa7",
   "metadata": {},
   "outputs": [
    {
     "name": "stderr",
     "output_type": "stream",
     "text": [
      "Procesando 1992-01: 100%|██████████| 100/100 [00:21<00:00,  4.56it/s]\n"
     ]
    },
    {
     "name": "stdout",
     "output_type": "stream",
     "text": [
      "Datos del mes 1992-01 procesados y guardados en S3\n",
      "Ejecutado mes: 1992/1\n"
     ]
    },
    {
     "name": "stderr",
     "output_type": "stream",
     "text": [
      "Procesando 1992-02: 100%|██████████| 100/100 [00:20<00:00,  4.87it/s]\n"
     ]
    },
    {
     "name": "stdout",
     "output_type": "stream",
     "text": [
      "Datos del mes 1992-02 procesados y guardados en S3\n",
      "Ejecutado mes: 1992/2\n"
     ]
    },
    {
     "name": "stderr",
     "output_type": "stream",
     "text": [
      "Procesando 1992-03: 100%|██████████| 100/100 [00:19<00:00,  5.01it/s]\n"
     ]
    },
    {
     "name": "stdout",
     "output_type": "stream",
     "text": [
      "Datos del mes 1992-03 procesados y guardados en S3\n",
      "Ejecutado mes: 1992/3\n"
     ]
    },
    {
     "name": "stderr",
     "output_type": "stream",
     "text": [
      "Procesando 1992-04: 100%|██████████| 100/100 [00:20<00:00,  4.90it/s]\n"
     ]
    },
    {
     "name": "stdout",
     "output_type": "stream",
     "text": [
      "Datos del mes 1992-04 procesados y guardados en S3\n",
      "Ejecutado mes: 1992/4\n"
     ]
    },
    {
     "name": "stderr",
     "output_type": "stream",
     "text": [
      "Procesando 1992-05: 100%|██████████| 100/100 [00:20<00:00,  4.93it/s]\n"
     ]
    },
    {
     "name": "stdout",
     "output_type": "stream",
     "text": [
      "Datos del mes 1992-05 procesados y guardados en S3\n",
      "Ejecutado mes: 1992/5\n"
     ]
    },
    {
     "name": "stderr",
     "output_type": "stream",
     "text": [
      "Procesando 1992-06: 100%|██████████| 100/100 [00:20<00:00,  4.99it/s]\n"
     ]
    },
    {
     "name": "stdout",
     "output_type": "stream",
     "text": [
      "Datos del mes 1992-06 procesados y guardados en S3\n",
      "Ejecutado mes: 1992/6\n"
     ]
    },
    {
     "name": "stderr",
     "output_type": "stream",
     "text": [
      "Procesando 1992-07: 100%|██████████| 100/100 [00:20<00:00,  4.97it/s]\n"
     ]
    },
    {
     "name": "stdout",
     "output_type": "stream",
     "text": [
      "Datos del mes 1992-07 procesados y guardados en S3\n",
      "Ejecutado mes: 1992/7\n"
     ]
    },
    {
     "name": "stderr",
     "output_type": "stream",
     "text": [
      "Procesando 1992-08: 100%|██████████| 100/100 [00:20<00:00,  4.98it/s]\n"
     ]
    },
    {
     "name": "stdout",
     "output_type": "stream",
     "text": [
      "Datos del mes 1992-08 procesados y guardados en S3\n",
      "Ejecutado mes: 1992/8\n"
     ]
    },
    {
     "name": "stderr",
     "output_type": "stream",
     "text": [
      "Procesando 1992-09: 100%|██████████| 100/100 [00:20<00:00,  4.89it/s]\n"
     ]
    },
    {
     "name": "stdout",
     "output_type": "stream",
     "text": [
      "Datos del mes 1992-09 procesados y guardados en S3\n",
      "Ejecutado mes: 1992/9\n"
     ]
    },
    {
     "name": "stderr",
     "output_type": "stream",
     "text": [
      "Procesando 1992-10: 100%|██████████| 100/100 [00:20<00:00,  4.94it/s]\n"
     ]
    },
    {
     "name": "stdout",
     "output_type": "stream",
     "text": [
      "Datos del mes 1992-10 procesados y guardados en S3\n",
      "Ejecutado mes: 1992/10\n"
     ]
    },
    {
     "name": "stderr",
     "output_type": "stream",
     "text": [
      "Procesando 1992-11: 100%|██████████| 100/100 [00:20<00:00,  4.93it/s]\n"
     ]
    },
    {
     "name": "stdout",
     "output_type": "stream",
     "text": [
      "Datos del mes 1992-11 procesados y guardados en S3\n",
      "Ejecutado mes: 1992/11\n"
     ]
    },
    {
     "name": "stderr",
     "output_type": "stream",
     "text": [
      "Procesando 1992-12: 100%|██████████| 100/100 [00:20<00:00,  4.91it/s]\n"
     ]
    },
    {
     "name": "stdout",
     "output_type": "stream",
     "text": [
      "Datos del mes 1992-12 procesados y guardados en S3\n",
      "Ejecutado mes: 1992/12\n"
     ]
    },
    {
     "name": "stderr",
     "output_type": "stream",
     "text": [
      "Procesando 1993-01: 100%|██████████| 100/100 [00:22<00:00,  4.54it/s]\n"
     ]
    },
    {
     "name": "stdout",
     "output_type": "stream",
     "text": [
      "Datos del mes 1993-01 procesados y guardados en S3\n",
      "Ejecutado mes: 1993/1\n"
     ]
    },
    {
     "name": "stderr",
     "output_type": "stream",
     "text": [
      "Procesando 1993-02: 100%|██████████| 100/100 [00:19<00:00,  5.00it/s]\n"
     ]
    },
    {
     "name": "stdout",
     "output_type": "stream",
     "text": [
      "Datos del mes 1993-02 procesados y guardados en S3\n",
      "Ejecutado mes: 1993/2\n"
     ]
    },
    {
     "name": "stderr",
     "output_type": "stream",
     "text": [
      "Procesando 1993-03: 100%|██████████| 100/100 [00:21<00:00,  4.69it/s]\n"
     ]
    },
    {
     "name": "stdout",
     "output_type": "stream",
     "text": [
      "Datos del mes 1993-03 procesados y guardados en S3\n",
      "Ejecutado mes: 1993/3\n"
     ]
    },
    {
     "name": "stderr",
     "output_type": "stream",
     "text": [
      "Procesando 1993-04: 100%|██████████| 100/100 [00:19<00:00,  5.21it/s]\n"
     ]
    },
    {
     "name": "stdout",
     "output_type": "stream",
     "text": [
      "Datos del mes 1993-04 procesados y guardados en S3\n",
      "Ejecutado mes: 1993/4\n"
     ]
    },
    {
     "name": "stderr",
     "output_type": "stream",
     "text": [
      "Procesando 1993-05: 100%|██████████| 100/100 [00:22<00:00,  4.48it/s]\n"
     ]
    },
    {
     "name": "stdout",
     "output_type": "stream",
     "text": [
      "Datos del mes 1993-05 procesados y guardados en S3\n",
      "Ejecutado mes: 1993/5\n"
     ]
    },
    {
     "name": "stderr",
     "output_type": "stream",
     "text": [
      "Procesando 1993-06: 100%|██████████| 100/100 [00:23<00:00,  4.35it/s]\n"
     ]
    },
    {
     "name": "stdout",
     "output_type": "stream",
     "text": [
      "Datos del mes 1993-06 procesados y guardados en S3\n",
      "Ejecutado mes: 1993/6\n"
     ]
    },
    {
     "name": "stderr",
     "output_type": "stream",
     "text": [
      "Procesando 1993-07: 100%|██████████| 100/100 [00:22<00:00,  4.44it/s]\n"
     ]
    },
    {
     "name": "stdout",
     "output_type": "stream",
     "text": [
      "Datos del mes 1993-07 procesados y guardados en S3\n",
      "Ejecutado mes: 1993/7\n"
     ]
    },
    {
     "name": "stderr",
     "output_type": "stream",
     "text": [
      "Procesando 1993-08: 100%|██████████| 100/100 [00:25<00:00,  3.95it/s]\n"
     ]
    },
    {
     "name": "stdout",
     "output_type": "stream",
     "text": [
      "Datos del mes 1993-08 procesados y guardados en S3\n",
      "Ejecutado mes: 1993/8\n"
     ]
    },
    {
     "name": "stderr",
     "output_type": "stream",
     "text": [
      "Procesando 1993-09: 100%|██████████| 100/100 [00:21<00:00,  4.65it/s]\n"
     ]
    },
    {
     "name": "stdout",
     "output_type": "stream",
     "text": [
      "Datos del mes 1993-09 procesados y guardados en S3\n",
      "Ejecutado mes: 1993/9\n"
     ]
    },
    {
     "name": "stderr",
     "output_type": "stream",
     "text": [
      "Procesando 1993-10: 100%|██████████| 100/100 [00:22<00:00,  4.50it/s]\n"
     ]
    },
    {
     "name": "stdout",
     "output_type": "stream",
     "text": [
      "Datos del mes 1993-10 procesados y guardados en S3\n",
      "Ejecutado mes: 1993/10\n"
     ]
    },
    {
     "name": "stderr",
     "output_type": "stream",
     "text": [
      "Procesando 1993-11: 100%|██████████| 100/100 [00:21<00:00,  4.58it/s]\n"
     ]
    },
    {
     "name": "stdout",
     "output_type": "stream",
     "text": [
      "Datos del mes 1993-11 procesados y guardados en S3\n",
      "Ejecutado mes: 1993/11\n"
     ]
    },
    {
     "name": "stderr",
     "output_type": "stream",
     "text": [
      "Procesando 1993-12: 100%|██████████| 100/100 [00:23<00:00,  4.25it/s]\n"
     ]
    },
    {
     "name": "stdout",
     "output_type": "stream",
     "text": [
      "Datos del mes 1993-12 procesados y guardados en S3\n",
      "Ejecutado mes: 1993/12\n"
     ]
    },
    {
     "name": "stderr",
     "output_type": "stream",
     "text": [
      "Procesando 1994-01: 100%|██████████| 100/100 [00:23<00:00,  4.31it/s]\n"
     ]
    },
    {
     "name": "stdout",
     "output_type": "stream",
     "text": [
      "Datos del mes 1994-01 procesados y guardados en S3\n",
      "Ejecutado mes: 1994/1\n"
     ]
    },
    {
     "name": "stderr",
     "output_type": "stream",
     "text": [
      "Procesando 1994-02: 100%|██████████| 100/100 [00:24<00:00,  4.10it/s]\n"
     ]
    },
    {
     "name": "stdout",
     "output_type": "stream",
     "text": [
      "Datos del mes 1994-02 procesados y guardados en S3\n",
      "Ejecutado mes: 1994/2\n"
     ]
    },
    {
     "name": "stderr",
     "output_type": "stream",
     "text": [
      "Procesando 1994-03: 100%|██████████| 100/100 [00:23<00:00,  4.28it/s]\n"
     ]
    },
    {
     "name": "stdout",
     "output_type": "stream",
     "text": [
      "Datos del mes 1994-03 procesados y guardados en S3\n",
      "Ejecutado mes: 1994/3\n"
     ]
    },
    {
     "name": "stderr",
     "output_type": "stream",
     "text": [
      "Procesando 1994-04: 100%|██████████| 100/100 [00:22<00:00,  4.51it/s]\n"
     ]
    },
    {
     "name": "stdout",
     "output_type": "stream",
     "text": [
      "Datos del mes 1994-04 procesados y guardados en S3\n",
      "Ejecutado mes: 1994/4\n"
     ]
    },
    {
     "name": "stderr",
     "output_type": "stream",
     "text": [
      "Procesando 1994-05: 100%|██████████| 100/100 [00:22<00:00,  4.44it/s]\n"
     ]
    },
    {
     "name": "stdout",
     "output_type": "stream",
     "text": [
      "Datos del mes 1994-05 procesados y guardados en S3\n",
      "Ejecutado mes: 1994/5\n"
     ]
    },
    {
     "name": "stderr",
     "output_type": "stream",
     "text": [
      "Procesando 1994-06: 100%|██████████| 100/100 [00:22<00:00,  4.47it/s]\n"
     ]
    },
    {
     "name": "stdout",
     "output_type": "stream",
     "text": [
      "Datos del mes 1994-06 procesados y guardados en S3\n",
      "Ejecutado mes: 1994/6\n"
     ]
    },
    {
     "name": "stderr",
     "output_type": "stream",
     "text": [
      "Procesando 1994-07: 100%|██████████| 100/100 [00:23<00:00,  4.32it/s]\n"
     ]
    },
    {
     "name": "stdout",
     "output_type": "stream",
     "text": [
      "Datos del mes 1994-07 procesados y guardados en S3\n",
      "Ejecutado mes: 1994/7\n"
     ]
    },
    {
     "name": "stderr",
     "output_type": "stream",
     "text": [
      "Procesando 1994-08: 100%|██████████| 100/100 [00:23<00:00,  4.22it/s]\n"
     ]
    },
    {
     "name": "stdout",
     "output_type": "stream",
     "text": [
      "Datos del mes 1994-08 procesados y guardados en S3\n",
      "Ejecutado mes: 1994/8\n"
     ]
    },
    {
     "name": "stderr",
     "output_type": "stream",
     "text": [
      "Procesando 1994-09: 100%|██████████| 100/100 [00:21<00:00,  4.63it/s]\n"
     ]
    },
    {
     "name": "stdout",
     "output_type": "stream",
     "text": [
      "Datos del mes 1994-09 procesados y guardados en S3\n",
      "Ejecutado mes: 1994/9\n"
     ]
    },
    {
     "name": "stderr",
     "output_type": "stream",
     "text": [
      "Procesando 1994-10: 100%|██████████| 100/100 [00:22<00:00,  4.39it/s]\n"
     ]
    },
    {
     "name": "stdout",
     "output_type": "stream",
     "text": [
      "Datos del mes 1994-10 procesados y guardados en S3\n",
      "Ejecutado mes: 1994/10\n"
     ]
    },
    {
     "name": "stderr",
     "output_type": "stream",
     "text": [
      "Procesando 1994-11: 100%|██████████| 100/100 [00:22<00:00,  4.36it/s]\n"
     ]
    },
    {
     "name": "stdout",
     "output_type": "stream",
     "text": [
      "Datos del mes 1994-11 procesados y guardados en S3\n",
      "Ejecutado mes: 1994/11\n"
     ]
    },
    {
     "name": "stderr",
     "output_type": "stream",
     "text": [
      "Procesando 1994-12: 100%|██████████| 100/100 [00:24<00:00,  4.08it/s]\n"
     ]
    },
    {
     "name": "stdout",
     "output_type": "stream",
     "text": [
      "Datos del mes 1994-12 procesados y guardados en S3\n",
      "Ejecutado mes: 1994/12\n"
     ]
    },
    {
     "name": "stderr",
     "output_type": "stream",
     "text": [
      "Procesando 1995-01: 100%|██████████| 100/100 [00:24<00:00,  4.10it/s]\n"
     ]
    },
    {
     "name": "stdout",
     "output_type": "stream",
     "text": [
      "Datos del mes 1995-01 procesados y guardados en S3\n",
      "Ejecutado mes: 1995/1\n"
     ]
    },
    {
     "name": "stderr",
     "output_type": "stream",
     "text": [
      "Procesando 1995-02: 100%|██████████| 100/100 [00:21<00:00,  4.65it/s]\n"
     ]
    },
    {
     "name": "stdout",
     "output_type": "stream",
     "text": [
      "Datos del mes 1995-02 procesados y guardados en S3\n",
      "Ejecutado mes: 1995/2\n"
     ]
    },
    {
     "name": "stderr",
     "output_type": "stream",
     "text": [
      "Procesando 1995-03: 100%|██████████| 100/100 [00:24<00:00,  4.11it/s]\n"
     ]
    },
    {
     "name": "stdout",
     "output_type": "stream",
     "text": [
      "Datos del mes 1995-03 procesados y guardados en S3\n",
      "Ejecutado mes: 1995/3\n"
     ]
    },
    {
     "name": "stderr",
     "output_type": "stream",
     "text": [
      "Procesando 1995-04: 100%|██████████| 100/100 [00:22<00:00,  4.41it/s]\n"
     ]
    },
    {
     "name": "stdout",
     "output_type": "stream",
     "text": [
      "Datos del mes 1995-04 procesados y guardados en S3\n",
      "Ejecutado mes: 1995/4\n"
     ]
    },
    {
     "name": "stderr",
     "output_type": "stream",
     "text": [
      "Procesando 1995-05: 100%|██████████| 100/100 [00:22<00:00,  4.35it/s]\n"
     ]
    },
    {
     "name": "stdout",
     "output_type": "stream",
     "text": [
      "Datos del mes 1995-05 procesados y guardados en S3\n",
      "Ejecutado mes: 1995/5\n"
     ]
    },
    {
     "name": "stderr",
     "output_type": "stream",
     "text": [
      "Procesando 1995-06: 100%|██████████| 100/100 [00:27<00:00,  3.64it/s]\n"
     ]
    },
    {
     "name": "stdout",
     "output_type": "stream",
     "text": [
      "Datos del mes 1995-06 procesados y guardados en S3\n",
      "Ejecutado mes: 1995/6\n"
     ]
    },
    {
     "name": "stderr",
     "output_type": "stream",
     "text": [
      "Procesando 1995-07: 100%|██████████| 100/100 [00:23<00:00,  4.18it/s]\n"
     ]
    },
    {
     "name": "stdout",
     "output_type": "stream",
     "text": [
      "Datos del mes 1995-07 procesados y guardados en S3\n",
      "Ejecutado mes: 1995/7\n"
     ]
    },
    {
     "name": "stderr",
     "output_type": "stream",
     "text": [
      "Procesando 1995-08: 100%|██████████| 100/100 [00:23<00:00,  4.19it/s]\n"
     ]
    },
    {
     "name": "stdout",
     "output_type": "stream",
     "text": [
      "Datos del mes 1995-08 procesados y guardados en S3\n",
      "Ejecutado mes: 1995/8\n"
     ]
    },
    {
     "name": "stderr",
     "output_type": "stream",
     "text": [
      "Procesando 1995-09: 100%|██████████| 100/100 [00:22<00:00,  4.38it/s]\n"
     ]
    },
    {
     "name": "stdout",
     "output_type": "stream",
     "text": [
      "Datos del mes 1995-09 procesados y guardados en S3\n",
      "Ejecutado mes: 1995/9\n"
     ]
    },
    {
     "name": "stderr",
     "output_type": "stream",
     "text": [
      "Procesando 1995-10: 100%|██████████| 100/100 [00:22<00:00,  4.39it/s]\n"
     ]
    },
    {
     "name": "stdout",
     "output_type": "stream",
     "text": [
      "Datos del mes 1995-10 procesados y guardados en S3\n",
      "Ejecutado mes: 1995/10\n"
     ]
    },
    {
     "name": "stderr",
     "output_type": "stream",
     "text": [
      "Procesando 1995-11: 100%|██████████| 100/100 [00:24<00:00,  4.15it/s]\n"
     ]
    },
    {
     "name": "stdout",
     "output_type": "stream",
     "text": [
      "Datos del mes 1995-11 procesados y guardados en S3\n",
      "Ejecutado mes: 1995/11\n"
     ]
    },
    {
     "name": "stderr",
     "output_type": "stream",
     "text": [
      "Procesando 1995-12: 100%|██████████| 100/100 [00:23<00:00,  4.25it/s]\n"
     ]
    },
    {
     "name": "stdout",
     "output_type": "stream",
     "text": [
      "Datos del mes 1995-12 procesados y guardados en S3\n",
      "Ejecutado mes: 1995/12\n"
     ]
    },
    {
     "name": "stderr",
     "output_type": "stream",
     "text": [
      "Procesando 1996-01: 100%|██████████| 100/100 [00:23<00:00,  4.31it/s]\n"
     ]
    },
    {
     "name": "stdout",
     "output_type": "stream",
     "text": [
      "Datos del mes 1996-01 procesados y guardados en S3\n",
      "Ejecutado mes: 1996/1\n"
     ]
    },
    {
     "name": "stderr",
     "output_type": "stream",
     "text": [
      "Procesando 1996-02: 100%|██████████| 100/100 [00:22<00:00,  4.41it/s]\n"
     ]
    },
    {
     "name": "stdout",
     "output_type": "stream",
     "text": [
      "Datos del mes 1996-02 procesados y guardados en S3\n",
      "Ejecutado mes: 1996/2\n"
     ]
    },
    {
     "name": "stderr",
     "output_type": "stream",
     "text": [
      "Procesando 1996-03: 100%|██████████| 100/100 [00:23<00:00,  4.27it/s]\n"
     ]
    },
    {
     "name": "stdout",
     "output_type": "stream",
     "text": [
      "Datos del mes 1996-03 procesados y guardados en S3\n",
      "Ejecutado mes: 1996/3\n"
     ]
    },
    {
     "name": "stderr",
     "output_type": "stream",
     "text": [
      "Procesando 1996-04: 100%|██████████| 100/100 [00:22<00:00,  4.35it/s]\n"
     ]
    },
    {
     "name": "stdout",
     "output_type": "stream",
     "text": [
      "Datos del mes 1996-04 procesados y guardados en S3\n",
      "Ejecutado mes: 1996/4\n"
     ]
    },
    {
     "name": "stderr",
     "output_type": "stream",
     "text": [
      "Procesando 1996-05: 100%|██████████| 100/100 [00:22<00:00,  4.42it/s]\n"
     ]
    },
    {
     "name": "stdout",
     "output_type": "stream",
     "text": [
      "Datos del mes 1996-05 procesados y guardados en S3\n",
      "Ejecutado mes: 1996/5\n"
     ]
    },
    {
     "name": "stderr",
     "output_type": "stream",
     "text": [
      "Procesando 1996-06: 100%|██████████| 100/100 [00:21<00:00,  4.73it/s]\n"
     ]
    },
    {
     "name": "stdout",
     "output_type": "stream",
     "text": [
      "Datos del mes 1996-06 procesados y guardados en S3\n",
      "Ejecutado mes: 1996/6\n"
     ]
    },
    {
     "name": "stderr",
     "output_type": "stream",
     "text": [
      "Procesando 1996-07: 100%|██████████| 100/100 [00:21<00:00,  4.58it/s]\n"
     ]
    },
    {
     "name": "stdout",
     "output_type": "stream",
     "text": [
      "Datos del mes 1996-07 procesados y guardados en S3\n",
      "Ejecutado mes: 1996/7\n"
     ]
    },
    {
     "name": "stderr",
     "output_type": "stream",
     "text": [
      "Procesando 1996-08: 100%|██████████| 100/100 [00:22<00:00,  4.52it/s]\n"
     ]
    },
    {
     "name": "stdout",
     "output_type": "stream",
     "text": [
      "Datos del mes 1996-08 procesados y guardados en S3\n",
      "Ejecutado mes: 1996/8\n"
     ]
    },
    {
     "name": "stderr",
     "output_type": "stream",
     "text": [
      "Procesando 1996-09: 100%|██████████| 100/100 [00:21<00:00,  4.66it/s]\n"
     ]
    },
    {
     "name": "stdout",
     "output_type": "stream",
     "text": [
      "Datos del mes 1996-09 procesados y guardados en S3\n",
      "Ejecutado mes: 1996/9\n"
     ]
    },
    {
     "name": "stderr",
     "output_type": "stream",
     "text": [
      "Procesando 1996-10: 100%|██████████| 100/100 [00:21<00:00,  4.64it/s]\n"
     ]
    },
    {
     "name": "stdout",
     "output_type": "stream",
     "text": [
      "Datos del mes 1996-10 procesados y guardados en S3\n",
      "Ejecutado mes: 1996/10\n"
     ]
    },
    {
     "name": "stderr",
     "output_type": "stream",
     "text": [
      "Procesando 1996-11: 100%|██████████| 100/100 [00:22<00:00,  4.50it/s]\n"
     ]
    },
    {
     "name": "stdout",
     "output_type": "stream",
     "text": [
      "Datos del mes 1996-11 procesados y guardados en S3\n",
      "Ejecutado mes: 1996/11\n"
     ]
    },
    {
     "name": "stderr",
     "output_type": "stream",
     "text": [
      "Procesando 1996-12: 100%|██████████| 100/100 [00:22<00:00,  4.46it/s]\n"
     ]
    },
    {
     "name": "stdout",
     "output_type": "stream",
     "text": [
      "Datos del mes 1996-12 procesados y guardados en S3\n",
      "Ejecutado mes: 1996/12\n"
     ]
    },
    {
     "name": "stderr",
     "output_type": "stream",
     "text": [
      "Procesando 1997-01: 100%|██████████| 100/100 [00:22<00:00,  4.36it/s]\n"
     ]
    },
    {
     "name": "stdout",
     "output_type": "stream",
     "text": [
      "Datos del mes 1997-01 procesados y guardados en S3\n",
      "Ejecutado mes: 1997/1\n"
     ]
    },
    {
     "name": "stderr",
     "output_type": "stream",
     "text": [
      "Procesando 1997-02: 100%|██████████| 100/100 [00:22<00:00,  4.50it/s]\n"
     ]
    },
    {
     "name": "stdout",
     "output_type": "stream",
     "text": [
      "Datos del mes 1997-02 procesados y guardados en S3\n",
      "Ejecutado mes: 1997/2\n"
     ]
    },
    {
     "name": "stderr",
     "output_type": "stream",
     "text": [
      "Procesando 1997-03: 100%|██████████| 100/100 [00:22<00:00,  4.47it/s]\n"
     ]
    },
    {
     "name": "stdout",
     "output_type": "stream",
     "text": [
      "Datos del mes 1997-03 procesados y guardados en S3\n",
      "Ejecutado mes: 1997/3\n"
     ]
    },
    {
     "name": "stderr",
     "output_type": "stream",
     "text": [
      "Procesando 1997-04: 100%|██████████| 100/100 [00:21<00:00,  4.69it/s]\n"
     ]
    },
    {
     "name": "stdout",
     "output_type": "stream",
     "text": [
      "Datos del mes 1997-04 procesados y guardados en S3\n",
      "Ejecutado mes: 1997/4\n"
     ]
    },
    {
     "name": "stderr",
     "output_type": "stream",
     "text": [
      "Procesando 1997-05: 100%|██████████| 100/100 [00:22<00:00,  4.37it/s]\n"
     ]
    },
    {
     "name": "stdout",
     "output_type": "stream",
     "text": [
      "Datos del mes 1997-05 procesados y guardados en S3\n",
      "Ejecutado mes: 1997/5\n"
     ]
    },
    {
     "name": "stderr",
     "output_type": "stream",
     "text": [
      "Procesando 1997-06: 100%|██████████| 100/100 [00:21<00:00,  4.59it/s]\n"
     ]
    },
    {
     "name": "stdout",
     "output_type": "stream",
     "text": [
      "Datos del mes 1997-06 procesados y guardados en S3\n",
      "Ejecutado mes: 1997/6\n"
     ]
    },
    {
     "name": "stderr",
     "output_type": "stream",
     "text": [
      "Procesando 1997-07: 100%|██████████| 100/100 [00:21<00:00,  4.62it/s]\n"
     ]
    },
    {
     "name": "stdout",
     "output_type": "stream",
     "text": [
      "Datos del mes 1997-07 procesados y guardados en S3\n",
      "Ejecutado mes: 1997/7\n"
     ]
    },
    {
     "name": "stderr",
     "output_type": "stream",
     "text": [
      "Procesando 1997-08: 100%|██████████| 100/100 [00:22<00:00,  4.50it/s]\n"
     ]
    },
    {
     "name": "stdout",
     "output_type": "stream",
     "text": [
      "Datos del mes 1997-08 procesados y guardados en S3\n",
      "Ejecutado mes: 1997/8\n"
     ]
    },
    {
     "name": "stderr",
     "output_type": "stream",
     "text": [
      "Procesando 1997-09: 100%|██████████| 100/100 [00:22<00:00,  4.52it/s]\n"
     ]
    },
    {
     "name": "stdout",
     "output_type": "stream",
     "text": [
      "Datos del mes 1997-09 procesados y guardados en S3\n",
      "Ejecutado mes: 1997/9\n"
     ]
    },
    {
     "name": "stderr",
     "output_type": "stream",
     "text": [
      "Procesando 1997-10: 100%|██████████| 100/100 [00:22<00:00,  4.49it/s]\n"
     ]
    },
    {
     "name": "stdout",
     "output_type": "stream",
     "text": [
      "Datos del mes 1997-10 procesados y guardados en S3\n",
      "Ejecutado mes: 1997/10\n"
     ]
    },
    {
     "name": "stderr",
     "output_type": "stream",
     "text": [
      "Procesando 1997-11: 100%|██████████| 100/100 [00:22<00:00,  4.53it/s]\n"
     ]
    },
    {
     "name": "stdout",
     "output_type": "stream",
     "text": [
      "Datos del mes 1997-11 procesados y guardados en S3\n",
      "Ejecutado mes: 1997/11\n"
     ]
    },
    {
     "name": "stderr",
     "output_type": "stream",
     "text": [
      "Procesando 1997-12: 100%|██████████| 100/100 [00:21<00:00,  4.59it/s]\n"
     ]
    },
    {
     "name": "stdout",
     "output_type": "stream",
     "text": [
      "Datos del mes 1997-12 procesados y guardados en S3\n",
      "Ejecutado mes: 1997/12\n"
     ]
    },
    {
     "name": "stderr",
     "output_type": "stream",
     "text": [
      "Procesando 1998-01: 100%|██████████| 100/100 [00:22<00:00,  4.36it/s]\n"
     ]
    },
    {
     "name": "stdout",
     "output_type": "stream",
     "text": [
      "Datos del mes 1998-01 procesados y guardados en S3\n",
      "Ejecutado mes: 1998/1\n"
     ]
    },
    {
     "name": "stderr",
     "output_type": "stream",
     "text": [
      "Procesando 1998-02: 100%|██████████| 100/100 [00:20<00:00,  4.87it/s]\n"
     ]
    },
    {
     "name": "stdout",
     "output_type": "stream",
     "text": [
      "Datos del mes 1998-02 procesados y guardados en S3\n",
      "Ejecutado mes: 1998/2\n"
     ]
    },
    {
     "name": "stderr",
     "output_type": "stream",
     "text": [
      "Procesando 1998-03: 100%|██████████| 100/100 [00:22<00:00,  4.50it/s]\n"
     ]
    },
    {
     "name": "stdout",
     "output_type": "stream",
     "text": [
      "Datos del mes 1998-03 procesados y guardados en S3\n",
      "Ejecutado mes: 1998/3\n"
     ]
    },
    {
     "name": "stderr",
     "output_type": "stream",
     "text": [
      "Procesando 1998-04: 100%|██████████| 100/100 [00:21<00:00,  4.71it/s]\n"
     ]
    },
    {
     "name": "stdout",
     "output_type": "stream",
     "text": [
      "Datos del mes 1998-04 procesados y guardados en S3\n",
      "Ejecutado mes: 1998/4\n"
     ]
    },
    {
     "name": "stderr",
     "output_type": "stream",
     "text": [
      "Procesando 1998-05: 100%|██████████| 100/100 [00:22<00:00,  4.45it/s]\n"
     ]
    },
    {
     "name": "stdout",
     "output_type": "stream",
     "text": [
      "Datos del mes 1998-05 procesados y guardados en S3\n",
      "Ejecutado mes: 1998/5\n"
     ]
    },
    {
     "name": "stderr",
     "output_type": "stream",
     "text": [
      "Procesando 1998-06: 100%|██████████| 100/100 [00:22<00:00,  4.52it/s]\n"
     ]
    },
    {
     "name": "stdout",
     "output_type": "stream",
     "text": [
      "Datos del mes 1998-06 procesados y guardados en S3\n",
      "Ejecutado mes: 1998/6\n"
     ]
    },
    {
     "name": "stderr",
     "output_type": "stream",
     "text": [
      "Procesando 1998-07: 100%|██████████| 100/100 [00:22<00:00,  4.54it/s]\n"
     ]
    },
    {
     "name": "stdout",
     "output_type": "stream",
     "text": [
      "Datos del mes 1998-07 procesados y guardados en S3\n",
      "Ejecutado mes: 1998/7\n"
     ]
    },
    {
     "name": "stderr",
     "output_type": "stream",
     "text": [
      "Procesando 1998-08: 100%|██████████| 100/100 [00:22<00:00,  4.47it/s]\n"
     ]
    },
    {
     "name": "stdout",
     "output_type": "stream",
     "text": [
      "Datos del mes 1998-08 procesados y guardados en S3\n",
      "Ejecutado mes: 1998/8\n"
     ]
    },
    {
     "name": "stderr",
     "output_type": "stream",
     "text": [
      "Procesando 1998-09: 100%|██████████| 100/100 [00:21<00:00,  4.56it/s]\n"
     ]
    },
    {
     "name": "stdout",
     "output_type": "stream",
     "text": [
      "Datos del mes 1998-09 procesados y guardados en S3\n",
      "Ejecutado mes: 1998/9\n"
     ]
    },
    {
     "name": "stderr",
     "output_type": "stream",
     "text": [
      "Procesando 1998-10: 100%|██████████| 100/100 [00:25<00:00,  3.96it/s]\n"
     ]
    },
    {
     "name": "stdout",
     "output_type": "stream",
     "text": [
      "Datos del mes 1998-10 procesados y guardados en S3\n",
      "Ejecutado mes: 1998/10\n"
     ]
    },
    {
     "name": "stderr",
     "output_type": "stream",
     "text": [
      "Procesando 1998-11: 100%|██████████| 100/100 [00:21<00:00,  4.59it/s]\n"
     ]
    },
    {
     "name": "stdout",
     "output_type": "stream",
     "text": [
      "Datos del mes 1998-11 procesados y guardados en S3\n",
      "Ejecutado mes: 1998/11\n"
     ]
    },
    {
     "name": "stderr",
     "output_type": "stream",
     "text": [
      "Procesando 1998-12: 100%|██████████| 100/100 [00:21<00:00,  4.55it/s]\n"
     ]
    },
    {
     "name": "stdout",
     "output_type": "stream",
     "text": [
      "Datos del mes 1998-12 procesados y guardados en S3\n",
      "Ejecutado mes: 1998/12\n"
     ]
    },
    {
     "name": "stderr",
     "output_type": "stream",
     "text": [
      "Procesando 1999-01: 100%|██████████| 100/100 [00:21<00:00,  4.59it/s]\n"
     ]
    },
    {
     "name": "stdout",
     "output_type": "stream",
     "text": [
      "Datos del mes 1999-01 procesados y guardados en S3\n",
      "Ejecutado mes: 1999/1\n"
     ]
    },
    {
     "name": "stderr",
     "output_type": "stream",
     "text": [
      "Procesando 1999-02: 100%|██████████| 100/100 [00:20<00:00,  4.78it/s]\n"
     ]
    },
    {
     "name": "stdout",
     "output_type": "stream",
     "text": [
      "Datos del mes 1999-02 procesados y guardados en S3\n",
      "Ejecutado mes: 1999/2\n"
     ]
    },
    {
     "name": "stderr",
     "output_type": "stream",
     "text": [
      "Procesando 1999-03: 100%|██████████| 100/100 [00:23<00:00,  4.29it/s]\n"
     ]
    },
    {
     "name": "stdout",
     "output_type": "stream",
     "text": [
      "Datos del mes 1999-03 procesados y guardados en S3\n",
      "Ejecutado mes: 1999/3\n"
     ]
    },
    {
     "name": "stderr",
     "output_type": "stream",
     "text": [
      "Procesando 1999-04: 100%|██████████| 100/100 [00:22<00:00,  4.47it/s]\n"
     ]
    },
    {
     "name": "stdout",
     "output_type": "stream",
     "text": [
      "Datos del mes 1999-04 procesados y guardados en S3\n",
      "Ejecutado mes: 1999/4\n"
     ]
    },
    {
     "name": "stderr",
     "output_type": "stream",
     "text": [
      "Procesando 1999-05: 100%|██████████| 100/100 [00:22<00:00,  4.39it/s]\n"
     ]
    },
    {
     "name": "stdout",
     "output_type": "stream",
     "text": [
      "Datos del mes 1999-05 procesados y guardados en S3\n",
      "Ejecutado mes: 1999/5\n"
     ]
    },
    {
     "name": "stderr",
     "output_type": "stream",
     "text": [
      "Procesando 1999-06: 100%|██████████| 100/100 [00:22<00:00,  4.47it/s]\n"
     ]
    },
    {
     "name": "stdout",
     "output_type": "stream",
     "text": [
      "Datos del mes 1999-06 procesados y guardados en S3\n",
      "Ejecutado mes: 1999/6\n"
     ]
    },
    {
     "name": "stderr",
     "output_type": "stream",
     "text": [
      "Procesando 1999-07: 100%|██████████| 100/100 [00:22<00:00,  4.47it/s]\n"
     ]
    },
    {
     "name": "stdout",
     "output_type": "stream",
     "text": [
      "Datos del mes 1999-07 procesados y guardados en S3\n",
      "Ejecutado mes: 1999/7\n"
     ]
    },
    {
     "name": "stderr",
     "output_type": "stream",
     "text": [
      "Procesando 1999-08: 100%|██████████| 100/100 [00:22<00:00,  4.49it/s]\n"
     ]
    },
    {
     "name": "stdout",
     "output_type": "stream",
     "text": [
      "Datos del mes 1999-08 procesados y guardados en S3\n",
      "Ejecutado mes: 1999/8\n"
     ]
    },
    {
     "name": "stderr",
     "output_type": "stream",
     "text": [
      "Procesando 1999-09: 100%|██████████| 100/100 [00:21<00:00,  4.62it/s]\n"
     ]
    },
    {
     "name": "stdout",
     "output_type": "stream",
     "text": [
      "Datos del mes 1999-09 procesados y guardados en S3\n",
      "Ejecutado mes: 1999/9\n"
     ]
    },
    {
     "name": "stderr",
     "output_type": "stream",
     "text": [
      "Procesando 1999-10: 100%|██████████| 100/100 [00:22<00:00,  4.35it/s]\n"
     ]
    },
    {
     "name": "stdout",
     "output_type": "stream",
     "text": [
      "Datos del mes 1999-10 procesados y guardados en S3\n",
      "Ejecutado mes: 1999/10\n"
     ]
    },
    {
     "name": "stderr",
     "output_type": "stream",
     "text": [
      "Procesando 1999-11: 100%|██████████| 100/100 [00:23<00:00,  4.17it/s]\n"
     ]
    },
    {
     "name": "stdout",
     "output_type": "stream",
     "text": [
      "Datos del mes 1999-11 procesados y guardados en S3\n",
      "Ejecutado mes: 1999/11\n"
     ]
    },
    {
     "name": "stderr",
     "output_type": "stream",
     "text": [
      "Procesando 1999-12: 100%|██████████| 100/100 [00:24<00:00,  4.02it/s]"
     ]
    },
    {
     "name": "stdout",
     "output_type": "stream",
     "text": [
      "Datos del mes 1999-12 procesados y guardados en S3\n",
      "Ejecutado mes: 1999/12\n"
     ]
    },
    {
     "name": "stderr",
     "output_type": "stream",
     "text": [
      "\n"
     ]
    }
   ],
   "source": [
    "# Rango 1, 20 años\n",
    "directorio = '/home/ec2-user/SageMaker/datalake/data/agera/temperature/landing'\n",
    "fecha_inicio = '1980-01-01'\n",
    "fecha_fin = '1999-12-31'\n",
    "bucket_salida = 'climate-action-datalake'\n",
    "ruta_salida_s3 = 'zone=raw/source=agera5-v1-1/variable=temperature.zarr'\n",
    "\n",
    "#procesar_rango_meses(fecha_inicio, fecha_fin, directorio, bucket_salida, ruta_salida_s3)"
   ]
  },
  {
   "cell_type": "markdown",
   "id": "9f024313-d9fb-4b74-b909-504e1c337770",
   "metadata": {},
   "source": [
    "## Validar zarr"
   ]
  },
  {
   "cell_type": "code",
   "execution_count": 19,
   "id": "1b4df31a-612f-4ef5-9e97-3f0fa5afc8fd",
   "metadata": {
    "tags": []
   },
   "outputs": [
    {
     "data": {
      "text/html": [
       "<div><svg style=\"position: absolute; width: 0; height: 0; overflow: hidden\">\n",
       "<defs>\n",
       "<symbol id=\"icon-database\" viewBox=\"0 0 32 32\">\n",
       "<path d=\"M16 0c-8.837 0-16 2.239-16 5v4c0 2.761 7.163 5 16 5s16-2.239 16-5v-4c0-2.761-7.163-5-16-5z\"></path>\n",
       "<path d=\"M16 17c-8.837 0-16-2.239-16-5v6c0 2.761 7.163 5 16 5s16-2.239 16-5v-6c0 2.761-7.163 5-16 5z\"></path>\n",
       "<path d=\"M16 26c-8.837 0-16-2.239-16-5v6c0 2.761 7.163 5 16 5s16-2.239 16-5v-6c0 2.761-7.163 5-16 5z\"></path>\n",
       "</symbol>\n",
       "<symbol id=\"icon-file-text2\" viewBox=\"0 0 32 32\">\n",
       "<path d=\"M28.681 7.159c-0.694-0.947-1.662-2.053-2.724-3.116s-2.169-2.030-3.116-2.724c-1.612-1.182-2.393-1.319-2.841-1.319h-15.5c-1.378 0-2.5 1.121-2.5 2.5v27c0 1.378 1.122 2.5 2.5 2.5h23c1.378 0 2.5-1.122 2.5-2.5v-19.5c0-0.448-0.137-1.23-1.319-2.841zM24.543 5.457c0.959 0.959 1.712 1.825 2.268 2.543h-4.811v-4.811c0.718 0.556 1.584 1.309 2.543 2.268zM28 29.5c0 0.271-0.229 0.5-0.5 0.5h-23c-0.271 0-0.5-0.229-0.5-0.5v-27c0-0.271 0.229-0.5 0.5-0.5 0 0 15.499-0 15.5 0v7c0 0.552 0.448 1 1 1h7v19.5z\"></path>\n",
       "<path d=\"M23 26h-14c-0.552 0-1-0.448-1-1s0.448-1 1-1h14c0.552 0 1 0.448 1 1s-0.448 1-1 1z\"></path>\n",
       "<path d=\"M23 22h-14c-0.552 0-1-0.448-1-1s0.448-1 1-1h14c0.552 0 1 0.448 1 1s-0.448 1-1 1z\"></path>\n",
       "<path d=\"M23 18h-14c-0.552 0-1-0.448-1-1s0.448-1 1-1h14c0.552 0 1 0.448 1 1s-0.448 1-1 1z\"></path>\n",
       "</symbol>\n",
       "</defs>\n",
       "</svg>\n",
       "<style>/* CSS stylesheet for displaying xarray objects in jupyterlab.\n",
       " *\n",
       " */\n",
       "\n",
       ":root {\n",
       "  --xr-font-color0: var(--jp-content-font-color0, rgba(0, 0, 0, 1));\n",
       "  --xr-font-color2: var(--jp-content-font-color2, rgba(0, 0, 0, 0.54));\n",
       "  --xr-font-color3: var(--jp-content-font-color3, rgba(0, 0, 0, 0.38));\n",
       "  --xr-border-color: var(--jp-border-color2, #e0e0e0);\n",
       "  --xr-disabled-color: var(--jp-layout-color3, #bdbdbd);\n",
       "  --xr-background-color: var(--jp-layout-color0, white);\n",
       "  --xr-background-color-row-even: var(--jp-layout-color1, white);\n",
       "  --xr-background-color-row-odd: var(--jp-layout-color2, #eeeeee);\n",
       "}\n",
       "\n",
       "html[theme=dark],\n",
       "body[data-theme=dark],\n",
       "body.vscode-dark {\n",
       "  --xr-font-color0: rgba(255, 255, 255, 1);\n",
       "  --xr-font-color2: rgba(255, 255, 255, 0.54);\n",
       "  --xr-font-color3: rgba(255, 255, 255, 0.38);\n",
       "  --xr-border-color: #1F1F1F;\n",
       "  --xr-disabled-color: #515151;\n",
       "  --xr-background-color: #111111;\n",
       "  --xr-background-color-row-even: #111111;\n",
       "  --xr-background-color-row-odd: #313131;\n",
       "}\n",
       "\n",
       ".xr-wrap {\n",
       "  display: block !important;\n",
       "  min-width: 300px;\n",
       "  max-width: 700px;\n",
       "}\n",
       "\n",
       ".xr-text-repr-fallback {\n",
       "  /* fallback to plain text repr when CSS is not injected (untrusted notebook) */\n",
       "  display: none;\n",
       "}\n",
       "\n",
       ".xr-header {\n",
       "  padding-top: 6px;\n",
       "  padding-bottom: 6px;\n",
       "  margin-bottom: 4px;\n",
       "  border-bottom: solid 1px var(--xr-border-color);\n",
       "}\n",
       "\n",
       ".xr-header > div,\n",
       ".xr-header > ul {\n",
       "  display: inline;\n",
       "  margin-top: 0;\n",
       "  margin-bottom: 0;\n",
       "}\n",
       "\n",
       ".xr-obj-type,\n",
       ".xr-array-name {\n",
       "  margin-left: 2px;\n",
       "  margin-right: 10px;\n",
       "}\n",
       "\n",
       ".xr-obj-type {\n",
       "  color: var(--xr-font-color2);\n",
       "}\n",
       "\n",
       ".xr-sections {\n",
       "  padding-left: 0 !important;\n",
       "  display: grid;\n",
       "  grid-template-columns: 150px auto auto 1fr 20px 20px;\n",
       "}\n",
       "\n",
       ".xr-section-item {\n",
       "  display: contents;\n",
       "}\n",
       "\n",
       ".xr-section-item input {\n",
       "  display: none;\n",
       "}\n",
       "\n",
       ".xr-section-item input + label {\n",
       "  color: var(--xr-disabled-color);\n",
       "}\n",
       "\n",
       ".xr-section-item input:enabled + label {\n",
       "  cursor: pointer;\n",
       "  color: var(--xr-font-color2);\n",
       "}\n",
       "\n",
       ".xr-section-item input:enabled + label:hover {\n",
       "  color: var(--xr-font-color0);\n",
       "}\n",
       "\n",
       ".xr-section-summary {\n",
       "  grid-column: 1;\n",
       "  color: var(--xr-font-color2);\n",
       "  font-weight: 500;\n",
       "}\n",
       "\n",
       ".xr-section-summary > span {\n",
       "  display: inline-block;\n",
       "  padding-left: 0.5em;\n",
       "}\n",
       "\n",
       ".xr-section-summary-in:disabled + label {\n",
       "  color: var(--xr-font-color2);\n",
       "}\n",
       "\n",
       ".xr-section-summary-in + label:before {\n",
       "  display: inline-block;\n",
       "  content: '►';\n",
       "  font-size: 11px;\n",
       "  width: 15px;\n",
       "  text-align: center;\n",
       "}\n",
       "\n",
       ".xr-section-summary-in:disabled + label:before {\n",
       "  color: var(--xr-disabled-color);\n",
       "}\n",
       "\n",
       ".xr-section-summary-in:checked + label:before {\n",
       "  content: '▼';\n",
       "}\n",
       "\n",
       ".xr-section-summary-in:checked + label > span {\n",
       "  display: none;\n",
       "}\n",
       "\n",
       ".xr-section-summary,\n",
       ".xr-section-inline-details {\n",
       "  padding-top: 4px;\n",
       "  padding-bottom: 4px;\n",
       "}\n",
       "\n",
       ".xr-section-inline-details {\n",
       "  grid-column: 2 / -1;\n",
       "}\n",
       "\n",
       ".xr-section-details {\n",
       "  display: none;\n",
       "  grid-column: 1 / -1;\n",
       "  margin-bottom: 5px;\n",
       "}\n",
       "\n",
       ".xr-section-summary-in:checked ~ .xr-section-details {\n",
       "  display: contents;\n",
       "}\n",
       "\n",
       ".xr-array-wrap {\n",
       "  grid-column: 1 / -1;\n",
       "  display: grid;\n",
       "  grid-template-columns: 20px auto;\n",
       "}\n",
       "\n",
       ".xr-array-wrap > label {\n",
       "  grid-column: 1;\n",
       "  vertical-align: top;\n",
       "}\n",
       "\n",
       ".xr-preview {\n",
       "  color: var(--xr-font-color3);\n",
       "}\n",
       "\n",
       ".xr-array-preview,\n",
       ".xr-array-data {\n",
       "  padding: 0 5px !important;\n",
       "  grid-column: 2;\n",
       "}\n",
       "\n",
       ".xr-array-data,\n",
       ".xr-array-in:checked ~ .xr-array-preview {\n",
       "  display: none;\n",
       "}\n",
       "\n",
       ".xr-array-in:checked ~ .xr-array-data,\n",
       ".xr-array-preview {\n",
       "  display: inline-block;\n",
       "}\n",
       "\n",
       ".xr-dim-list {\n",
       "  display: inline-block !important;\n",
       "  list-style: none;\n",
       "  padding: 0 !important;\n",
       "  margin: 0;\n",
       "}\n",
       "\n",
       ".xr-dim-list li {\n",
       "  display: inline-block;\n",
       "  padding: 0;\n",
       "  margin: 0;\n",
       "}\n",
       "\n",
       ".xr-dim-list:before {\n",
       "  content: '(';\n",
       "}\n",
       "\n",
       ".xr-dim-list:after {\n",
       "  content: ')';\n",
       "}\n",
       "\n",
       ".xr-dim-list li:not(:last-child):after {\n",
       "  content: ',';\n",
       "  padding-right: 5px;\n",
       "}\n",
       "\n",
       ".xr-has-index {\n",
       "  font-weight: bold;\n",
       "}\n",
       "\n",
       ".xr-var-list,\n",
       ".xr-var-item {\n",
       "  display: contents;\n",
       "}\n",
       "\n",
       ".xr-var-item > div,\n",
       ".xr-var-item label,\n",
       ".xr-var-item > .xr-var-name span {\n",
       "  background-color: var(--xr-background-color-row-even);\n",
       "  margin-bottom: 0;\n",
       "}\n",
       "\n",
       ".xr-var-item > .xr-var-name:hover span {\n",
       "  padding-right: 5px;\n",
       "}\n",
       "\n",
       ".xr-var-list > li:nth-child(odd) > div,\n",
       ".xr-var-list > li:nth-child(odd) > label,\n",
       ".xr-var-list > li:nth-child(odd) > .xr-var-name span {\n",
       "  background-color: var(--xr-background-color-row-odd);\n",
       "}\n",
       "\n",
       ".xr-var-name {\n",
       "  grid-column: 1;\n",
       "}\n",
       "\n",
       ".xr-var-dims {\n",
       "  grid-column: 2;\n",
       "}\n",
       "\n",
       ".xr-var-dtype {\n",
       "  grid-column: 3;\n",
       "  text-align: right;\n",
       "  color: var(--xr-font-color2);\n",
       "}\n",
       "\n",
       ".xr-var-preview {\n",
       "  grid-column: 4;\n",
       "}\n",
       "\n",
       ".xr-index-preview {\n",
       "  grid-column: 2 / 5;\n",
       "  color: var(--xr-font-color2);\n",
       "}\n",
       "\n",
       ".xr-var-name,\n",
       ".xr-var-dims,\n",
       ".xr-var-dtype,\n",
       ".xr-preview,\n",
       ".xr-attrs dt {\n",
       "  white-space: nowrap;\n",
       "  overflow: hidden;\n",
       "  text-overflow: ellipsis;\n",
       "  padding-right: 10px;\n",
       "}\n",
       "\n",
       ".xr-var-name:hover,\n",
       ".xr-var-dims:hover,\n",
       ".xr-var-dtype:hover,\n",
       ".xr-attrs dt:hover {\n",
       "  overflow: visible;\n",
       "  width: auto;\n",
       "  z-index: 1;\n",
       "}\n",
       "\n",
       ".xr-var-attrs,\n",
       ".xr-var-data,\n",
       ".xr-index-data {\n",
       "  display: none;\n",
       "  background-color: var(--xr-background-color) !important;\n",
       "  padding-bottom: 5px !important;\n",
       "}\n",
       "\n",
       ".xr-var-attrs-in:checked ~ .xr-var-attrs,\n",
       ".xr-var-data-in:checked ~ .xr-var-data,\n",
       ".xr-index-data-in:checked ~ .xr-index-data {\n",
       "  display: block;\n",
       "}\n",
       "\n",
       ".xr-var-data > table {\n",
       "  float: right;\n",
       "}\n",
       "\n",
       ".xr-var-name span,\n",
       ".xr-var-data,\n",
       ".xr-index-name div,\n",
       ".xr-index-data,\n",
       ".xr-attrs {\n",
       "  padding-left: 25px !important;\n",
       "}\n",
       "\n",
       ".xr-attrs,\n",
       ".xr-var-attrs,\n",
       ".xr-var-data,\n",
       ".xr-index-data {\n",
       "  grid-column: 1 / -1;\n",
       "}\n",
       "\n",
       "dl.xr-attrs {\n",
       "  padding: 0;\n",
       "  margin: 0;\n",
       "  display: grid;\n",
       "  grid-template-columns: 125px auto;\n",
       "}\n",
       "\n",
       ".xr-attrs dt,\n",
       ".xr-attrs dd {\n",
       "  padding: 0;\n",
       "  margin: 0;\n",
       "  float: left;\n",
       "  padding-right: 10px;\n",
       "  width: auto;\n",
       "}\n",
       "\n",
       ".xr-attrs dt {\n",
       "  font-weight: normal;\n",
       "  grid-column: 1;\n",
       "}\n",
       "\n",
       ".xr-attrs dt:hover span {\n",
       "  display: inline-block;\n",
       "  background: var(--xr-background-color);\n",
       "  padding-right: 10px;\n",
       "}\n",
       "\n",
       ".xr-attrs dd {\n",
       "  grid-column: 2;\n",
       "  white-space: pre-wrap;\n",
       "  word-break: break-all;\n",
       "}\n",
       "\n",
       ".xr-icon-database,\n",
       ".xr-icon-file-text2,\n",
       ".xr-no-icon {\n",
       "  display: inline-block;\n",
       "  vertical-align: middle;\n",
       "  width: 1em;\n",
       "  height: 1.5em !important;\n",
       "  stroke-width: 0;\n",
       "  stroke: currentColor;\n",
       "  fill: currentColor;\n",
       "}\n",
       "</style><pre class='xr-text-repr-fallback'>&lt;xarray.Dataset&gt;\n",
       "Dimensions:                      (time: 16262, lat: 1801, lon: 3600)\n",
       "Coordinates:\n",
       "  * lat                          (lat) float64 90.0 89.9 89.8 ... -89.9 -90.0\n",
       "  * lon                          (lon) float64 -180.0 -179.9 ... 179.8 179.9\n",
       "  * time                         (time) datetime64[ns] 1980-01-01 ... 2024-07-09\n",
       "Data variables:\n",
       "    Temperature_Air_2m_Max_24h   (time, lat, lon) float32 dask.array&lt;chunksize=(1, 1801, 3600), meta=np.ndarray&gt;\n",
       "    Temperature_Air_2m_Mean_24h  (time, lat, lon) float32 dask.array&lt;chunksize=(1, 1801, 3600), meta=np.ndarray&gt;\n",
       "    Temperature_Air_2m_Min_24h   (time, lat, lon) float32 dask.array&lt;chunksize=(1, 1801, 3600), meta=np.ndarray&gt;\n",
       "Attributes:\n",
       "    Conventions:  CF-1.7</pre><div class='xr-wrap' style='display:none'><div class='xr-header'><div class='xr-obj-type'>xarray.Dataset</div></div><ul class='xr-sections'><li class='xr-section-item'><input id='section-0f9d0be8-5c1a-46f9-844a-1a9144ecd7b4' class='xr-section-summary-in' type='checkbox' disabled ><label for='section-0f9d0be8-5c1a-46f9-844a-1a9144ecd7b4' class='xr-section-summary'  title='Expand/collapse section'>Dimensions:</label><div class='xr-section-inline-details'><ul class='xr-dim-list'><li><span class='xr-has-index'>time</span>: 16262</li><li><span class='xr-has-index'>lat</span>: 1801</li><li><span class='xr-has-index'>lon</span>: 3600</li></ul></div><div class='xr-section-details'></div></li><li class='xr-section-item'><input id='section-cc2c6366-909c-4991-ad35-dbf6762af182' class='xr-section-summary-in' type='checkbox'  checked><label for='section-cc2c6366-909c-4991-ad35-dbf6762af182' class='xr-section-summary' >Coordinates: <span>(3)</span></label><div class='xr-section-inline-details'></div><div class='xr-section-details'><ul class='xr-var-list'><li class='xr-var-item'><div class='xr-var-name'><span class='xr-has-index'>lat</span></div><div class='xr-var-dims'>(lat)</div><div class='xr-var-dtype'>float64</div><div class='xr-var-preview xr-preview'>90.0 89.9 89.8 ... -89.9 -90.0</div><input id='attrs-ede261df-eb21-4593-9fc2-60254c1d7666' class='xr-var-attrs-in' type='checkbox' disabled><label for='attrs-ede261df-eb21-4593-9fc2-60254c1d7666' title='Show/Hide attributes'><svg class='icon xr-icon-file-text2'><use xlink:href='#icon-file-text2'></use></svg></label><input id='data-0214a7a3-fd7d-4611-aa16-876a5050f8d5' class='xr-var-data-in' type='checkbox'><label for='data-0214a7a3-fd7d-4611-aa16-876a5050f8d5' title='Show/Hide data repr'><svg class='icon xr-icon-database'><use xlink:href='#icon-database'></use></svg></label><div class='xr-var-attrs'><dl class='xr-attrs'></dl></div><div class='xr-var-data'><pre>array([ 90. ,  89.9,  89.8, ..., -89.8, -89.9, -90. ])</pre></div></li><li class='xr-var-item'><div class='xr-var-name'><span class='xr-has-index'>lon</span></div><div class='xr-var-dims'>(lon)</div><div class='xr-var-dtype'>float64</div><div class='xr-var-preview xr-preview'>-180.0 -179.9 ... 179.8 179.9</div><input id='attrs-c178b278-7dcb-47b7-9a5d-fc04c79c4cca' class='xr-var-attrs-in' type='checkbox' disabled><label for='attrs-c178b278-7dcb-47b7-9a5d-fc04c79c4cca' title='Show/Hide attributes'><svg class='icon xr-icon-file-text2'><use xlink:href='#icon-file-text2'></use></svg></label><input id='data-359d1cf0-7ce2-42b1-9382-ccc8edeea229' class='xr-var-data-in' type='checkbox'><label for='data-359d1cf0-7ce2-42b1-9382-ccc8edeea229' title='Show/Hide data repr'><svg class='icon xr-icon-database'><use xlink:href='#icon-database'></use></svg></label><div class='xr-var-attrs'><dl class='xr-attrs'></dl></div><div class='xr-var-data'><pre>array([-180. , -179.9, -179.8, ...,  179.7,  179.8,  179.9])</pre></div></li><li class='xr-var-item'><div class='xr-var-name'><span class='xr-has-index'>time</span></div><div class='xr-var-dims'>(time)</div><div class='xr-var-dtype'>datetime64[ns]</div><div class='xr-var-preview xr-preview'>1980-01-01 ... 2024-07-09</div><input id='attrs-3bd250a8-3568-4700-9a05-418ce9da8d48' class='xr-var-attrs-in' type='checkbox' disabled><label for='attrs-3bd250a8-3568-4700-9a05-418ce9da8d48' title='Show/Hide attributes'><svg class='icon xr-icon-file-text2'><use xlink:href='#icon-file-text2'></use></svg></label><input id='data-fef968f6-455a-4442-a7c3-75744aa8e3b8' class='xr-var-data-in' type='checkbox'><label for='data-fef968f6-455a-4442-a7c3-75744aa8e3b8' title='Show/Hide data repr'><svg class='icon xr-icon-database'><use xlink:href='#icon-database'></use></svg></label><div class='xr-var-attrs'><dl class='xr-attrs'></dl></div><div class='xr-var-data'><pre>array([&#x27;1980-01-01T00:00:00.000000000&#x27;, &#x27;1980-01-02T00:00:00.000000000&#x27;,\n",
       "       &#x27;1980-01-03T00:00:00.000000000&#x27;, ..., &#x27;2024-07-07T00:00:00.000000000&#x27;,\n",
       "       &#x27;2024-07-08T00:00:00.000000000&#x27;, &#x27;2024-07-09T00:00:00.000000000&#x27;],\n",
       "      dtype=&#x27;datetime64[ns]&#x27;)</pre></div></li></ul></div></li><li class='xr-section-item'><input id='section-88e92491-9cb1-40e2-bd00-bec9b7c4bf5c' class='xr-section-summary-in' type='checkbox'  checked><label for='section-88e92491-9cb1-40e2-bd00-bec9b7c4bf5c' class='xr-section-summary' >Data variables: <span>(3)</span></label><div class='xr-section-inline-details'></div><div class='xr-section-details'><ul class='xr-var-list'><li class='xr-var-item'><div class='xr-var-name'><span>Temperature_Air_2m_Max_24h</span></div><div class='xr-var-dims'>(time, lat, lon)</div><div class='xr-var-dtype'>float32</div><div class='xr-var-preview xr-preview'>dask.array&lt;chunksize=(1, 1801, 3600), meta=np.ndarray&gt;</div><input id='attrs-146ee46e-5f07-436d-a78c-4093d0871459' class='xr-var-attrs-in' type='checkbox' ><label for='attrs-146ee46e-5f07-436d-a78c-4093d0871459' title='Show/Hide attributes'><svg class='icon xr-icon-file-text2'><use xlink:href='#icon-file-text2'></use></svg></label><input id='data-789da67b-8b4b-4b79-b04f-f2d628ff6a8a' class='xr-var-data-in' type='checkbox'><label for='data-789da67b-8b4b-4b79-b04f-f2d628ff6a8a' title='Show/Hide data repr'><svg class='icon xr-icon-database'><use xlink:href='#icon-database'></use></svg></label><div class='xr-var-attrs'><dl class='xr-attrs'><dt><span>units :</span></dt><dd>C</dd></dl></div><div class='xr-var-data'><table>\n",
       "    <tr>\n",
       "        <td>\n",
       "            <table style=\"border-collapse: collapse;\">\n",
       "                <thead>\n",
       "                    <tr>\n",
       "                        <td> </td>\n",
       "                        <th> Array </th>\n",
       "                        <th> Chunk </th>\n",
       "                    </tr>\n",
       "                </thead>\n",
       "                <tbody>\n",
       "                    \n",
       "                    <tr>\n",
       "                        <th> Bytes </th>\n",
       "                        <td> 392.78 GiB </td>\n",
       "                        <td> 24.73 MiB </td>\n",
       "                    </tr>\n",
       "                    \n",
       "                    <tr>\n",
       "                        <th> Shape </th>\n",
       "                        <td> (16262, 1801, 3600) </td>\n",
       "                        <td> (1, 1801, 3600) </td>\n",
       "                    </tr>\n",
       "                    <tr>\n",
       "                        <th> Dask graph </th>\n",
       "                        <td colspan=\"2\"> 16262 chunks in 2 graph layers </td>\n",
       "                    </tr>\n",
       "                    <tr>\n",
       "                        <th> Data type </th>\n",
       "                        <td colspan=\"2\"> float32 numpy.ndarray </td>\n",
       "                    </tr>\n",
       "                </tbody>\n",
       "            </table>\n",
       "        </td>\n",
       "        <td>\n",
       "        <svg width=\"173\" height=\"159\" style=\"stroke:rgb(0,0,0);stroke-width:1\" >\n",
       "\n",
       "  <!-- Horizontal lines -->\n",
       "  <line x1=\"10\" y1=\"0\" x2=\"80\" y2=\"70\" style=\"stroke-width:2\" />\n",
       "  <line x1=\"10\" y1=\"39\" x2=\"80\" y2=\"109\" style=\"stroke-width:2\" />\n",
       "\n",
       "  <!-- Vertical lines -->\n",
       "  <line x1=\"10\" y1=\"0\" x2=\"10\" y2=\"39\" style=\"stroke-width:2\" />\n",
       "  <line x1=\"13\" y1=\"3\" x2=\"13\" y2=\"42\" />\n",
       "  <line x1=\"17\" y1=\"7\" x2=\"17\" y2=\"46\" />\n",
       "  <line x1=\"21\" y1=\"11\" x2=\"21\" y2=\"50\" />\n",
       "  <line x1=\"24\" y1=\"14\" x2=\"24\" y2=\"54\" />\n",
       "  <line x1=\"28\" y1=\"18\" x2=\"28\" y2=\"57\" />\n",
       "  <line x1=\"32\" y1=\"22\" x2=\"32\" y2=\"61\" />\n",
       "  <line x1=\"36\" y1=\"26\" x2=\"36\" y2=\"65\" />\n",
       "  <line x1=\"39\" y1=\"29\" x2=\"39\" y2=\"68\" />\n",
       "  <line x1=\"43\" y1=\"33\" x2=\"43\" y2=\"72\" />\n",
       "  <line x1=\"47\" y1=\"37\" x2=\"47\" y2=\"76\" />\n",
       "  <line x1=\"50\" y1=\"40\" x2=\"50\" y2=\"80\" />\n",
       "  <line x1=\"54\" y1=\"44\" x2=\"54\" y2=\"83\" />\n",
       "  <line x1=\"58\" y1=\"48\" x2=\"58\" y2=\"87\" />\n",
       "  <line x1=\"62\" y1=\"52\" x2=\"62\" y2=\"91\" />\n",
       "  <line x1=\"65\" y1=\"55\" x2=\"65\" y2=\"94\" />\n",
       "  <line x1=\"69\" y1=\"59\" x2=\"69\" y2=\"98\" />\n",
       "  <line x1=\"73\" y1=\"63\" x2=\"73\" y2=\"102\" />\n",
       "  <line x1=\"76\" y1=\"66\" x2=\"76\" y2=\"106\" />\n",
       "  <line x1=\"80\" y1=\"70\" x2=\"80\" y2=\"109\" style=\"stroke-width:2\" />\n",
       "\n",
       "  <!-- Colored Rectangle -->\n",
       "  <polygon points=\"10.0,0.0 80.58823529411765,70.58823529411765 80.58823529411765,109.74294869689837 10.0,39.154713402780715\" style=\"fill:#8B4903A0;stroke-width:0\"/>\n",
       "\n",
       "  <!-- Horizontal lines -->\n",
       "  <line x1=\"10\" y1=\"0\" x2=\"52\" y2=\"0\" style=\"stroke-width:2\" />\n",
       "  <line x1=\"13\" y1=\"3\" x2=\"56\" y2=\"3\" />\n",
       "  <line x1=\"17\" y1=\"7\" x2=\"59\" y2=\"7\" />\n",
       "  <line x1=\"21\" y1=\"11\" x2=\"63\" y2=\"11\" />\n",
       "  <line x1=\"24\" y1=\"14\" x2=\"67\" y2=\"14\" />\n",
       "  <line x1=\"28\" y1=\"18\" x2=\"71\" y2=\"18\" />\n",
       "  <line x1=\"32\" y1=\"22\" x2=\"74\" y2=\"22\" />\n",
       "  <line x1=\"36\" y1=\"26\" x2=\"78\" y2=\"26\" />\n",
       "  <line x1=\"39\" y1=\"29\" x2=\"82\" y2=\"29\" />\n",
       "  <line x1=\"43\" y1=\"33\" x2=\"85\" y2=\"33\" />\n",
       "  <line x1=\"47\" y1=\"37\" x2=\"89\" y2=\"37\" />\n",
       "  <line x1=\"50\" y1=\"40\" x2=\"93\" y2=\"40\" />\n",
       "  <line x1=\"54\" y1=\"44\" x2=\"97\" y2=\"44\" />\n",
       "  <line x1=\"58\" y1=\"48\" x2=\"100\" y2=\"48\" />\n",
       "  <line x1=\"62\" y1=\"52\" x2=\"104\" y2=\"52\" />\n",
       "  <line x1=\"65\" y1=\"55\" x2=\"108\" y2=\"55\" />\n",
       "  <line x1=\"69\" y1=\"59\" x2=\"111\" y2=\"59\" />\n",
       "  <line x1=\"73\" y1=\"63\" x2=\"115\" y2=\"63\" />\n",
       "  <line x1=\"76\" y1=\"66\" x2=\"119\" y2=\"66\" />\n",
       "  <line x1=\"80\" y1=\"70\" x2=\"123\" y2=\"70\" style=\"stroke-width:2\" />\n",
       "\n",
       "  <!-- Vertical lines -->\n",
       "  <line x1=\"10\" y1=\"0\" x2=\"80\" y2=\"70\" style=\"stroke-width:2\" />\n",
       "  <line x1=\"52\" y1=\"0\" x2=\"123\" y2=\"70\" style=\"stroke-width:2\" />\n",
       "\n",
       "  <!-- Colored Rectangle -->\n",
       "  <polygon points=\"10.0,0.0 52.42783124864901,0.0 123.01606654276665,70.58823529411765 80.58823529411765,70.58823529411765\" style=\"fill:#8B4903A0;stroke-width:0\"/>\n",
       "\n",
       "  <!-- Horizontal lines -->\n",
       "  <line x1=\"80\" y1=\"70\" x2=\"123\" y2=\"70\" style=\"stroke-width:2\" />\n",
       "  <line x1=\"80\" y1=\"109\" x2=\"123\" y2=\"109\" style=\"stroke-width:2\" />\n",
       "\n",
       "  <!-- Vertical lines -->\n",
       "  <line x1=\"80\" y1=\"70\" x2=\"80\" y2=\"109\" style=\"stroke-width:2\" />\n",
       "  <line x1=\"123\" y1=\"70\" x2=\"123\" y2=\"109\" style=\"stroke-width:2\" />\n",
       "\n",
       "  <!-- Colored Rectangle -->\n",
       "  <polygon points=\"80.58823529411765,70.58823529411765 123.01606654276665,70.58823529411765 123.01606654276665,109.74294869689837 80.58823529411765,109.74294869689837\" style=\"fill:#ECB172A0;stroke-width:0\"/>\n",
       "\n",
       "  <!-- Text -->\n",
       "  <text x=\"101.802151\" y=\"129.742949\" font-size=\"1.0rem\" font-weight=\"100\" text-anchor=\"middle\" >3600</text>\n",
       "  <text x=\"143.016067\" y=\"90.165592\" font-size=\"1.0rem\" font-weight=\"100\" text-anchor=\"middle\" transform=\"rotate(-90,143.016067,90.165592)\">1801</text>\n",
       "  <text x=\"35.294118\" y=\"94.448831\" font-size=\"1.0rem\" font-weight=\"100\" text-anchor=\"middle\" transform=\"rotate(45,35.294118,94.448831)\">16262</text>\n",
       "</svg>\n",
       "        </td>\n",
       "    </tr>\n",
       "</table></div></li><li class='xr-var-item'><div class='xr-var-name'><span>Temperature_Air_2m_Mean_24h</span></div><div class='xr-var-dims'>(time, lat, lon)</div><div class='xr-var-dtype'>float32</div><div class='xr-var-preview xr-preview'>dask.array&lt;chunksize=(1, 1801, 3600), meta=np.ndarray&gt;</div><input id='attrs-3c614fad-86ee-46cd-93a8-bc726039b859' class='xr-var-attrs-in' type='checkbox' ><label for='attrs-3c614fad-86ee-46cd-93a8-bc726039b859' title='Show/Hide attributes'><svg class='icon xr-icon-file-text2'><use xlink:href='#icon-file-text2'></use></svg></label><input id='data-6453608f-8f8b-4bb7-849d-a98f8dc54e45' class='xr-var-data-in' type='checkbox'><label for='data-6453608f-8f8b-4bb7-849d-a98f8dc54e45' title='Show/Hide data repr'><svg class='icon xr-icon-database'><use xlink:href='#icon-database'></use></svg></label><div class='xr-var-attrs'><dl class='xr-attrs'><dt><span>units :</span></dt><dd>C</dd></dl></div><div class='xr-var-data'><table>\n",
       "    <tr>\n",
       "        <td>\n",
       "            <table style=\"border-collapse: collapse;\">\n",
       "                <thead>\n",
       "                    <tr>\n",
       "                        <td> </td>\n",
       "                        <th> Array </th>\n",
       "                        <th> Chunk </th>\n",
       "                    </tr>\n",
       "                </thead>\n",
       "                <tbody>\n",
       "                    \n",
       "                    <tr>\n",
       "                        <th> Bytes </th>\n",
       "                        <td> 392.78 GiB </td>\n",
       "                        <td> 24.73 MiB </td>\n",
       "                    </tr>\n",
       "                    \n",
       "                    <tr>\n",
       "                        <th> Shape </th>\n",
       "                        <td> (16262, 1801, 3600) </td>\n",
       "                        <td> (1, 1801, 3600) </td>\n",
       "                    </tr>\n",
       "                    <tr>\n",
       "                        <th> Dask graph </th>\n",
       "                        <td colspan=\"2\"> 16262 chunks in 2 graph layers </td>\n",
       "                    </tr>\n",
       "                    <tr>\n",
       "                        <th> Data type </th>\n",
       "                        <td colspan=\"2\"> float32 numpy.ndarray </td>\n",
       "                    </tr>\n",
       "                </tbody>\n",
       "            </table>\n",
       "        </td>\n",
       "        <td>\n",
       "        <svg width=\"173\" height=\"159\" style=\"stroke:rgb(0,0,0);stroke-width:1\" >\n",
       "\n",
       "  <!-- Horizontal lines -->\n",
       "  <line x1=\"10\" y1=\"0\" x2=\"80\" y2=\"70\" style=\"stroke-width:2\" />\n",
       "  <line x1=\"10\" y1=\"39\" x2=\"80\" y2=\"109\" style=\"stroke-width:2\" />\n",
       "\n",
       "  <!-- Vertical lines -->\n",
       "  <line x1=\"10\" y1=\"0\" x2=\"10\" y2=\"39\" style=\"stroke-width:2\" />\n",
       "  <line x1=\"13\" y1=\"3\" x2=\"13\" y2=\"42\" />\n",
       "  <line x1=\"17\" y1=\"7\" x2=\"17\" y2=\"46\" />\n",
       "  <line x1=\"21\" y1=\"11\" x2=\"21\" y2=\"50\" />\n",
       "  <line x1=\"24\" y1=\"14\" x2=\"24\" y2=\"54\" />\n",
       "  <line x1=\"28\" y1=\"18\" x2=\"28\" y2=\"57\" />\n",
       "  <line x1=\"32\" y1=\"22\" x2=\"32\" y2=\"61\" />\n",
       "  <line x1=\"36\" y1=\"26\" x2=\"36\" y2=\"65\" />\n",
       "  <line x1=\"39\" y1=\"29\" x2=\"39\" y2=\"68\" />\n",
       "  <line x1=\"43\" y1=\"33\" x2=\"43\" y2=\"72\" />\n",
       "  <line x1=\"47\" y1=\"37\" x2=\"47\" y2=\"76\" />\n",
       "  <line x1=\"50\" y1=\"40\" x2=\"50\" y2=\"80\" />\n",
       "  <line x1=\"54\" y1=\"44\" x2=\"54\" y2=\"83\" />\n",
       "  <line x1=\"58\" y1=\"48\" x2=\"58\" y2=\"87\" />\n",
       "  <line x1=\"62\" y1=\"52\" x2=\"62\" y2=\"91\" />\n",
       "  <line x1=\"65\" y1=\"55\" x2=\"65\" y2=\"94\" />\n",
       "  <line x1=\"69\" y1=\"59\" x2=\"69\" y2=\"98\" />\n",
       "  <line x1=\"73\" y1=\"63\" x2=\"73\" y2=\"102\" />\n",
       "  <line x1=\"76\" y1=\"66\" x2=\"76\" y2=\"106\" />\n",
       "  <line x1=\"80\" y1=\"70\" x2=\"80\" y2=\"109\" style=\"stroke-width:2\" />\n",
       "\n",
       "  <!-- Colored Rectangle -->\n",
       "  <polygon points=\"10.0,0.0 80.58823529411765,70.58823529411765 80.58823529411765,109.74294869689837 10.0,39.154713402780715\" style=\"fill:#8B4903A0;stroke-width:0\"/>\n",
       "\n",
       "  <!-- Horizontal lines -->\n",
       "  <line x1=\"10\" y1=\"0\" x2=\"52\" y2=\"0\" style=\"stroke-width:2\" />\n",
       "  <line x1=\"13\" y1=\"3\" x2=\"56\" y2=\"3\" />\n",
       "  <line x1=\"17\" y1=\"7\" x2=\"59\" y2=\"7\" />\n",
       "  <line x1=\"21\" y1=\"11\" x2=\"63\" y2=\"11\" />\n",
       "  <line x1=\"24\" y1=\"14\" x2=\"67\" y2=\"14\" />\n",
       "  <line x1=\"28\" y1=\"18\" x2=\"71\" y2=\"18\" />\n",
       "  <line x1=\"32\" y1=\"22\" x2=\"74\" y2=\"22\" />\n",
       "  <line x1=\"36\" y1=\"26\" x2=\"78\" y2=\"26\" />\n",
       "  <line x1=\"39\" y1=\"29\" x2=\"82\" y2=\"29\" />\n",
       "  <line x1=\"43\" y1=\"33\" x2=\"85\" y2=\"33\" />\n",
       "  <line x1=\"47\" y1=\"37\" x2=\"89\" y2=\"37\" />\n",
       "  <line x1=\"50\" y1=\"40\" x2=\"93\" y2=\"40\" />\n",
       "  <line x1=\"54\" y1=\"44\" x2=\"97\" y2=\"44\" />\n",
       "  <line x1=\"58\" y1=\"48\" x2=\"100\" y2=\"48\" />\n",
       "  <line x1=\"62\" y1=\"52\" x2=\"104\" y2=\"52\" />\n",
       "  <line x1=\"65\" y1=\"55\" x2=\"108\" y2=\"55\" />\n",
       "  <line x1=\"69\" y1=\"59\" x2=\"111\" y2=\"59\" />\n",
       "  <line x1=\"73\" y1=\"63\" x2=\"115\" y2=\"63\" />\n",
       "  <line x1=\"76\" y1=\"66\" x2=\"119\" y2=\"66\" />\n",
       "  <line x1=\"80\" y1=\"70\" x2=\"123\" y2=\"70\" style=\"stroke-width:2\" />\n",
       "\n",
       "  <!-- Vertical lines -->\n",
       "  <line x1=\"10\" y1=\"0\" x2=\"80\" y2=\"70\" style=\"stroke-width:2\" />\n",
       "  <line x1=\"52\" y1=\"0\" x2=\"123\" y2=\"70\" style=\"stroke-width:2\" />\n",
       "\n",
       "  <!-- Colored Rectangle -->\n",
       "  <polygon points=\"10.0,0.0 52.42783124864901,0.0 123.01606654276665,70.58823529411765 80.58823529411765,70.58823529411765\" style=\"fill:#8B4903A0;stroke-width:0\"/>\n",
       "\n",
       "  <!-- Horizontal lines -->\n",
       "  <line x1=\"80\" y1=\"70\" x2=\"123\" y2=\"70\" style=\"stroke-width:2\" />\n",
       "  <line x1=\"80\" y1=\"109\" x2=\"123\" y2=\"109\" style=\"stroke-width:2\" />\n",
       "\n",
       "  <!-- Vertical lines -->\n",
       "  <line x1=\"80\" y1=\"70\" x2=\"80\" y2=\"109\" style=\"stroke-width:2\" />\n",
       "  <line x1=\"123\" y1=\"70\" x2=\"123\" y2=\"109\" style=\"stroke-width:2\" />\n",
       "\n",
       "  <!-- Colored Rectangle -->\n",
       "  <polygon points=\"80.58823529411765,70.58823529411765 123.01606654276665,70.58823529411765 123.01606654276665,109.74294869689837 80.58823529411765,109.74294869689837\" style=\"fill:#ECB172A0;stroke-width:0\"/>\n",
       "\n",
       "  <!-- Text -->\n",
       "  <text x=\"101.802151\" y=\"129.742949\" font-size=\"1.0rem\" font-weight=\"100\" text-anchor=\"middle\" >3600</text>\n",
       "  <text x=\"143.016067\" y=\"90.165592\" font-size=\"1.0rem\" font-weight=\"100\" text-anchor=\"middle\" transform=\"rotate(-90,143.016067,90.165592)\">1801</text>\n",
       "  <text x=\"35.294118\" y=\"94.448831\" font-size=\"1.0rem\" font-weight=\"100\" text-anchor=\"middle\" transform=\"rotate(45,35.294118,94.448831)\">16262</text>\n",
       "</svg>\n",
       "        </td>\n",
       "    </tr>\n",
       "</table></div></li><li class='xr-var-item'><div class='xr-var-name'><span>Temperature_Air_2m_Min_24h</span></div><div class='xr-var-dims'>(time, lat, lon)</div><div class='xr-var-dtype'>float32</div><div class='xr-var-preview xr-preview'>dask.array&lt;chunksize=(1, 1801, 3600), meta=np.ndarray&gt;</div><input id='attrs-697b4260-1dee-462d-bfb8-0842c2659ccb' class='xr-var-attrs-in' type='checkbox' ><label for='attrs-697b4260-1dee-462d-bfb8-0842c2659ccb' title='Show/Hide attributes'><svg class='icon xr-icon-file-text2'><use xlink:href='#icon-file-text2'></use></svg></label><input id='data-ad37a464-054f-4701-975c-274dceea4e83' class='xr-var-data-in' type='checkbox'><label for='data-ad37a464-054f-4701-975c-274dceea4e83' title='Show/Hide data repr'><svg class='icon xr-icon-database'><use xlink:href='#icon-database'></use></svg></label><div class='xr-var-attrs'><dl class='xr-attrs'><dt><span>units :</span></dt><dd>C</dd></dl></div><div class='xr-var-data'><table>\n",
       "    <tr>\n",
       "        <td>\n",
       "            <table style=\"border-collapse: collapse;\">\n",
       "                <thead>\n",
       "                    <tr>\n",
       "                        <td> </td>\n",
       "                        <th> Array </th>\n",
       "                        <th> Chunk </th>\n",
       "                    </tr>\n",
       "                </thead>\n",
       "                <tbody>\n",
       "                    \n",
       "                    <tr>\n",
       "                        <th> Bytes </th>\n",
       "                        <td> 392.78 GiB </td>\n",
       "                        <td> 24.73 MiB </td>\n",
       "                    </tr>\n",
       "                    \n",
       "                    <tr>\n",
       "                        <th> Shape </th>\n",
       "                        <td> (16262, 1801, 3600) </td>\n",
       "                        <td> (1, 1801, 3600) </td>\n",
       "                    </tr>\n",
       "                    <tr>\n",
       "                        <th> Dask graph </th>\n",
       "                        <td colspan=\"2\"> 16262 chunks in 2 graph layers </td>\n",
       "                    </tr>\n",
       "                    <tr>\n",
       "                        <th> Data type </th>\n",
       "                        <td colspan=\"2\"> float32 numpy.ndarray </td>\n",
       "                    </tr>\n",
       "                </tbody>\n",
       "            </table>\n",
       "        </td>\n",
       "        <td>\n",
       "        <svg width=\"173\" height=\"159\" style=\"stroke:rgb(0,0,0);stroke-width:1\" >\n",
       "\n",
       "  <!-- Horizontal lines -->\n",
       "  <line x1=\"10\" y1=\"0\" x2=\"80\" y2=\"70\" style=\"stroke-width:2\" />\n",
       "  <line x1=\"10\" y1=\"39\" x2=\"80\" y2=\"109\" style=\"stroke-width:2\" />\n",
       "\n",
       "  <!-- Vertical lines -->\n",
       "  <line x1=\"10\" y1=\"0\" x2=\"10\" y2=\"39\" style=\"stroke-width:2\" />\n",
       "  <line x1=\"13\" y1=\"3\" x2=\"13\" y2=\"42\" />\n",
       "  <line x1=\"17\" y1=\"7\" x2=\"17\" y2=\"46\" />\n",
       "  <line x1=\"21\" y1=\"11\" x2=\"21\" y2=\"50\" />\n",
       "  <line x1=\"24\" y1=\"14\" x2=\"24\" y2=\"54\" />\n",
       "  <line x1=\"28\" y1=\"18\" x2=\"28\" y2=\"57\" />\n",
       "  <line x1=\"32\" y1=\"22\" x2=\"32\" y2=\"61\" />\n",
       "  <line x1=\"36\" y1=\"26\" x2=\"36\" y2=\"65\" />\n",
       "  <line x1=\"39\" y1=\"29\" x2=\"39\" y2=\"68\" />\n",
       "  <line x1=\"43\" y1=\"33\" x2=\"43\" y2=\"72\" />\n",
       "  <line x1=\"47\" y1=\"37\" x2=\"47\" y2=\"76\" />\n",
       "  <line x1=\"50\" y1=\"40\" x2=\"50\" y2=\"80\" />\n",
       "  <line x1=\"54\" y1=\"44\" x2=\"54\" y2=\"83\" />\n",
       "  <line x1=\"58\" y1=\"48\" x2=\"58\" y2=\"87\" />\n",
       "  <line x1=\"62\" y1=\"52\" x2=\"62\" y2=\"91\" />\n",
       "  <line x1=\"65\" y1=\"55\" x2=\"65\" y2=\"94\" />\n",
       "  <line x1=\"69\" y1=\"59\" x2=\"69\" y2=\"98\" />\n",
       "  <line x1=\"73\" y1=\"63\" x2=\"73\" y2=\"102\" />\n",
       "  <line x1=\"76\" y1=\"66\" x2=\"76\" y2=\"106\" />\n",
       "  <line x1=\"80\" y1=\"70\" x2=\"80\" y2=\"109\" style=\"stroke-width:2\" />\n",
       "\n",
       "  <!-- Colored Rectangle -->\n",
       "  <polygon points=\"10.0,0.0 80.58823529411765,70.58823529411765 80.58823529411765,109.74294869689837 10.0,39.154713402780715\" style=\"fill:#8B4903A0;stroke-width:0\"/>\n",
       "\n",
       "  <!-- Horizontal lines -->\n",
       "  <line x1=\"10\" y1=\"0\" x2=\"52\" y2=\"0\" style=\"stroke-width:2\" />\n",
       "  <line x1=\"13\" y1=\"3\" x2=\"56\" y2=\"3\" />\n",
       "  <line x1=\"17\" y1=\"7\" x2=\"59\" y2=\"7\" />\n",
       "  <line x1=\"21\" y1=\"11\" x2=\"63\" y2=\"11\" />\n",
       "  <line x1=\"24\" y1=\"14\" x2=\"67\" y2=\"14\" />\n",
       "  <line x1=\"28\" y1=\"18\" x2=\"71\" y2=\"18\" />\n",
       "  <line x1=\"32\" y1=\"22\" x2=\"74\" y2=\"22\" />\n",
       "  <line x1=\"36\" y1=\"26\" x2=\"78\" y2=\"26\" />\n",
       "  <line x1=\"39\" y1=\"29\" x2=\"82\" y2=\"29\" />\n",
       "  <line x1=\"43\" y1=\"33\" x2=\"85\" y2=\"33\" />\n",
       "  <line x1=\"47\" y1=\"37\" x2=\"89\" y2=\"37\" />\n",
       "  <line x1=\"50\" y1=\"40\" x2=\"93\" y2=\"40\" />\n",
       "  <line x1=\"54\" y1=\"44\" x2=\"97\" y2=\"44\" />\n",
       "  <line x1=\"58\" y1=\"48\" x2=\"100\" y2=\"48\" />\n",
       "  <line x1=\"62\" y1=\"52\" x2=\"104\" y2=\"52\" />\n",
       "  <line x1=\"65\" y1=\"55\" x2=\"108\" y2=\"55\" />\n",
       "  <line x1=\"69\" y1=\"59\" x2=\"111\" y2=\"59\" />\n",
       "  <line x1=\"73\" y1=\"63\" x2=\"115\" y2=\"63\" />\n",
       "  <line x1=\"76\" y1=\"66\" x2=\"119\" y2=\"66\" />\n",
       "  <line x1=\"80\" y1=\"70\" x2=\"123\" y2=\"70\" style=\"stroke-width:2\" />\n",
       "\n",
       "  <!-- Vertical lines -->\n",
       "  <line x1=\"10\" y1=\"0\" x2=\"80\" y2=\"70\" style=\"stroke-width:2\" />\n",
       "  <line x1=\"52\" y1=\"0\" x2=\"123\" y2=\"70\" style=\"stroke-width:2\" />\n",
       "\n",
       "  <!-- Colored Rectangle -->\n",
       "  <polygon points=\"10.0,0.0 52.42783124864901,0.0 123.01606654276665,70.58823529411765 80.58823529411765,70.58823529411765\" style=\"fill:#8B4903A0;stroke-width:0\"/>\n",
       "\n",
       "  <!-- Horizontal lines -->\n",
       "  <line x1=\"80\" y1=\"70\" x2=\"123\" y2=\"70\" style=\"stroke-width:2\" />\n",
       "  <line x1=\"80\" y1=\"109\" x2=\"123\" y2=\"109\" style=\"stroke-width:2\" />\n",
       "\n",
       "  <!-- Vertical lines -->\n",
       "  <line x1=\"80\" y1=\"70\" x2=\"80\" y2=\"109\" style=\"stroke-width:2\" />\n",
       "  <line x1=\"123\" y1=\"70\" x2=\"123\" y2=\"109\" style=\"stroke-width:2\" />\n",
       "\n",
       "  <!-- Colored Rectangle -->\n",
       "  <polygon points=\"80.58823529411765,70.58823529411765 123.01606654276665,70.58823529411765 123.01606654276665,109.74294869689837 80.58823529411765,109.74294869689837\" style=\"fill:#ECB172A0;stroke-width:0\"/>\n",
       "\n",
       "  <!-- Text -->\n",
       "  <text x=\"101.802151\" y=\"129.742949\" font-size=\"1.0rem\" font-weight=\"100\" text-anchor=\"middle\" >3600</text>\n",
       "  <text x=\"143.016067\" y=\"90.165592\" font-size=\"1.0rem\" font-weight=\"100\" text-anchor=\"middle\" transform=\"rotate(-90,143.016067,90.165592)\">1801</text>\n",
       "  <text x=\"35.294118\" y=\"94.448831\" font-size=\"1.0rem\" font-weight=\"100\" text-anchor=\"middle\" transform=\"rotate(45,35.294118,94.448831)\">16262</text>\n",
       "</svg>\n",
       "        </td>\n",
       "    </tr>\n",
       "</table></div></li></ul></div></li><li class='xr-section-item'><input id='section-714f8fb9-1342-47f2-b4a7-20fb611b449f' class='xr-section-summary-in' type='checkbox'  ><label for='section-714f8fb9-1342-47f2-b4a7-20fb611b449f' class='xr-section-summary' >Indexes: <span>(3)</span></label><div class='xr-section-inline-details'></div><div class='xr-section-details'><ul class='xr-var-list'><li class='xr-var-item'><div class='xr-index-name'><div>lat</div></div><div class='xr-index-preview'>PandasIndex</div><div></div><input id='index-0aaea431-d2db-4133-8770-32c57593235c' class='xr-index-data-in' type='checkbox'/><label for='index-0aaea431-d2db-4133-8770-32c57593235c' title='Show/Hide index repr'><svg class='icon xr-icon-database'><use xlink:href='#icon-database'></use></svg></label><div class='xr-index-data'><pre>PandasIndex(Index([              90.0,               89.9,  89.80000000000001,\n",
       "        89.70000000000002,  89.60000000000002,  89.50000000000003,\n",
       "        89.40000000000003,  89.30000000000004,  89.20000000000005,\n",
       "        89.10000000000005,\n",
       "       ...\n",
       "       -89.09999999998982, -89.19999999998981, -89.29999999998981,\n",
       "        -89.3999999999898,  -89.4999999999898, -89.59999999998979,\n",
       "       -89.69999999998979, -89.79999999998978, -89.89999999998977,\n",
       "       -89.99999999998977],\n",
       "      dtype=&#x27;float64&#x27;, name=&#x27;lat&#x27;, length=1801))</pre></div></li><li class='xr-var-item'><div class='xr-index-name'><div>lon</div></div><div class='xr-index-preview'>PandasIndex</div><div></div><input id='index-43f005a7-a82b-422c-87f2-172530f364f2' class='xr-index-data-in' type='checkbox'/><label for='index-43f005a7-a82b-422c-87f2-172530f364f2' title='Show/Hide index repr'><svg class='icon xr-icon-database'><use xlink:href='#icon-database'></use></svg></label><div class='xr-index-data'><pre>PandasIndex(Index([             -180.0,              -179.9,              -179.8,\n",
       "       -179.70000000000002, -179.60000000000002, -179.50000000000003,\n",
       "       -179.40000000000003, -179.30000000000004, -179.20000000000005,\n",
       "       -179.10000000000005,\n",
       "       ...\n",
       "         178.9999999999796,  179.09999999997956,  179.19999999997958,\n",
       "         179.2999999999796,  179.39999999997957,  179.49999999997954,\n",
       "        179.59999999997956,  179.69999999997958,  179.79999999997955,\n",
       "         179.8999999999795],\n",
       "      dtype=&#x27;float64&#x27;, name=&#x27;lon&#x27;, length=3600))</pre></div></li><li class='xr-var-item'><div class='xr-index-name'><div>time</div></div><div class='xr-index-preview'>PandasIndex</div><div></div><input id='index-7b796d4f-2d2e-4700-b086-616e1d2d3267' class='xr-index-data-in' type='checkbox'/><label for='index-7b796d4f-2d2e-4700-b086-616e1d2d3267' title='Show/Hide index repr'><svg class='icon xr-icon-database'><use xlink:href='#icon-database'></use></svg></label><div class='xr-index-data'><pre>PandasIndex(DatetimeIndex([&#x27;1980-01-01&#x27;, &#x27;1980-01-02&#x27;, &#x27;1980-01-03&#x27;, &#x27;1980-01-04&#x27;,\n",
       "               &#x27;1980-01-05&#x27;, &#x27;1980-01-06&#x27;, &#x27;1980-01-07&#x27;, &#x27;1980-01-08&#x27;,\n",
       "               &#x27;1980-01-09&#x27;, &#x27;1980-01-10&#x27;,\n",
       "               ...\n",
       "               &#x27;2024-06-30&#x27;, &#x27;2024-07-01&#x27;, &#x27;2024-07-02&#x27;, &#x27;2024-07-03&#x27;,\n",
       "               &#x27;2024-07-04&#x27;, &#x27;2024-07-05&#x27;, &#x27;2024-07-06&#x27;, &#x27;2024-07-07&#x27;,\n",
       "               &#x27;2024-07-08&#x27;, &#x27;2024-07-09&#x27;],\n",
       "              dtype=&#x27;datetime64[ns]&#x27;, name=&#x27;time&#x27;, length=16262, freq=None))</pre></div></li></ul></div></li><li class='xr-section-item'><input id='section-bd23ab8f-7ce0-4c3a-9c8c-b2aedc756690' class='xr-section-summary-in' type='checkbox'  checked><label for='section-bd23ab8f-7ce0-4c3a-9c8c-b2aedc756690' class='xr-section-summary' >Attributes: <span>(1)</span></label><div class='xr-section-inline-details'></div><div class='xr-section-details'><dl class='xr-attrs'><dt><span>Conventions :</span></dt><dd>CF-1.7</dd></dl></div></li></ul></div></div>"
      ],
      "text/plain": [
       "<xarray.Dataset>\n",
       "Dimensions:                      (time: 16262, lat: 1801, lon: 3600)\n",
       "Coordinates:\n",
       "  * lat                          (lat) float64 90.0 89.9 89.8 ... -89.9 -90.0\n",
       "  * lon                          (lon) float64 -180.0 -179.9 ... 179.8 179.9\n",
       "  * time                         (time) datetime64[ns] 1980-01-01 ... 2024-07-09\n",
       "Data variables:\n",
       "    Temperature_Air_2m_Max_24h   (time, lat, lon) float32 dask.array<chunksize=(1, 1801, 3600), meta=np.ndarray>\n",
       "    Temperature_Air_2m_Mean_24h  (time, lat, lon) float32 dask.array<chunksize=(1, 1801, 3600), meta=np.ndarray>\n",
       "    Temperature_Air_2m_Min_24h   (time, lat, lon) float32 dask.array<chunksize=(1, 1801, 3600), meta=np.ndarray>\n",
       "Attributes:\n",
       "    Conventions:  CF-1.7"
      ]
     },
     "execution_count": 19,
     "metadata": {},
     "output_type": "execute_result"
    }
   ],
   "source": [
    "# Conexión a S3\n",
    "s3 = s3fs.S3FileSystem(anon=False)\n",
    "# Ubicación del archivo Zarr en S3\n",
    "bucket_name = 'climate-action-datalake'\n",
    "zarr_path1 = 'zone=raw/source=agera5-v1-1/variable=temperature.zarr'\n",
    "s3_url_1 = f's3://{bucket_name}/{zarr_path1}'\n",
    "# Abrir el archivo Zarr\n",
    "ds1 = xr.open_zarr(s3fs.S3Map(s3_url_1, s3=s3))\n",
    "ds1"
   ]
  },
  {
   "cell_type": "markdown",
   "id": "a40d79b7-6591-402a-8bf5-33e2a872aa61",
   "metadata": {},
   "source": [
    "### Dask"
   ]
  },
  {
   "cell_type": "code",
   "execution_count": null,
   "id": "3ac3721b-07d6-4c1c-acbf-8fb5d5ac7b11",
   "metadata": {},
   "outputs": [],
   "source": [
    "def procesar_rango_meses(fecha_inicio, fecha_fin, directorio, bucket_salida, ruta_salida_s3):\n",
    "    # Convertir fechas de entrada a objetos datetime\n",
    "    fecha_inicio = pd.to_datetime(fecha_inicio)\n",
    "    fecha_fin = pd.to_datetime(fecha_fin)\n",
    "    # Crear dataframe de todos los archivos a procesar\n",
    "    df = archivos_mes(directorio)\n",
    "    # Listar todos los meses en el rango de fechas\n",
    "    rango_meses = pd.date_range(start=fecha_inicio, end=fecha_fin, freq='MS')\n",
    "    # Crear lista de tareas vacia\n",
    "    tareas = []\n",
    "    # Iterar sobre cada mes en el rango de meses a procesar\n",
    "    for mes_actual in rango_meses:\n",
    "        año = mes_actual.year\n",
    "        mes = mes_actual.month\n",
    "\n",
    "        # Filtrar archivos para el mes\n",
    "        df_mes = df[(df['año'] == año) & (df['mes'] == mes)]\n",
    "        \n",
    "        if not df_mes.empty:\n",
    "            # Procesar mes\n",
    "            tarea = dask.delayed(procesar_mes)(df_mes, año, mes, bucket_salida, ruta_salida_s3)\n",
    "            tareas.append(tarea)\n",
    "        else:\n",
    "            print(f\"No se encontraron archivos para el mes: {mes}\")\n",
    "\n",
    "    # Iniciar un cliente Dask\n",
    "    client = dask.distributed.Client(memory_limit='4GB', n_workers=4)\n",
    "\n",
    "    # Ejecutar todas las tareas en paralelo\n",
    "    with dask.diagnostics.ProgressBar():\n",
    "        results = dask.compute(*tareas, scheduler='threads')  # Puedes elegir el scheduler apropiado\n",
    "\n",
    "    # Cerrar el cliente Dask\n",
    "    client.close()\n",
    "\n",
    "    return results"
   ]
  },
  {
   "cell_type": "markdown",
   "id": "5bafc618-da35-4d24-8d97-a6fea6dc10e0",
   "metadata": {},
   "source": [
    "## Ejecución"
   ]
  },
  {
   "cell_type": "code",
   "execution_count": null,
   "id": "c5f6ef9a-1bc8-4b31-a119-32ca6731ab9f",
   "metadata": {},
   "outputs": [],
   "source": [
    "# Uso de la función\n",
    "directorio = '/home/ec2-user/SageMaker/datalake/data/agera/temperature/landing'\n",
    "fecha_inicio = '1980-06-01'\n",
    "fecha_fin = '1980-07-31'\n",
    "bucket_salida = 'climate-action-datalake'\n",
    "ruta_salida_s3 = 'zone=raw/source=agera5-v1-1/variable=temperature.zarr'\n",
    "#procesar_rango_meses(fecha_inicio, fecha_fin, directorio, bucket_salida, ruta_salida_s3)"
   ]
  },
  {
   "cell_type": "code",
   "execution_count": null,
   "id": "4d73aa9b-1446-459b-b539-c1504b93989c",
   "metadata": {},
   "outputs": [],
   "source": []
  },
  {
   "cell_type": "code",
   "execution_count": null,
   "id": "a496b838-dc45-491a-94f5-d0e0f5a69c59",
   "metadata": {},
   "outputs": [],
   "source": []
  },
  {
   "cell_type": "code",
   "execution_count": null,
   "id": "3162caaa-4e56-483f-9d10-f54f9e021120",
   "metadata": {},
   "outputs": [],
   "source": []
  }
 ],
 "metadata": {
  "kernelspec": {
   "display_name": "conda_pytorch_p310",
   "language": "python",
   "name": "conda_pytorch_p310"
  },
  "language_info": {
   "codemirror_mode": {
    "name": "ipython",
    "version": 3
   },
   "file_extension": ".py",
   "mimetype": "text/x-python",
   "name": "python",
   "nbconvert_exporter": "python",
   "pygments_lexer": "ipython3",
   "version": "3.10.14"
  }
 },
 "nbformat": 4,
 "nbformat_minor": 5
}
