{
 "cells": [
  {
   "cell_type": "code",
   "execution_count": 1,
   "id": "a3940bdc-afa1-4025-b642-16b39cb4a0ef",
   "metadata": {
    "tags": []
   },
   "outputs": [],
   "source": [
    "import os\n",
    "import shutil\n",
    "from glob import glob\n",
    "from datetime import datetime"
   ]
  },
  {
   "cell_type": "code",
   "execution_count": 2,
   "id": "06a0376d-a39f-4475-a3d7-1dcdc156c818",
   "metadata": {
    "tags": []
   },
   "outputs": [],
   "source": [
    "def copiar_archivos_mes(ruta_origen, ruta_destino, año, mes):\n",
    "    # Asegurarse de que la carpeta de destino exista\n",
    "    os.makedirs(ruta_destino, exist_ok=True)\n",
    "\n",
    "    # Patrón para los archivos del mes especificado\n",
    "    patron = f\"*_{año}{mes:02d}*_final-v1.1.nc\"\n",
    "    \n",
    "    # Obtener la lista de archivos que coinciden con el patrón\n",
    "    archivos = glob(os.path.join(ruta_origen, patron))\n",
    "\n",
    "    # Copiar cada archivo a la carpeta de destino\n",
    "    for archivo in archivos:\n",
    "        nombre_archivo = os.path.basename(archivo)\n",
    "        shutil.copy2(archivo, os.path.join(ruta_destino, nombre_archivo))\n",
    "        print(f\"Copiado: {nombre_archivo}\")\n",
    "\n",
    "    print(f\"Se copiaron {len(archivos)} archivos a {ruta_destino}\")"
   ]
  },
  {
   "cell_type": "code",
   "execution_count": 4,
   "id": "fcbb0091-c1b1-4b79-840e-9170e12bb08b",
   "metadata": {
    "tags": []
   },
   "outputs": [
    {
     "name": "stdout",
     "output_type": "stream",
     "text": [
      "Copiado: Temperature-Air-2m-Mean-24h_C3S-glob-agric_AgERA5_19800101_final-v1.1.nc\n",
      "Copiado: Temperature-Air-2m-Min-24h_C3S-glob-agric_AgERA5_19800120_final-v1.1.nc\n",
      "Copiado: Temperature-Air-2m-Min-24h_C3S-glob-agric_AgERA5_19800105_final-v1.1.nc\n",
      "Copiado: Temperature-Air-2m-Min-24h_C3S-glob-agric_AgERA5_19800126_final-v1.1.nc\n",
      "Copiado: Temperature-Air-2m-Mean-24h_C3S-glob-agric_AgERA5_19800127_final-v1.1.nc\n",
      "Copiado: Temperature-Air-2m-Mean-24h_C3S-glob-agric_AgERA5_19800120_final-v1.1.nc\n",
      "Copiado: Temperature-Air-2m-Mean-24h_C3S-glob-agric_AgERA5_19800115_final-v1.1.nc\n",
      "Copiado: Temperature-Air-2m-Min-24h_C3S-glob-agric_AgERA5_19800127_final-v1.1.nc\n",
      "Copiado: Temperature-Air-2m-Mean-24h_C3S-glob-agric_AgERA5_19800103_final-v1.1.nc\n",
      "Copiado: Temperature-Air-2m-Max-24h_C3S-glob-agric_AgERA5_19800127_final-v1.1.nc\n",
      "Copiado: Temperature-Air-2m-Max-24h_C3S-glob-agric_AgERA5_19800120_final-v1.1.nc\n",
      "Copiado: Temperature-Air-2m-Max-24h_C3S-glob-agric_AgERA5_19800113_final-v1.1.nc\n",
      "Copiado: Temperature-Air-2m-Max-24h_C3S-glob-agric_AgERA5_19800105_final-v1.1.nc\n",
      "Copiado: Temperature-Air-2m-Mean-24h_C3S-glob-agric_AgERA5_19800104_final-v1.1.nc\n",
      "Copiado: Temperature-Air-2m-Max-24h_C3S-glob-agric_AgERA5_19800124_final-v1.1.nc\n",
      "Copiado: Temperature-Air-2m-Max-24h_C3S-glob-agric_AgERA5_19800122_final-v1.1.nc\n",
      "Copiado: Temperature-Air-2m-Mean-24h_C3S-glob-agric_AgERA5_19800122_final-v1.1.nc\n",
      "Copiado: Temperature-Air-2m-Max-24h_C3S-glob-agric_AgERA5_19800115_final-v1.1.nc\n",
      "Copiado: Temperature-Air-2m-Mean-24h_C3S-glob-agric_AgERA5_19800113_final-v1.1.nc\n",
      "Copiado: Temperature-Air-2m-Max-24h_C3S-glob-agric_AgERA5_19800112_final-v1.1.nc\n",
      "Copiado: Temperature-Air-2m-Min-24h_C3S-glob-agric_AgERA5_19800103_final-v1.1.nc\n",
      "Copiado: Temperature-Air-2m-Mean-24h_C3S-glob-agric_AgERA5_19800119_final-v1.1.nc\n",
      "Copiado: Temperature-Air-2m-Min-24h_C3S-glob-agric_AgERA5_19800122_final-v1.1.nc\n",
      "Copiado: Temperature-Air-2m-Max-24h_C3S-glob-agric_AgERA5_19800129_final-v1.1.nc\n",
      "Copiado: Temperature-Air-2m-Max-24h_C3S-glob-agric_AgERA5_19800126_final-v1.1.nc\n",
      "Copiado: Temperature-Air-2m-Max-24h_C3S-glob-agric_AgERA5_19800116_final-v1.1.nc\n",
      "Copiado: Temperature-Air-2m-Min-24h_C3S-glob-agric_AgERA5_19800115_final-v1.1.nc\n",
      "Copiado: Temperature-Air-2m-Max-24h_C3S-glob-agric_AgERA5_19800131_final-v1.1.nc\n",
      "Copiado: Temperature-Air-2m-Max-24h_C3S-glob-agric_AgERA5_19800121_final-v1.1.nc\n",
      "Copiado: Temperature-Air-2m-Min-24h_C3S-glob-agric_AgERA5_19800118_final-v1.1.nc\n",
      "Copiado: Temperature-Air-2m-Mean-24h_C3S-glob-agric_AgERA5_19800105_final-v1.1.nc\n",
      "Copiado: Temperature-Air-2m-Max-24h_C3S-glob-agric_AgERA5_19800130_final-v1.1.nc\n",
      "Copiado: Temperature-Air-2m-Min-24h_C3S-glob-agric_AgERA5_19800111_final-v1.1.nc\n",
      "Copiado: Temperature-Air-2m-Mean-24h_C3S-glob-agric_AgERA5_19800123_final-v1.1.nc\n",
      "Copiado: Temperature-Air-2m-Max-24h_C3S-glob-agric_AgERA5_19800110_final-v1.1.nc\n",
      "Copiado: Temperature-Air-2m-Max-24h_C3S-glob-agric_AgERA5_19800114_final-v1.1.nc\n",
      "Copiado: Temperature-Air-2m-Min-24h_C3S-glob-agric_AgERA5_19800114_final-v1.1.nc\n",
      "Copiado: Temperature-Air-2m-Max-24h_C3S-glob-agric_AgERA5_19800109_final-v1.1.nc\n",
      "Copiado: Temperature-Air-2m-Min-24h_C3S-glob-agric_AgERA5_19800107_final-v1.1.nc\n",
      "Copiado: Temperature-Air-2m-Min-24h_C3S-glob-agric_AgERA5_19800123_final-v1.1.nc\n",
      "Copiado: Temperature-Air-2m-Mean-24h_C3S-glob-agric_AgERA5_19800106_final-v1.1.nc\n",
      "Copiado: Temperature-Air-2m-Min-24h_C3S-glob-agric_AgERA5_19800124_final-v1.1.nc\n",
      "Copiado: Temperature-Air-2m-Mean-24h_C3S-glob-agric_AgERA5_19800129_final-v1.1.nc\n",
      "Copiado: Temperature-Air-2m-Min-24h_C3S-glob-agric_AgERA5_19800131_final-v1.1.nc\n",
      "Copiado: Temperature-Air-2m-Max-24h_C3S-glob-agric_AgERA5_19800117_final-v1.1.nc\n",
      "Copiado: Temperature-Air-2m-Mean-24h_C3S-glob-agric_AgERA5_19800117_final-v1.1.nc\n",
      "Copiado: Temperature-Air-2m-Min-24h_C3S-glob-agric_AgERA5_19800106_final-v1.1.nc\n",
      "Copiado: Temperature-Air-2m-Min-24h_C3S-glob-agric_AgERA5_19800125_final-v1.1.nc\n",
      "Copiado: Temperature-Air-2m-Min-24h_C3S-glob-agric_AgERA5_19800121_final-v1.1.nc\n",
      "Copiado: Temperature-Air-2m-Min-24h_C3S-glob-agric_AgERA5_19800129_final-v1.1.nc\n",
      "Copiado: Temperature-Air-2m-Max-24h_C3S-glob-agric_AgERA5_19800107_final-v1.1.nc\n",
      "Copiado: Temperature-Air-2m-Mean-24h_C3S-glob-agric_AgERA5_19800107_final-v1.1.nc\n",
      "Copiado: Temperature-Air-2m-Mean-24h_C3S-glob-agric_AgERA5_19800114_final-v1.1.nc\n",
      "Copiado: Temperature-Air-2m-Max-24h_C3S-glob-agric_AgERA5_19800108_final-v1.1.nc\n",
      "Copiado: Temperature-Air-2m-Min-24h_C3S-glob-agric_AgERA5_19800113_final-v1.1.nc\n",
      "Copiado: Temperature-Air-2m-Max-24h_C3S-glob-agric_AgERA5_19800101_final-v1.1.nc\n",
      "Copiado: Temperature-Air-2m-Min-24h_C3S-glob-agric_AgERA5_19800112_final-v1.1.nc\n",
      "Copiado: Temperature-Air-2m-Max-24h_C3S-glob-agric_AgERA5_19800125_final-v1.1.nc\n",
      "Copiado: Temperature-Air-2m-Mean-24h_C3S-glob-agric_AgERA5_19800121_final-v1.1.nc\n",
      "Copiado: Temperature-Air-2m-Max-24h_C3S-glob-agric_AgERA5_19800118_final-v1.1.nc\n",
      "Copiado: Temperature-Air-2m-Min-24h_C3S-glob-agric_AgERA5_19800116_final-v1.1.nc\n",
      "Copiado: Temperature-Air-2m-Mean-24h_C3S-glob-agric_AgERA5_19800130_final-v1.1.nc\n",
      "Copiado: Temperature-Air-2m-Max-24h_C3S-glob-agric_AgERA5_19800128_final-v1.1.nc\n",
      "Copiado: Temperature-Air-2m-Min-24h_C3S-glob-agric_AgERA5_19800108_final-v1.1.nc\n",
      "Copiado: Temperature-Air-2m-Mean-24h_C3S-glob-agric_AgERA5_19800125_final-v1.1.nc\n",
      "Copiado: Temperature-Air-2m-Mean-24h_C3S-glob-agric_AgERA5_19800124_final-v1.1.nc\n",
      "Copiado: Temperature-Air-2m-Max-24h_C3S-glob-agric_AgERA5_19800103_final-v1.1.nc\n",
      "Copiado: Temperature-Air-2m-Min-24h_C3S-glob-agric_AgERA5_19800104_final-v1.1.nc\n",
      "Copiado: Temperature-Air-2m-Mean-24h_C3S-glob-agric_AgERA5_19800112_final-v1.1.nc\n",
      "Copiado: Temperature-Air-2m-Max-24h_C3S-glob-agric_AgERA5_19800123_final-v1.1.nc\n",
      "Copiado: Temperature-Air-2m-Min-24h_C3S-glob-agric_AgERA5_19800117_final-v1.1.nc\n",
      "Copiado: Temperature-Air-2m-Mean-24h_C3S-glob-agric_AgERA5_19800128_final-v1.1.nc\n",
      "Copiado: Temperature-Air-2m-Max-24h_C3S-glob-agric_AgERA5_19800102_final-v1.1.nc\n",
      "Copiado: Temperature-Air-2m-Min-24h_C3S-glob-agric_AgERA5_19800109_final-v1.1.nc\n",
      "Copiado: Temperature-Air-2m-Mean-24h_C3S-glob-agric_AgERA5_19800118_final-v1.1.nc\n",
      "Copiado: Temperature-Air-2m-Mean-24h_C3S-glob-agric_AgERA5_19800110_final-v1.1.nc\n",
      "Copiado: Temperature-Air-2m-Max-24h_C3S-glob-agric_AgERA5_19800106_final-v1.1.nc\n",
      "Copiado: Temperature-Air-2m-Mean-24h_C3S-glob-agric_AgERA5_19800116_final-v1.1.nc\n",
      "Copiado: Temperature-Air-2m-Min-24h_C3S-glob-agric_AgERA5_19800119_final-v1.1.nc\n",
      "Copiado: Temperature-Air-2m-Mean-24h_C3S-glob-agric_AgERA5_19800131_final-v1.1.nc\n",
      "Copiado: Temperature-Air-2m-Min-24h_C3S-glob-agric_AgERA5_19800130_final-v1.1.nc\n",
      "Copiado: Temperature-Air-2m-Min-24h_C3S-glob-agric_AgERA5_19800110_final-v1.1.nc\n",
      "Copiado: Temperature-Air-2m-Max-24h_C3S-glob-agric_AgERA5_19800111_final-v1.1.nc\n",
      "Copiado: Temperature-Air-2m-Mean-24h_C3S-glob-agric_AgERA5_19800111_final-v1.1.nc\n",
      "Copiado: Temperature-Air-2m-Mean-24h_C3S-glob-agric_AgERA5_19800126_final-v1.1.nc\n",
      "Copiado: Temperature-Air-2m-Min-24h_C3S-glob-agric_AgERA5_19800102_final-v1.1.nc\n",
      "Copiado: Temperature-Air-2m-Mean-24h_C3S-glob-agric_AgERA5_19800102_final-v1.1.nc\n",
      "Copiado: Temperature-Air-2m-Min-24h_C3S-glob-agric_AgERA5_19800128_final-v1.1.nc\n",
      "Copiado: Temperature-Air-2m-Mean-24h_C3S-glob-agric_AgERA5_19800109_final-v1.1.nc\n",
      "Copiado: Temperature-Air-2m-Max-24h_C3S-glob-agric_AgERA5_19800119_final-v1.1.nc\n",
      "Copiado: Temperature-Air-2m-Min-24h_C3S-glob-agric_AgERA5_19800101_final-v1.1.nc\n",
      "Copiado: Temperature-Air-2m-Mean-24h_C3S-glob-agric_AgERA5_19800108_final-v1.1.nc\n",
      "Copiado: Temperature-Air-2m-Max-24h_C3S-glob-agric_AgERA5_19800104_final-v1.1.nc\n",
      "Se copiaron 93 archivos a /home/ec2-user/SageMaker/datalake/data/agera/temperature/tmp_test\n"
     ]
    }
   ],
   "source": [
    "# Ejemplo de uso\n",
    "ruta_origen = \"/home/ec2-user/SageMaker/datalake/data/agera/temperature/landing\"\n",
    "ruta_destino = \"/home/ec2-user/SageMaker/datalake/data/agera/temperature/tmp_test\"\n",
    "año = 1980\n",
    "mes = 1  # Enero\n",
    "\n",
    "# python datalake/src/population/pipeline/copy_files_nc.py\n",
    "\n",
    "copiar_archivos_mes(ruta_origen, ruta_destino, año, mes)"
   ]
  },
  {
   "cell_type": "code",
   "execution_count": null,
   "id": "32f3328a-31e2-43b2-9c01-3f67dbc37b0a",
   "metadata": {},
   "outputs": [],
   "source": []
  }
 ],
 "metadata": {
  "kernelspec": {
   "display_name": "conda_pytorch_p310",
   "language": "python",
   "name": "conda_pytorch_p310"
  },
  "language_info": {
   "codemirror_mode": {
    "name": "ipython",
    "version": 3
   },
   "file_extension": ".py",
   "mimetype": "text/x-python",
   "name": "python",
   "nbconvert_exporter": "python",
   "pygments_lexer": "ipython3",
   "version": "3.10.14"
  }
 },
 "nbformat": 4,
 "nbformat_minor": 5
}
