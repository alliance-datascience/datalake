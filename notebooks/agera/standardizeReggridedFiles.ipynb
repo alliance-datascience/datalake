{
 "cells": [
  {
   "cell_type": "code",
   "execution_count": 9,
   "id": "3fd190ea-e741-47f3-adc8-5c8c6785d354",
   "metadata": {
    "tags": []
   },
   "outputs": [],
   "source": [
    "%%capture\n",
    "!pip install xarray[complete] numpy dask-expr"
   ]
  },
  {
   "cell_type": "code",
   "execution_count": 1,
   "id": "2b1f76be-e8b2-46e3-9c80-7ab1a9f21fac",
   "metadata": {
    "tags": []
   },
   "outputs": [],
   "source": [
    "\n",
    "import pandas as pd\n",
    "import xarray as xr\n",
    "import os\n",
    "from dask.diagnostics import ProgressBar\n",
    "from datetime import datetime\n",
    "from dask import dataframe as dd"
   ]
  },
  {
   "cell_type": "code",
   "execution_count": 2,
   "id": "8d57daf5-5ffb-4ca1-aa61-79bce82e1ade",
   "metadata": {
    "tags": []
   },
   "outputs": [],
   "source": [
    "originalFiles = '/home/ec2-user/SageMaker/datalake/notebooks/utils/data/temporal/'\n",
    "outputPath = '/home/ec2-user/SageMaker/datalake/notebooks/utils/data/brozen/'\n",
    "variableName = 'Solar-Radiation-Flux'\n",
    "\n",
    "def netcdfChange(path\n",
    "                 , file\n",
    "                 ,outputPath\n",
    "                 ,variableName: str\n",
    "                ):\n",
    "    dt = file.split('_')[-2]\n",
    "    dt = datetime.strptime(dt,'%Y%m%d')\n",
    "    f = xr.open_dataset(path+file)\n",
    "    f = f.drop_vars(['crs'])\n",
    "    f = f.rename_vars(name_dict = {'Band1':variableName})\n",
    "    #time_da = xr.DataArray({'time': dt})\n",
    "    f = f.assign_coords(time = dt)\n",
    "    f = f.expand_dims(dim=\"time\")\n",
    "    f.to_netcdf(outputPath+file)\n",
    "    \n",
    "    \n",
    "    "
   ]
  },
  {
   "cell_type": "code",
   "execution_count": 3,
   "id": "b3fc720a-628f-48f7-998d-48f46bdbddb8",
   "metadata": {
    "tags": []
   },
   "outputs": [],
   "source": [
    "getFile = os.listdir(originalFiles)\n",
    "filespd= pd.DataFrame(getFile,columns=['file'])\n",
    "filesDD = dd.from_pandas(filespd,npartitions=90)\n"
   ]
  },
  {
   "cell_type": "code",
   "execution_count": 4,
   "id": "a1acd875-77f7-4418-ba6c-df968c43d101",
   "metadata": {
    "tags": []
   },
   "outputs": [
    {
     "name": "stdout",
     "output_type": "stream",
     "text": [
      "[########################################] | 100% Completed | 121.32 s\n"
     ]
    }
   ],
   "source": [
    "with ProgressBar():\n",
    "    filesDD.map_partitions(lambda df:\n",
    "                          df.file.apply(lambda x: netcdfChange(path = originalFiles\n",
    "                                                               ,file = x\n",
    "                                                               ,outputPath=outputPath\n",
    "                                                               ,variableName = variableName\n",
    "                                                              )\n",
    "                                       ),meta= {'name':'object'}\n",
    "                          ).compute(scheduler='processes')"
   ]
  }
 ],
 "metadata": {
  "kernelspec": {
   "display_name": "conda_python3",
   "language": "python",
   "name": "conda_python3"
  },
  "language_info": {
   "codemirror_mode": {
    "name": "ipython",
    "version": 3
   },
   "file_extension": ".py",
   "mimetype": "text/x-python",
   "name": "python",
   "nbconvert_exporter": "python",
   "pygments_lexer": "ipython3",
   "version": "3.10.13"
  }
 },
 "nbformat": 4,
 "nbformat_minor": 5
}
