{
 "cells": [
  {
   "cell_type": "code",
   "execution_count": null,
   "id": "4df1e2a7-d8da-47af-8ab2-01fe215150c1",
   "metadata": {
    "tags": []
   },
   "outputs": [],
   "source": [
    " !pip install rioxarray \"xarray[complete]\" geopandas \n"
   ]
  },
  {
   "cell_type": "code",
   "execution_count": 3,
   "id": "cca629ec-8c78-443a-8482-a76990d40322",
   "metadata": {
    "tags": []
   },
   "outputs": [],
   "source": [
    "import rioxarray as rx\n",
    "import pandas as pd\n",
    "import boto3\n",
    "import xarray as xr\n",
    "import glob\n",
    "import shutil\n",
    "import os\n",
    "import zarr\n",
    "import s3fs\n",
    "import geopandas as gpd\n",
    "from dask.diagnostics import ProgressBar\n",
    "from datetime import datetime\n",
    "import numpy as np\n",
    "from dask import dataframe as dd"
   ]
  },
  {
   "cell_type": "code",
   "execution_count": 4,
   "id": "623884c4-1df4-440e-9c36-bbf8a2a84184",
   "metadata": {
    "tags": []
   },
   "outputs": [],
   "source": [
    "listFiles = np.array(os.listdir('data/'))"
   ]
  },
  {
   "cell_type": "code",
   "execution_count": 7,
   "id": "3f76ecd4-45c0-42b7-84a4-4b965dd15fd8",
   "metadata": {
    "tags": []
   },
   "outputs": [],
   "source": [
    "dateContent = listFiles[0].split('.')"
   ]
  },
  {
   "cell_type": "code",
   "execution_count": 8,
   "id": "f2e04481-53a1-4261-b588-79261dc82351",
   "metadata": {
    "tags": []
   },
   "outputs": [
    {
     "data": {
      "text/plain": [
       "datetime.datetime(1986, 4, 3, 0, 0)"
      ]
     },
     "execution_count": 8,
     "metadata": {},
     "output_type": "execute_result"
    }
   ],
   "source": [
    "datetime(int(dateContent[-4]),int(dateContent[-3]),int(dateContent[-2]))"
   ]
  },
  {
   "cell_type": "code",
   "execution_count": 5,
   "id": "a94d6c79-ac89-4218-9a12-2d8146e61eca",
   "metadata": {
    "tags": []
   },
   "outputs": [],
   "source": [
    "dfFiles = pd.DataFrame()\n",
    "dfFiles['files'] = listFiles"
   ]
  },
  {
   "cell_type": "code",
   "execution_count": 10,
   "id": "377081a9-385e-4c59-90ae-0184b59a7eae",
   "metadata": {
    "tags": []
   },
   "outputs": [],
   "source": [
    "# dfFiles"
   ]
  },
  {
   "cell_type": "code",
   "execution_count": 11,
   "id": "b6e7be8d-5c45-44fb-af01-8cecdbafe684",
   "metadata": {
    "tags": []
   },
   "outputs": [],
   "source": [
    "dfFiles_dd = dd.from_pandas(dfFiles, npartitions =  180)"
   ]
  },
  {
   "cell_type": "code",
   "execution_count": 12,
   "id": "51b13461-1fb2-4da7-9d96-01de58472a37",
   "metadata": {
    "tags": []
   },
   "outputs": [
    {
     "data": {
      "text/html": [
       "<div><strong>Dask DataFrame Structure:</strong></div>\n",
       "<div>\n",
       "<style scoped>\n",
       "    .dataframe tbody tr th:only-of-type {\n",
       "        vertical-align: middle;\n",
       "    }\n",
       "\n",
       "    .dataframe tbody tr th {\n",
       "        vertical-align: top;\n",
       "    }\n",
       "\n",
       "    .dataframe thead th {\n",
       "        text-align: right;\n",
       "    }\n",
       "</style>\n",
       "<table border=\"1\" class=\"dataframe\">\n",
       "  <thead>\n",
       "    <tr style=\"text-align: right;\">\n",
       "      <th></th>\n",
       "      <th>files</th>\n",
       "    </tr>\n",
       "    <tr>\n",
       "      <th>npartitions=180</th>\n",
       "      <th></th>\n",
       "    </tr>\n",
       "  </thead>\n",
       "  <tbody>\n",
       "    <tr>\n",
       "      <th>0</th>\n",
       "      <td>object</td>\n",
       "    </tr>\n",
       "    <tr>\n",
       "      <th>69</th>\n",
       "      <td>...</td>\n",
       "    </tr>\n",
       "    <tr>\n",
       "      <th>...</th>\n",
       "      <td>...</td>\n",
       "    </tr>\n",
       "    <tr>\n",
       "      <th>12351</th>\n",
       "      <td>...</td>\n",
       "    </tr>\n",
       "    <tr>\n",
       "      <th>12418</th>\n",
       "      <td>...</td>\n",
       "    </tr>\n",
       "  </tbody>\n",
       "</table>\n",
       "</div>\n",
       "<div>Dask Name: from_pandas, 1 graph layer</div>"
      ],
      "text/plain": [
       "Dask DataFrame Structure:\n",
       "                  files\n",
       "npartitions=180        \n",
       "0                object\n",
       "69                  ...\n",
       "...                 ...\n",
       "12351               ...\n",
       "12418               ...\n",
       "Dask Name: from_pandas, 1 graph layer"
      ]
     },
     "execution_count": 12,
     "metadata": {},
     "output_type": "execute_result"
    }
   ],
   "source": [
    "dfFiles_dd"
   ]
  },
  {
   "cell_type": "code",
   "execution_count": 14,
   "id": "fe947407-12bc-449c-8e98-de8bca7ec254",
   "metadata": {
    "tags": []
   },
   "outputs": [],
   "source": [
    "def transformCHIRPSToNc(fileList:list):\n",
    "    for f in fileList:\n",
    "        allFiles = xr.open_dataset(f'data/{f}')\n",
    "        date = datetime(int(dateContent[-4]),int(dateContent[-3]),int(dateContent[-2]))\n",
    "        filename = date.strftime('%Y%m%d')\n",
    "        time_da = xr.DataArray({'time': date})\n",
    "        allFiles = allFiles.assign_coords(time = date)\n",
    "        allFiles = allFiles.expand_dims(dim=\"time\")\n",
    "        allFiles = allFiles.rename_vars(name_dict = {'band_data':'precipitation'})\n",
    "        allFiles = allFiles.rename(name_dict   = {'x':'lon','y':'lat'})\n",
    "        allFiles = allFiles.drop('band')\n",
    "        allFiles = allFiles.drop('spatial_ref')\n",
    "        allFiles.to_netcdf(f'data/toZarr/{filename}.nc')\n",
    "def VtransformCHIRTSToNc(f):\n",
    "    allFiles = xr.open_dataset(f'data/{f}')\n",
    "    dateContent = f.split('.')\n",
    "    date = datetime(int(dateContent[-4]),int(dateContent[-3]),int(dateContent[-2]))\n",
    "    filename = date.strftime('%Y%m%d')\n",
    "    time_da = xr.DataArray({'time': date})\n",
    "    allFiles = allFiles.assign_coords(time = date)\n",
    "    allFiles = allFiles.expand_dims(dim=\"time\")\n",
    "    allFiles = allFiles.rename_vars(name_dict = {'band_data':'tmin'})\n",
    "    allFiles = allFiles.rename(name_dict   = {'x':'lon','y':'lat'})\n",
    "    allFiles = allFiles.drop('band')\n",
    "    allFiles = allFiles.drop('spatial_ref')\n",
    "    allFiles.to_netcdf(f'data/toZarr/{filename}.nc')"
   ]
  },
  {
   "cell_type": "code",
   "execution_count": 17,
   "id": "302867c7-3981-439b-b294-d01586d77bad",
   "metadata": {
    "tags": []
   },
   "outputs": [],
   "source": [
    "vectorized_function = np.vectorize(VtransformCHIRPSToNc)"
   ]
  },
  {
   "cell_type": "code",
   "execution_count": null,
   "id": "14203c72-e353-4b8e-8bef-8f0b2a18afa8",
   "metadata": {
    "tags": []
   },
   "outputs": [
    {
     "name": "stdout",
     "output_type": "stream",
     "text": [
      "[#####################                   ] | 53% Completed | 11hr 45m"
     ]
    }
   ],
   "source": [
    "with ProgressBar():\n",
    "    _col = {'name': object}\n",
    "    dfFiles_dd.map_partitions(lambda df: \n",
    "                              df.files.apply(lambda x: VtransformCHIRTSToNc(x))\n",
    "                             ,meta = _col ).compute(scheduler='processes')"
   ]
  },
  {
   "cell_type": "code",
   "execution_count": 18,
   "id": "4b13198d-af08-45da-8bb7-5c9a5b4f30d0",
   "metadata": {
    "tags": []
   },
   "outputs": [],
   "source": [
    "sample =  xr.open_dataset('data/toZarr/20020206.nc')"
   ]
  },
  {
   "cell_type": "code",
   "execution_count": null,
   "id": "4c5867c7-9bb0-4ce1-8954-c9ae6eaeaf19",
   "metadata": {
    "tags": []
   },
   "outputs": [],
   "source": [
    "print(\"finalice\")"
   ]
  },
  {
   "cell_type": "code",
   "execution_count": 34,
   "id": "e6b19131-5328-4e36-9596-ffb0d8eea9a3",
   "metadata": {
    "tags": []
   },
   "outputs": [],
   "source": [
    "listFilesReady = np.array(os.listdir('data/toZarr/'))"
   ]
  },
  {
   "cell_type": "code",
   "execution_count": 41,
   "id": "81d24b9b-aaac-4ce7-9aa3-e33addfbfdb9",
   "metadata": {
    "tags": []
   },
   "outputs": [],
   "source": [
    "dfFiles = pd.DataFrame()\n",
    "dfFiles['files'] = listFiles"
   ]
  },
  {
   "cell_type": "code",
   "execution_count": 44,
   "id": "8ad9934a-9a43-4487-bb17-8e1978a5dd91",
   "metadata": {
    "tags": []
   },
   "outputs": [
    {
     "data": {
      "text/html": [
       "<div>\n",
       "<style scoped>\n",
       "    .dataframe tbody tr th:only-of-type {\n",
       "        vertical-align: middle;\n",
       "    }\n",
       "\n",
       "    .dataframe tbody tr th {\n",
       "        vertical-align: top;\n",
       "    }\n",
       "\n",
       "    .dataframe thead th {\n",
       "        text-align: right;\n",
       "    }\n",
       "</style>\n",
       "<table border=\"1\" class=\"dataframe\">\n",
       "  <thead>\n",
       "    <tr style=\"text-align: right;\">\n",
       "      <th></th>\n",
       "      <th>files</th>\n",
       "    </tr>\n",
       "  </thead>\n",
       "  <tbody>\n",
       "    <tr>\n",
       "      <th>0</th>\n",
       "      <td>chirps-v2.0.2004.04.11.tif</td>\n",
       "    </tr>\n",
       "    <tr>\n",
       "      <th>1</th>\n",
       "      <td>chirps-v2.0.2012.03.23.tif</td>\n",
       "    </tr>\n",
       "    <tr>\n",
       "      <th>2</th>\n",
       "      <td>chirps-v2.0.1981.05.21.tif</td>\n",
       "    </tr>\n",
       "    <tr>\n",
       "      <th>3</th>\n",
       "      <td>chirps-v2.0.1993.07.16.tif</td>\n",
       "    </tr>\n",
       "    <tr>\n",
       "      <th>4</th>\n",
       "      <td>chirps-v2.0.2016.01.31.tif</td>\n",
       "    </tr>\n",
       "    <tr>\n",
       "      <th>...</th>\n",
       "      <td>...</td>\n",
       "    </tr>\n",
       "    <tr>\n",
       "      <th>15517</th>\n",
       "      <td>chirps-v2.0.1995.12.16.tif</td>\n",
       "    </tr>\n",
       "    <tr>\n",
       "      <th>15518</th>\n",
       "      <td>chirps-v2.0.2018.12.03.tif</td>\n",
       "    </tr>\n",
       "    <tr>\n",
       "      <th>15519</th>\n",
       "      <td>chirps-v2.0.1987.05.09.tif</td>\n",
       "    </tr>\n",
       "    <tr>\n",
       "      <th>15520</th>\n",
       "      <td>chirps-v2.0.2013.10.01.tif</td>\n",
       "    </tr>\n",
       "    <tr>\n",
       "      <th>15521</th>\n",
       "      <td>chirps-v2.0.1997.02.15.tif</td>\n",
       "    </tr>\n",
       "  </tbody>\n",
       "</table>\n",
       "<p>15522 rows × 1 columns</p>\n",
       "</div>"
      ],
      "text/plain": [
       "                            files\n",
       "0      chirps-v2.0.2004.04.11.tif\n",
       "1      chirps-v2.0.2012.03.23.tif\n",
       "2      chirps-v2.0.1981.05.21.tif\n",
       "3      chirps-v2.0.1993.07.16.tif\n",
       "4      chirps-v2.0.2016.01.31.tif\n",
       "...                           ...\n",
       "15517  chirps-v2.0.1995.12.16.tif\n",
       "15518  chirps-v2.0.2018.12.03.tif\n",
       "15519  chirps-v2.0.1987.05.09.tif\n",
       "15520  chirps-v2.0.2013.10.01.tif\n",
       "15521  chirps-v2.0.1997.02.15.tif\n",
       "\n",
       "[15522 rows x 1 columns]"
      ]
     },
     "execution_count": 44,
     "metadata": {},
     "output_type": "execute_result"
    }
   ],
   "source": [
    "dfFiles"
   ]
  },
  {
   "cell_type": "code",
   "execution_count": 69,
   "id": "4bef9314-b6ae-4729-a159-e99ba132b2c5",
   "metadata": {
    "tags": []
   },
   "outputs": [],
   "source": [
    "dfFiles = dfFiles[~dfFiles.files.str.contains('toZarr')]\n",
    "dfFiles['dateStr'] = dfFiles['files'].apply(lambda x: datetime(int(x.split('.')[-4]),\n",
    "                                                               int(x.split('.')[-3]),\n",
    "                                                               int(x.split('.')[-2]))\n",
    "                                                              )\n",
    "dfFiles['dateStr'] = dfFiles['dateStr'].apply(lambda x : x.strftime('%Y%m%d'))\n",
    "dfProcessed = pd.DataFrame()\n",
    "dfProcessed['files']  = listFilesReady\n",
    "dfProcessed['filesStr'] =  dfProcessed['files'].apply(lambda x: x.split('.')[0])\n",
    "dfFiles[~dfFiles.dateStr.isin(dfProcessed['filesStr'].to_numpy())]\n",
    "dfFiles = dfFiles\n"
   ]
  },
  {
   "cell_type": "code",
   "execution_count": 66,
   "id": "2e1175b8-733c-47a6-bc23-15e82dbdde9d",
   "metadata": {
    "tags": []
   },
   "outputs": [
    {
     "ename": "AttributeError",
     "evalue": "'numpy.ndarray' object has no attribute 'split'",
     "output_type": "error",
     "traceback": [
      "\u001b[0;31m---------------------------------------------------------------------------\u001b[0m",
      "\u001b[0;31mAttributeError\u001b[0m                            Traceback (most recent call last)",
      "Cell \u001b[0;32mIn[66], line 1\u001b[0m\n\u001b[0;32m----> 1\u001b[0m \u001b[43mlistFilesReady\u001b[49m\u001b[38;5;241;43m.\u001b[39;49m\u001b[43msplit\u001b[49m(\u001b[38;5;124m'\u001b[39m\u001b[38;5;124m.\u001b[39m\u001b[38;5;124m'\u001b[39m)\n",
      "\u001b[0;31mAttributeError\u001b[0m: 'numpy.ndarray' object has no attribute 'split'"
     ]
    }
   ],
   "source": []
  },
  {
   "cell_type": "code",
   "execution_count": 36,
   "id": "6c1319c9-2dcc-4443-8022-1ecb1ce11733",
   "metadata": {
    "tags": []
   },
   "outputs": [
    {
     "data": {
      "text/plain": [
       "'19991110'"
      ]
     },
     "execution_count": 36,
     "metadata": {},
     "output_type": "execute_result"
    }
   ],
   "source": [
    "listFilesReady[0].split('.')[0]"
   ]
  },
  {
   "cell_type": "code",
   "execution_count": null,
   "id": "53ce7492-4226-4419-99e7-eae080f967d6",
   "metadata": {
    "tags": []
   },
   "outputs": [],
   "source": [
    "print('He finalizado la conversion')"
   ]
  },
  {
   "cell_type": "code",
   "execution_count": 25,
   "id": "86b7f8a3-2163-4ddd-99a0-8de0042bf880",
   "metadata": {
    "tags": []
   },
   "outputs": [],
   "source": [
    "allFiles = allFiles.rename_vars(name_dict = {'band_data':'precipitation'})"
   ]
  },
  {
   "cell_type": "code",
   "execution_count": 28,
   "id": "78e3d4fe-45ac-4bfa-8228-d905687c32dd",
   "metadata": {
    "tags": []
   },
   "outputs": [],
   "source": [
    "allFiles = allFiles.rename(name_dict   = {'x':'lon','y':'lat'})"
   ]
  },
  {
   "cell_type": "code",
   "execution_count": 30,
   "id": "1df22771-8274-4257-9856-4b252f82d37b",
   "metadata": {
    "tags": []
   },
   "outputs": [],
   "source": [
    "allFiles = allFiles.drop('band')"
   ]
  },
  {
   "cell_type": "code",
   "execution_count": 32,
   "id": "289594d1-58ae-489d-a2b5-56088325c4d9",
   "metadata": {
    "tags": []
   },
   "outputs": [],
   "source": [
    "allFiles = allFiles.drop('spatial_ref')"
   ]
  },
  {
   "cell_type": "code",
   "execution_count": 35,
   "id": "83422321-4747-4d08-be7e-dadbcb01d3a1",
   "metadata": {
    "tags": []
   },
   "outputs": [],
   "source": [
    "allFiles.to_netcdf('sample.nc')"
   ]
  },
  {
   "cell_type": "code",
   "execution_count": 36,
   "id": "a34d013d-4823-487a-b3cd-4bd238e2741f",
   "metadata": {
    "tags": []
   },
   "outputs": [],
   "source": [
    "test = xr.open_dataset('sample.nc')"
   ]
  },
  {
   "cell_type": "code",
   "execution_count": 37,
   "id": "2fab1616-7224-4b74-a267-4fb1fc2d31a6",
   "metadata": {
    "tags": []
   },
   "outputs": [
    {
     "data": {
      "text/html": [
       "<div><svg style=\"position: absolute; width: 0; height: 0; overflow: hidden\">\n",
       "<defs>\n",
       "<symbol id=\"icon-database\" viewBox=\"0 0 32 32\">\n",
       "<path d=\"M16 0c-8.837 0-16 2.239-16 5v4c0 2.761 7.163 5 16 5s16-2.239 16-5v-4c0-2.761-7.163-5-16-5z\"></path>\n",
       "<path d=\"M16 17c-8.837 0-16-2.239-16-5v6c0 2.761 7.163 5 16 5s16-2.239 16-5v-6c0 2.761-7.163 5-16 5z\"></path>\n",
       "<path d=\"M16 26c-8.837 0-16-2.239-16-5v6c0 2.761 7.163 5 16 5s16-2.239 16-5v-6c0 2.761-7.163 5-16 5z\"></path>\n",
       "</symbol>\n",
       "<symbol id=\"icon-file-text2\" viewBox=\"0 0 32 32\">\n",
       "<path d=\"M28.681 7.159c-0.694-0.947-1.662-2.053-2.724-3.116s-2.169-2.030-3.116-2.724c-1.612-1.182-2.393-1.319-2.841-1.319h-15.5c-1.378 0-2.5 1.121-2.5 2.5v27c0 1.378 1.122 2.5 2.5 2.5h23c1.378 0 2.5-1.122 2.5-2.5v-19.5c0-0.448-0.137-1.23-1.319-2.841zM24.543 5.457c0.959 0.959 1.712 1.825 2.268 2.543h-4.811v-4.811c0.718 0.556 1.584 1.309 2.543 2.268zM28 29.5c0 0.271-0.229 0.5-0.5 0.5h-23c-0.271 0-0.5-0.229-0.5-0.5v-27c0-0.271 0.229-0.5 0.5-0.5 0 0 15.499-0 15.5 0v7c0 0.552 0.448 1 1 1h7v19.5z\"></path>\n",
       "<path d=\"M23 26h-14c-0.552 0-1-0.448-1-1s0.448-1 1-1h14c0.552 0 1 0.448 1 1s-0.448 1-1 1z\"></path>\n",
       "<path d=\"M23 22h-14c-0.552 0-1-0.448-1-1s0.448-1 1-1h14c0.552 0 1 0.448 1 1s-0.448 1-1 1z\"></path>\n",
       "<path d=\"M23 18h-14c-0.552 0-1-0.448-1-1s0.448-1 1-1h14c0.552 0 1 0.448 1 1s-0.448 1-1 1z\"></path>\n",
       "</symbol>\n",
       "</defs>\n",
       "</svg>\n",
       "<style>/* CSS stylesheet for displaying xarray objects in jupyterlab.\n",
       " *\n",
       " */\n",
       "\n",
       ":root {\n",
       "  --xr-font-color0: var(--jp-content-font-color0, rgba(0, 0, 0, 1));\n",
       "  --xr-font-color2: var(--jp-content-font-color2, rgba(0, 0, 0, 0.54));\n",
       "  --xr-font-color3: var(--jp-content-font-color3, rgba(0, 0, 0, 0.38));\n",
       "  --xr-border-color: var(--jp-border-color2, #e0e0e0);\n",
       "  --xr-disabled-color: var(--jp-layout-color3, #bdbdbd);\n",
       "  --xr-background-color: var(--jp-layout-color0, white);\n",
       "  --xr-background-color-row-even: var(--jp-layout-color1, white);\n",
       "  --xr-background-color-row-odd: var(--jp-layout-color2, #eeeeee);\n",
       "}\n",
       "\n",
       "html[theme=dark],\n",
       "body[data-theme=dark],\n",
       "body.vscode-dark {\n",
       "  --xr-font-color0: rgba(255, 255, 255, 1);\n",
       "  --xr-font-color2: rgba(255, 255, 255, 0.54);\n",
       "  --xr-font-color3: rgba(255, 255, 255, 0.38);\n",
       "  --xr-border-color: #1F1F1F;\n",
       "  --xr-disabled-color: #515151;\n",
       "  --xr-background-color: #111111;\n",
       "  --xr-background-color-row-even: #111111;\n",
       "  --xr-background-color-row-odd: #313131;\n",
       "}\n",
       "\n",
       ".xr-wrap {\n",
       "  display: block !important;\n",
       "  min-width: 300px;\n",
       "  max-width: 700px;\n",
       "}\n",
       "\n",
       ".xr-text-repr-fallback {\n",
       "  /* fallback to plain text repr when CSS is not injected (untrusted notebook) */\n",
       "  display: none;\n",
       "}\n",
       "\n",
       ".xr-header {\n",
       "  padding-top: 6px;\n",
       "  padding-bottom: 6px;\n",
       "  margin-bottom: 4px;\n",
       "  border-bottom: solid 1px var(--xr-border-color);\n",
       "}\n",
       "\n",
       ".xr-header > div,\n",
       ".xr-header > ul {\n",
       "  display: inline;\n",
       "  margin-top: 0;\n",
       "  margin-bottom: 0;\n",
       "}\n",
       "\n",
       ".xr-obj-type,\n",
       ".xr-array-name {\n",
       "  margin-left: 2px;\n",
       "  margin-right: 10px;\n",
       "}\n",
       "\n",
       ".xr-obj-type {\n",
       "  color: var(--xr-font-color2);\n",
       "}\n",
       "\n",
       ".xr-sections {\n",
       "  padding-left: 0 !important;\n",
       "  display: grid;\n",
       "  grid-template-columns: 150px auto auto 1fr 20px 20px;\n",
       "}\n",
       "\n",
       ".xr-section-item {\n",
       "  display: contents;\n",
       "}\n",
       "\n",
       ".xr-section-item input {\n",
       "  display: none;\n",
       "}\n",
       "\n",
       ".xr-section-item input + label {\n",
       "  color: var(--xr-disabled-color);\n",
       "}\n",
       "\n",
       ".xr-section-item input:enabled + label {\n",
       "  cursor: pointer;\n",
       "  color: var(--xr-font-color2);\n",
       "}\n",
       "\n",
       ".xr-section-item input:enabled + label:hover {\n",
       "  color: var(--xr-font-color0);\n",
       "}\n",
       "\n",
       ".xr-section-summary {\n",
       "  grid-column: 1;\n",
       "  color: var(--xr-font-color2);\n",
       "  font-weight: 500;\n",
       "}\n",
       "\n",
       ".xr-section-summary > span {\n",
       "  display: inline-block;\n",
       "  padding-left: 0.5em;\n",
       "}\n",
       "\n",
       ".xr-section-summary-in:disabled + label {\n",
       "  color: var(--xr-font-color2);\n",
       "}\n",
       "\n",
       ".xr-section-summary-in + label:before {\n",
       "  display: inline-block;\n",
       "  content: '►';\n",
       "  font-size: 11px;\n",
       "  width: 15px;\n",
       "  text-align: center;\n",
       "}\n",
       "\n",
       ".xr-section-summary-in:disabled + label:before {\n",
       "  color: var(--xr-disabled-color);\n",
       "}\n",
       "\n",
       ".xr-section-summary-in:checked + label:before {\n",
       "  content: '▼';\n",
       "}\n",
       "\n",
       ".xr-section-summary-in:checked + label > span {\n",
       "  display: none;\n",
       "}\n",
       "\n",
       ".xr-section-summary,\n",
       ".xr-section-inline-details {\n",
       "  padding-top: 4px;\n",
       "  padding-bottom: 4px;\n",
       "}\n",
       "\n",
       ".xr-section-inline-details {\n",
       "  grid-column: 2 / -1;\n",
       "}\n",
       "\n",
       ".xr-section-details {\n",
       "  display: none;\n",
       "  grid-column: 1 / -1;\n",
       "  margin-bottom: 5px;\n",
       "}\n",
       "\n",
       ".xr-section-summary-in:checked ~ .xr-section-details {\n",
       "  display: contents;\n",
       "}\n",
       "\n",
       ".xr-array-wrap {\n",
       "  grid-column: 1 / -1;\n",
       "  display: grid;\n",
       "  grid-template-columns: 20px auto;\n",
       "}\n",
       "\n",
       ".xr-array-wrap > label {\n",
       "  grid-column: 1;\n",
       "  vertical-align: top;\n",
       "}\n",
       "\n",
       ".xr-preview {\n",
       "  color: var(--xr-font-color3);\n",
       "}\n",
       "\n",
       ".xr-array-preview,\n",
       ".xr-array-data {\n",
       "  padding: 0 5px !important;\n",
       "  grid-column: 2;\n",
       "}\n",
       "\n",
       ".xr-array-data,\n",
       ".xr-array-in:checked ~ .xr-array-preview {\n",
       "  display: none;\n",
       "}\n",
       "\n",
       ".xr-array-in:checked ~ .xr-array-data,\n",
       ".xr-array-preview {\n",
       "  display: inline-block;\n",
       "}\n",
       "\n",
       ".xr-dim-list {\n",
       "  display: inline-block !important;\n",
       "  list-style: none;\n",
       "  padding: 0 !important;\n",
       "  margin: 0;\n",
       "}\n",
       "\n",
       ".xr-dim-list li {\n",
       "  display: inline-block;\n",
       "  padding: 0;\n",
       "  margin: 0;\n",
       "}\n",
       "\n",
       ".xr-dim-list:before {\n",
       "  content: '(';\n",
       "}\n",
       "\n",
       ".xr-dim-list:after {\n",
       "  content: ')';\n",
       "}\n",
       "\n",
       ".xr-dim-list li:not(:last-child):after {\n",
       "  content: ',';\n",
       "  padding-right: 5px;\n",
       "}\n",
       "\n",
       ".xr-has-index {\n",
       "  font-weight: bold;\n",
       "}\n",
       "\n",
       ".xr-var-list,\n",
       ".xr-var-item {\n",
       "  display: contents;\n",
       "}\n",
       "\n",
       ".xr-var-item > div,\n",
       ".xr-var-item label,\n",
       ".xr-var-item > .xr-var-name span {\n",
       "  background-color: var(--xr-background-color-row-even);\n",
       "  margin-bottom: 0;\n",
       "}\n",
       "\n",
       ".xr-var-item > .xr-var-name:hover span {\n",
       "  padding-right: 5px;\n",
       "}\n",
       "\n",
       ".xr-var-list > li:nth-child(odd) > div,\n",
       ".xr-var-list > li:nth-child(odd) > label,\n",
       ".xr-var-list > li:nth-child(odd) > .xr-var-name span {\n",
       "  background-color: var(--xr-background-color-row-odd);\n",
       "}\n",
       "\n",
       ".xr-var-name {\n",
       "  grid-column: 1;\n",
       "}\n",
       "\n",
       ".xr-var-dims {\n",
       "  grid-column: 2;\n",
       "}\n",
       "\n",
       ".xr-var-dtype {\n",
       "  grid-column: 3;\n",
       "  text-align: right;\n",
       "  color: var(--xr-font-color2);\n",
       "}\n",
       "\n",
       ".xr-var-preview {\n",
       "  grid-column: 4;\n",
       "}\n",
       "\n",
       ".xr-index-preview {\n",
       "  grid-column: 2 / 5;\n",
       "  color: var(--xr-font-color2);\n",
       "}\n",
       "\n",
       ".xr-var-name,\n",
       ".xr-var-dims,\n",
       ".xr-var-dtype,\n",
       ".xr-preview,\n",
       ".xr-attrs dt {\n",
       "  white-space: nowrap;\n",
       "  overflow: hidden;\n",
       "  text-overflow: ellipsis;\n",
       "  padding-right: 10px;\n",
       "}\n",
       "\n",
       ".xr-var-name:hover,\n",
       ".xr-var-dims:hover,\n",
       ".xr-var-dtype:hover,\n",
       ".xr-attrs dt:hover {\n",
       "  overflow: visible;\n",
       "  width: auto;\n",
       "  z-index: 1;\n",
       "}\n",
       "\n",
       ".xr-var-attrs,\n",
       ".xr-var-data,\n",
       ".xr-index-data {\n",
       "  display: none;\n",
       "  background-color: var(--xr-background-color) !important;\n",
       "  padding-bottom: 5px !important;\n",
       "}\n",
       "\n",
       ".xr-var-attrs-in:checked ~ .xr-var-attrs,\n",
       ".xr-var-data-in:checked ~ .xr-var-data,\n",
       ".xr-index-data-in:checked ~ .xr-index-data {\n",
       "  display: block;\n",
       "}\n",
       "\n",
       ".xr-var-data > table {\n",
       "  float: right;\n",
       "}\n",
       "\n",
       ".xr-var-name span,\n",
       ".xr-var-data,\n",
       ".xr-index-name div,\n",
       ".xr-index-data,\n",
       ".xr-attrs {\n",
       "  padding-left: 25px !important;\n",
       "}\n",
       "\n",
       ".xr-attrs,\n",
       ".xr-var-attrs,\n",
       ".xr-var-data,\n",
       ".xr-index-data {\n",
       "  grid-column: 1 / -1;\n",
       "}\n",
       "\n",
       "dl.xr-attrs {\n",
       "  padding: 0;\n",
       "  margin: 0;\n",
       "  display: grid;\n",
       "  grid-template-columns: 125px auto;\n",
       "}\n",
       "\n",
       ".xr-attrs dt,\n",
       ".xr-attrs dd {\n",
       "  padding: 0;\n",
       "  margin: 0;\n",
       "  float: left;\n",
       "  padding-right: 10px;\n",
       "  width: auto;\n",
       "}\n",
       "\n",
       ".xr-attrs dt {\n",
       "  font-weight: normal;\n",
       "  grid-column: 1;\n",
       "}\n",
       "\n",
       ".xr-attrs dt:hover span {\n",
       "  display: inline-block;\n",
       "  background: var(--xr-background-color);\n",
       "  padding-right: 10px;\n",
       "}\n",
       "\n",
       ".xr-attrs dd {\n",
       "  grid-column: 2;\n",
       "  white-space: pre-wrap;\n",
       "  word-break: break-all;\n",
       "}\n",
       "\n",
       ".xr-icon-database,\n",
       ".xr-icon-file-text2,\n",
       ".xr-no-icon {\n",
       "  display: inline-block;\n",
       "  vertical-align: middle;\n",
       "  width: 1em;\n",
       "  height: 1.5em !important;\n",
       "  stroke-width: 0;\n",
       "  stroke: currentColor;\n",
       "  fill: currentColor;\n",
       "}\n",
       "</style><pre class='xr-text-repr-fallback'>&lt;xarray.Dataset&gt;\n",
       "Dimensions:        (lon: 7200, lat: 2000, time: 1, band: 1)\n",
       "Coordinates:\n",
       "  * lon            (lon) float64 -180.0 -179.9 -179.9 ... 179.9 179.9 180.0\n",
       "  * lat            (lat) float64 49.97 49.92 49.87 ... -49.88 -49.93 -49.98\n",
       "  * time           (time) datetime64[ns] 1985-01-17\n",
       "Dimensions without coordinates: band\n",
       "Data variables:\n",
       "    precipitation  (time, band, lat, lon) float32 ...</pre><div class='xr-wrap' style='display:none'><div class='xr-header'><div class='xr-obj-type'>xarray.Dataset</div></div><ul class='xr-sections'><li class='xr-section-item'><input id='section-fecfa375-6315-427f-81f4-c9e3a815f60f' class='xr-section-summary-in' type='checkbox' disabled ><label for='section-fecfa375-6315-427f-81f4-c9e3a815f60f' class='xr-section-summary'  title='Expand/collapse section'>Dimensions:</label><div class='xr-section-inline-details'><ul class='xr-dim-list'><li><span class='xr-has-index'>lon</span>: 7200</li><li><span class='xr-has-index'>lat</span>: 2000</li><li><span class='xr-has-index'>time</span>: 1</li><li><span>band</span>: 1</li></ul></div><div class='xr-section-details'></div></li><li class='xr-section-item'><input id='section-7d354070-73c1-488e-af04-404bbb7f1f83' class='xr-section-summary-in' type='checkbox'  checked><label for='section-7d354070-73c1-488e-af04-404bbb7f1f83' class='xr-section-summary' >Coordinates: <span>(3)</span></label><div class='xr-section-inline-details'></div><div class='xr-section-details'><ul class='xr-var-list'><li class='xr-var-item'><div class='xr-var-name'><span class='xr-has-index'>lon</span></div><div class='xr-var-dims'>(lon)</div><div class='xr-var-dtype'>float64</div><div class='xr-var-preview xr-preview'>-180.0 -179.9 ... 179.9 180.0</div><input id='attrs-f6db7515-9a03-4de4-8713-59f4358bfed9' class='xr-var-attrs-in' type='checkbox' disabled><label for='attrs-f6db7515-9a03-4de4-8713-59f4358bfed9' title='Show/Hide attributes'><svg class='icon xr-icon-file-text2'><use xlink:href='#icon-file-text2'></use></svg></label><input id='data-0efa377e-2c12-411b-b518-dfd8615f08bd' class='xr-var-data-in' type='checkbox'><label for='data-0efa377e-2c12-411b-b518-dfd8615f08bd' title='Show/Hide data repr'><svg class='icon xr-icon-database'><use xlink:href='#icon-database'></use></svg></label><div class='xr-var-attrs'><dl class='xr-attrs'></dl></div><div class='xr-var-data'><pre>array([-179.975   , -179.925   , -179.875   , ...,  179.875005,  179.925005,\n",
       "        179.975005])</pre></div></li><li class='xr-var-item'><div class='xr-var-name'><span class='xr-has-index'>lat</span></div><div class='xr-var-dims'>(lat)</div><div class='xr-var-dtype'>float64</div><div class='xr-var-preview xr-preview'>49.97 49.92 49.87 ... -49.93 -49.98</div><input id='attrs-b819d342-f9df-4545-84b8-d35971e14e91' class='xr-var-attrs-in' type='checkbox' disabled><label for='attrs-b819d342-f9df-4545-84b8-d35971e14e91' title='Show/Hide attributes'><svg class='icon xr-icon-file-text2'><use xlink:href='#icon-file-text2'></use></svg></label><input id='data-5344ae63-b57a-45ff-89a0-db8c741b6748' class='xr-var-data-in' type='checkbox'><label for='data-5344ae63-b57a-45ff-89a0-db8c741b6748' title='Show/Hide data repr'><svg class='icon xr-icon-database'><use xlink:href='#icon-database'></use></svg></label><div class='xr-var-attrs'><dl class='xr-attrs'></dl></div><div class='xr-var-data'><pre>array([ 49.975   ,  49.925   ,  49.875   , ..., -49.875001, -49.925001,\n",
       "       -49.975001])</pre></div></li><li class='xr-var-item'><div class='xr-var-name'><span class='xr-has-index'>time</span></div><div class='xr-var-dims'>(time)</div><div class='xr-var-dtype'>datetime64[ns]</div><div class='xr-var-preview xr-preview'>1985-01-17</div><input id='attrs-d1131723-6353-4112-8984-c3b648434048' class='xr-var-attrs-in' type='checkbox' disabled><label for='attrs-d1131723-6353-4112-8984-c3b648434048' title='Show/Hide attributes'><svg class='icon xr-icon-file-text2'><use xlink:href='#icon-file-text2'></use></svg></label><input id='data-ec77c8e5-8db0-4fbe-8ebe-c127d65fb002' class='xr-var-data-in' type='checkbox'><label for='data-ec77c8e5-8db0-4fbe-8ebe-c127d65fb002' title='Show/Hide data repr'><svg class='icon xr-icon-database'><use xlink:href='#icon-database'></use></svg></label><div class='xr-var-attrs'><dl class='xr-attrs'></dl></div><div class='xr-var-data'><pre>array([&#x27;1985-01-17T00:00:00.000000000&#x27;], dtype=&#x27;datetime64[ns]&#x27;)</pre></div></li></ul></div></li><li class='xr-section-item'><input id='section-b686e86f-17b1-4948-b9de-44d9f4f9982b' class='xr-section-summary-in' type='checkbox'  checked><label for='section-b686e86f-17b1-4948-b9de-44d9f4f9982b' class='xr-section-summary' >Data variables: <span>(1)</span></label><div class='xr-section-inline-details'></div><div class='xr-section-details'><ul class='xr-var-list'><li class='xr-var-item'><div class='xr-var-name'><span>precipitation</span></div><div class='xr-var-dims'>(time, band, lat, lon)</div><div class='xr-var-dtype'>float32</div><div class='xr-var-preview xr-preview'>...</div><input id='attrs-62fa259c-9e66-4d41-9878-c8083b9009cf' class='xr-var-attrs-in' type='checkbox' ><label for='attrs-62fa259c-9e66-4d41-9878-c8083b9009cf' title='Show/Hide attributes'><svg class='icon xr-icon-file-text2'><use xlink:href='#icon-file-text2'></use></svg></label><input id='data-4ff118cb-00e1-4713-9db9-cdbc2926c7a7' class='xr-var-data-in' type='checkbox'><label for='data-4ff118cb-00e1-4713-9db9-cdbc2926c7a7' title='Show/Hide data repr'><svg class='icon xr-icon-database'><use xlink:href='#icon-database'></use></svg></label><div class='xr-var-attrs'><dl class='xr-attrs'><dt><span>AREA_OR_POINT :</span></dt><dd>Area</dd><dt><span>TIFFTAG_DATETIME :</span></dt><dd>2015:09:02 05:30:12</dd><dt><span>TIFFTAG_DOCUMENTNAME :</span></dt><dd>/home/sandbox/chirps/v2.0/daily_downscaled_by_monthly/global_full_rescale_again/01mm/1985/chirps-v2.0.1985.01.17.tif</dd><dt><span>TIFFTAG_IMAGEDESCRIPTION :</span></dt><dd>IDL TIFF file</dd><dt><span>TIFFTAG_RESOLUTIONUNIT :</span></dt><dd>2 (pixels/inch)</dd><dt><span>TIFFTAG_SOFTWARE :</span></dt><dd>IDL 8.5, Exelis Visual Information Solutions, Inc., a subsidiary of Harris Corporation.</dd><dt><span>TIFFTAG_XRESOLUTION :</span></dt><dd>100</dd><dt><span>TIFFTAG_YRESOLUTION :</span></dt><dd>100</dd><dt><span>grid_mapping :</span></dt><dd>spatial_ref</dd></dl></div><div class='xr-var-data'><pre>[14400000 values with dtype=float32]</pre></div></li></ul></div></li><li class='xr-section-item'><input id='section-84d0b4ee-a90e-4c05-ac0e-b1e99c25dd2b' class='xr-section-summary-in' type='checkbox'  ><label for='section-84d0b4ee-a90e-4c05-ac0e-b1e99c25dd2b' class='xr-section-summary' >Indexes: <span>(3)</span></label><div class='xr-section-inline-details'></div><div class='xr-section-details'><ul class='xr-var-list'><li class='xr-var-item'><div class='xr-index-name'><div>lon</div></div><div class='xr-index-preview'>PandasIndex</div><div></div><input id='index-579b4ad8-5a6f-421a-9b8f-181ec0294545' class='xr-index-data-in' type='checkbox'/><label for='index-579b4ad8-5a6f-421a-9b8f-181ec0294545' title='Show/Hide index repr'><svg class='icon xr-icon-database'><use xlink:href='#icon-database'></use></svg></label><div class='xr-index-data'><pre>PandasIndex(Index([-179.97499999962747,  -179.9249999988824, -179.87499999813735,\n",
       "        -179.8249999973923, -179.77499999664724, -179.72499999590218,\n",
       "       -179.67499999515712, -179.62499999441206,   -179.574999993667,\n",
       "       -179.52499999292195,\n",
       "       ...\n",
       "        179.52500535733998,  179.57500535808504,   179.6250053588301,\n",
       "        179.67500535957515,   179.7250053603202,  179.77500536106527,\n",
       "        179.82500536181033,  179.87500536255538,  179.92500536330044,\n",
       "         179.9750053640455],\n",
       "      dtype=&#x27;float64&#x27;, name=&#x27;lon&#x27;, length=7200))</pre></div></li><li class='xr-var-item'><div class='xr-index-name'><div>lat</div></div><div class='xr-index-preview'>PandasIndex</div><div></div><input id='index-384961d6-0d85-4f4e-8308-c2bd66bff592' class='xr-index-data-in' type='checkbox'/><label for='index-384961d6-0d85-4f4e-8308-c2bd66bff592' title='Show/Hide index repr'><svg class='icon xr-icon-database'><use xlink:href='#icon-database'></use></svg></label><div class='xr-index-data'><pre>PandasIndex(Index([  49.97499999962747,   49.92499999888241,  49.874999998137355,\n",
       "          49.8249999973923,   49.77499999664724,   49.72499999590218,\n",
       "         49.67499999515712,  49.624999994412065,   49.57499999366701,\n",
       "         49.52499999292195,\n",
       "       ...\n",
       "        -49.52500148303807, -49.575001483783126, -49.625001484528184,\n",
       "        -49.67500148527324,   -49.7250014860183,  -49.77500148676336,\n",
       "       -49.825001487508416, -49.875001488253474,  -49.92500148899853,\n",
       "        -49.97500148974359],\n",
       "      dtype=&#x27;float64&#x27;, name=&#x27;lat&#x27;, length=2000))</pre></div></li><li class='xr-var-item'><div class='xr-index-name'><div>time</div></div><div class='xr-index-preview'>PandasIndex</div><div></div><input id='index-6bada946-9b8f-4f5e-a0d1-3e1814c185c7' class='xr-index-data-in' type='checkbox'/><label for='index-6bada946-9b8f-4f5e-a0d1-3e1814c185c7' title='Show/Hide index repr'><svg class='icon xr-icon-database'><use xlink:href='#icon-database'></use></svg></label><div class='xr-index-data'><pre>PandasIndex(DatetimeIndex([&#x27;1985-01-17&#x27;], dtype=&#x27;datetime64[ns]&#x27;, name=&#x27;time&#x27;, freq=None))</pre></div></li></ul></div></li><li class='xr-section-item'><input id='section-5d35dc60-36d4-4940-9cfb-5b2e75e52757' class='xr-section-summary-in' type='checkbox' disabled ><label for='section-5d35dc60-36d4-4940-9cfb-5b2e75e52757' class='xr-section-summary'  title='Expand/collapse section'>Attributes: <span>(0)</span></label><div class='xr-section-inline-details'></div><div class='xr-section-details'><dl class='xr-attrs'></dl></div></li></ul></div></div>"
      ],
      "text/plain": [
       "<xarray.Dataset>\n",
       "Dimensions:        (lon: 7200, lat: 2000, time: 1, band: 1)\n",
       "Coordinates:\n",
       "  * lon            (lon) float64 -180.0 -179.9 -179.9 ... 179.9 179.9 180.0\n",
       "  * lat            (lat) float64 49.97 49.92 49.87 ... -49.88 -49.93 -49.98\n",
       "  * time           (time) datetime64[ns] 1985-01-17\n",
       "Dimensions without coordinates: band\n",
       "Data variables:\n",
       "    precipitation  (time, band, lat, lon) float32 ..."
      ]
     },
     "execution_count": 37,
     "metadata": {},
     "output_type": "execute_result"
    }
   ],
   "source": [
    "test"
   ]
  },
  {
   "cell_type": "code",
   "execution_count": 8,
   "id": "626f32ac-a1de-4e4c-a1cb-cdb4d2e85441",
   "metadata": {
    "tags": []
   },
   "outputs": [
    {
     "name": "stdout",
     "output_type": "stream",
     "text": [
      "band_data\n"
     ]
    }
   ],
   "source": [
    "for i in allFiles.data_vars:\n",
    "    print(i)"
   ]
  },
  {
   "cell_type": "code",
   "execution_count": 3,
   "id": "8c3eefcb-d0e0-44f1-b63b-3b91ec5f4bbd",
   "metadata": {
    "tags": []
   },
   "outputs": [],
   "source": [
    "pathS3 = \"s3://climate-action-datalake/zone=raw/source=agera5\"\n",
    "localPath = 'data/*.nc'"
   ]
  },
  {
   "cell_type": "code",
   "execution_count": 4,
   "id": "62ebd39b-71f1-4164-86fe-798a1d353e63",
   "metadata": {
    "tags": []
   },
   "outputs": [],
   "source": [
    "def convertRadiation(k):\n",
    "    c = k/1000000\n",
    "    return c"
   ]
  },
  {
   "cell_type": "code",
   "execution_count": 5,
   "id": "edd7d96c-5f63-437f-b645-29308c0a886f",
   "metadata": {
    "tags": []
   },
   "outputs": [],
   "source": [
    "allFiles = xr.open_mfdataset(localPath,parallel=True)"
   ]
  },
  {
   "cell_type": "code",
   "execution_count": 6,
   "id": "2f3a56f1-edc9-47f0-b1b5-059fac13f95b",
   "metadata": {
    "tags": []
   },
   "outputs": [
    {
     "name": "stdout",
     "output_type": "stream",
     "text": [
      "Hola mundo\n"
     ]
    }
   ],
   "source": [
    "print('Hola mundo')"
   ]
  },
  {
   "cell_type": "code",
   "execution_count": 7,
   "id": "551ad518-2985-493d-bdb6-5554d18905ff",
   "metadata": {
    "tags": []
   },
   "outputs": [],
   "source": [
    "allFiles = allFiles.apply(convertRadiation)"
   ]
  },
  {
   "cell_type": "code",
   "execution_count": 19,
   "id": "8698e010-fa4f-49cc-b53c-a3981b66b295",
   "metadata": {
    "tags": []
   },
   "outputs": [],
   "source": [
    "compressor = zarr.Blosc(cname='zstd')\n",
    "encoding = {vname: {'compressor': compressor,'chunks': (1,1801,3600)} for vname in allFiles.data_vars}\n"
   ]
  },
  {
   "cell_type": "code",
   "execution_count": 20,
   "id": "2839578f-c3e0-4ea4-b5e1-5afb7f18f172",
   "metadata": {
    "tags": []
   },
   "outputs": [],
   "source": [
    "s3 = s3fs.S3FileSystem()\n",
    "store = s3fs.S3Map(root=\"s3://climate-action-datalake/zone=raw/source=agera5/variable=solarRadiationFlux.zarr\", s3=s3, check=False)"
   ]
  },
  {
   "cell_type": "code",
   "execution_count": 21,
   "id": "3899fc5e-5a58-41c7-9bf7-6803a8f209b3",
   "metadata": {
    "tags": []
   },
   "outputs": [
    {
     "name": "stdout",
     "output_type": "stream",
     "text": [
      "[########################################] | 100% Completed | 50m 8ss\n"
     ]
    }
   ],
   "source": [
    "with ProgressBar():\n",
    "    result = allFiles.to_zarr(store=store, encoding=encoding, consolidated=True)"
   ]
  },
  {
   "cell_type": "code",
   "execution_count": 22,
   "id": "dbae9c74-d82f-493e-abf5-0b4967d5e323",
   "metadata": {
    "tags": []
   },
   "outputs": [
    {
     "name": "stdout",
     "output_type": "stream",
     "text": [
      "He finalizado\n"
     ]
    }
   ],
   "source": [
    "print(\"He finalizado\")"
   ]
  }
 ],
 "metadata": {
  "kernelspec": {
   "display_name": "conda_python3",
   "language": "python",
   "name": "conda_python3"
  },
  "language_info": {
   "codemirror_mode": {
    "name": "ipython",
    "version": 3
   },
   "file_extension": ".py",
   "mimetype": "text/x-python",
   "name": "python",
   "nbconvert_exporter": "python",
   "pygments_lexer": "ipython3",
   "version": "3.10.13"
  }
 },
 "nbformat": 4,
 "nbformat_minor": 5
}
