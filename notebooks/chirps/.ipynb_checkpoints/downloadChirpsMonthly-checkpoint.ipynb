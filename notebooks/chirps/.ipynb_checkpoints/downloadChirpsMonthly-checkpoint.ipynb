{
 "cells": [
  {
   "cell_type": "code",
   "execution_count": 5,
   "id": "be96d40c",
   "metadata": {
    "tags": []
   },
   "outputs": [],
   "source": [
    "import os\n",
    "import requests\n",
    "import boto3\n",
    "from datetime import datetime, timedelta\n",
    "import pandas as pd"
   ]
  },
  {
   "cell_type": "code",
   "execution_count": 19,
   "id": "c0ce0a9e-eccf-4bac-8b9a-9996cb3c03d0",
   "metadata": {
    "tags": []
   },
   "outputs": [],
   "source": [
    "twoMonthsDate = (datetime.now()-timedelta(days=60))\n",
    "year = [int(twoMonthsDate.strftime('%Y'))]\n",
    "month = [int(twoMonthsDate.strftime('%m'))]"
   ]
  },
  {
   "cell_type": "code",
   "execution_count": 20,
   "id": "2758afa3",
   "metadata": {
    "tags": []
   },
   "outputs": [],
   "source": [
    "# input_path = \"/home/ec2-user/data\"\n",
    "bucket = \"climate-action-datalake\"\n",
    "\n",
    "s3_client = boto3.client('s3')"
   ]
  },
  {
   "cell_type": "code",
   "execution_count": 21,
   "id": "ba5db43a",
   "metadata": {
    "tags": []
   },
   "outputs": [],
   "source": [
    "\n",
    "variable_name = [\"precipitation\"]\n",
    "url = \"https://data.chc.ucsb.edu/products/CHIRPS-2.0/global_daily/tifs/p05\"\n",
    "days=range(1,32)\n",
    "arrUrl = []\n",
    "fileFormat = \"tif.gz\""
   ]
  },
  {
   "cell_type": "code",
   "execution_count": 24,
   "id": "8f792f9d",
   "metadata": {
    "tags": []
   },
   "outputs": [],
   "source": [
    "def generate_chirts_URL(years\n",
    "                         , months\n",
    "                         ,days\n",
    "                         ,variables,url\n",
    "                         ,fileFormat):\n",
    "    _arrUrl = []\n",
    "    for _variable in variables:\n",
    "        for _year in years:\n",
    "            for _month in months:\n",
    "                for _day in days:\n",
    "                    _arrUrl.append(url+\"/\"+str(_year)+\"/\"\n",
    "                                   +f\"chirps-v2.0.{_year}.{_month:02d}.{_day:02d}.{fileFormat}\")\n",
    "    return _arrUrl\n",
    "\n",
    "def download_data(arrUrl,s3_directory,zone,source,variable):\n",
    "    for _url in arrUrl:\n",
    "        response = requests.get(_url)\n",
    "        if response.status_code == 200 :\n",
    "            file_path = os.path.basename(_url)\n",
    "#             with open(file_path, 'wb') as file:\n",
    "#                 for chunk in response.iter_content(chunk_size=1024):\n",
    "#                     if chunk:\n",
    "#                         file.write(chunk)\n",
    "            s3_client.put_object(Bucket=bucket\n",
    "                                 ,Key=f\"zone={zone}/source={source}/variable={variable}/\"+file_path\n",
    "                                 ,Body=response.content\n",
    "                                )\n",
    "            print(file_path)\n",
    "\n",
    "        else:\n",
    "            print(\"NOk\")\n"
   ]
  },
  {
   "cell_type": "code",
   "execution_count": 25,
   "id": "b57dc136",
   "metadata": {
    "tags": []
   },
   "outputs": [],
   "source": [
    "arrUrl = generate_chirts_URL(year,month,days,variable_name,url,fileFormat)"
   ]
  },
  {
   "cell_type": "code",
   "execution_count": 26,
   "id": "635bc8f0",
   "metadata": {
    "scrolled": true,
    "tags": []
   },
   "outputs": [
    {
     "name": "stdout",
     "output_type": "stream",
     "text": [
      "chirps-v2.0.2024.01.01.tif.gz\n",
      "chirps-v2.0.2024.01.02.tif.gz\n",
      "chirps-v2.0.2024.01.03.tif.gz\n",
      "chirps-v2.0.2024.01.04.tif.gz\n",
      "chirps-v2.0.2024.01.05.tif.gz\n",
      "chirps-v2.0.2024.01.06.tif.gz\n",
      "chirps-v2.0.2024.01.07.tif.gz\n",
      "chirps-v2.0.2024.01.08.tif.gz\n",
      "chirps-v2.0.2024.01.09.tif.gz\n",
      "chirps-v2.0.2024.01.10.tif.gz\n",
      "chirps-v2.0.2024.01.11.tif.gz\n",
      "chirps-v2.0.2024.01.12.tif.gz\n",
      "chirps-v2.0.2024.01.13.tif.gz\n",
      "chirps-v2.0.2024.01.14.tif.gz\n",
      "chirps-v2.0.2024.01.15.tif.gz\n",
      "chirps-v2.0.2024.01.16.tif.gz\n",
      "chirps-v2.0.2024.01.17.tif.gz\n",
      "chirps-v2.0.2024.01.18.tif.gz\n",
      "chirps-v2.0.2024.01.19.tif.gz\n",
      "chirps-v2.0.2024.01.20.tif.gz\n",
      "chirps-v2.0.2024.01.21.tif.gz\n",
      "chirps-v2.0.2024.01.22.tif.gz\n",
      "chirps-v2.0.2024.01.23.tif.gz\n",
      "chirps-v2.0.2024.01.24.tif.gz\n",
      "chirps-v2.0.2024.01.25.tif.gz\n",
      "chirps-v2.0.2024.01.26.tif.gz\n",
      "chirps-v2.0.2024.01.27.tif.gz\n",
      "chirps-v2.0.2024.01.28.tif.gz\n",
      "chirps-v2.0.2024.01.29.tif.gz\n",
      "chirps-v2.0.2024.01.30.tif.gz\n",
      "chirps-v2.0.2024.01.31.tif.gz\n"
     ]
    }
   ],
   "source": [
    "\n",
    "download_data(arrUrl,bucket,\"landing\",\"CHIRPS\",\"precipitation\")"
   ]
  }
 ],
 "metadata": {
  "kernelspec": {
   "display_name": "conda_pytorch_p310",
   "language": "python",
   "name": "conda_pytorch_p310"
  },
  "language_info": {
   "codemirror_mode": {
    "name": "ipython",
    "version": 3
   },
   "file_extension": ".py",
   "mimetype": "text/x-python",
   "name": "python",
   "nbconvert_exporter": "python",
   "pygments_lexer": "ipython3",
   "version": "3.10.13"
  }
 },
 "nbformat": 4,
 "nbformat_minor": 5
}
