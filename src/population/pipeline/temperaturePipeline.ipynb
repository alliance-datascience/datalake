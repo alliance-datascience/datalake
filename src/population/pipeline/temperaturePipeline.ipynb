{
 "cells": [
  {
   "cell_type": "code",
   "execution_count": 1,
   "id": "db56ecbc-9e98-4e0e-8183-ead7f79c58bc",
   "metadata": {
    "tags": []
   },
   "outputs": [],
   "source": [
    "%%capture\n",
    "!pip install luigi"
   ]
  },
  {
   "cell_type": "code",
   "execution_count": 8,
   "id": "3ace4efb-f1f6-4c12-84c3-c6a4f47769e9",
   "metadata": {
    "tags": []
   },
   "outputs": [],
   "source": [
    "import sys\n",
    "import luigi\n",
    "import os\n",
    "#os.environ[\"SRC_CODE\"] = \"/home/ec2-user/SageMaker/datalake/src/\"\n",
    "srcPath = os.environ[\"SRC_CODE\"]\n",
    "sys.path.append(srcPath)\n",
    "from population.miscellanius import S3utilities"
   ]
  },
  {
   "cell_type": "code",
   "execution_count": 2,
   "id": "ff050649-23c4-4a2c-8ce8-50ba5d8cea3b",
   "metadata": {
    "tags": []
   },
   "outputs": [
    {
     "name": "stdout",
     "output_type": "stream",
     "text": [
      "Help on package population.miscellanius in population:\n",
      "\n",
      "NAME\n",
      "    population.miscellanius\n",
      "\n",
      "PACKAGE CONTENTS\n",
      "    S3utilities\n",
      "\n",
      "FILE\n",
      "    /home/ec2-user/SageMaker/datalake/src/population/miscellanius/__init__.py\n",
      "\n",
      "\n"
     ]
    }
   ],
   "source": [
    "help(miscellanius)"
   ]
  },
  {
   "cell_type": "code",
   "execution_count": null,
   "id": "5d6d1891-a144-440b-8553-358ede6f1823",
   "metadata": {},
   "outputs": [],
   "source": [
    "\"\"\"\n",
    "        self.confType = confType\n",
    "        self.year = year\n",
    "        self.month = month\n",
    "\n",
    "\"\"\"\n",
    "class downloadDataFromS3(luigi.Task):\n",
    "    confType = luigi.Parameterd()\n",
    "    year = luigi.Parameter()\n",
    "    month = luigi.Parameter()\n",
    "    \n",
    "    def run(self):\n",
    "        S3utilities\n",
    "        S3utilities.downloadDataFromS3Filtered(\n",
    "            self.confType,\n",
    "            self.year,\n",
    "            self.month\n",
    "        )\n",
    "\n",
    "if __name__ == \"__main__\":\n",
    "    luigi.build([downloadDataFromS3(confType=\"agera5ArgumentsSolarFlux\",\n",
    "                                    year=2024,\n",
    "                                    month=\"01\")])"
   ]
  },
  {
   "cell_type": "code",
   "execution_count": 9,
   "id": "653fd4a0-36de-4972-9b91-cb9d1b42092d",
   "metadata": {
    "tags": []
   },
   "outputs": [
    {
     "name": "stdout",
     "output_type": "stream",
     "text": [
      "Help on module population.miscellanius.S3utilities in population.miscellanius:\n",
      "\n",
      "NAME\n",
      "    population.miscellanius.S3utilities\n",
      "\n",
      "CLASSES\n",
      "    builtins.object\n",
      "        S3Operations\n",
      "    \n",
      "    class S3Operations(builtins.object)\n",
      "     |  S3Operations(confType, year, month)\n",
      "     |  \n",
      "     |  Methods defined here:\n",
      "     |  \n",
      "     |  __init__(self, confType, year, month)\n",
      "     |      Initialize self.  See help(type(self)) for accurate signature.\n",
      "     |  \n",
      "     |  downloadDataFromS3Filtered(s3Path: str, downloadPath: str, file: str, year: str, month: str)\n",
      "     |  \n",
      "     |  ----------------------------------------------------------------------\n",
      "     |  Data descriptors defined here:\n",
      "     |  \n",
      "     |  __dict__\n",
      "     |      dictionary for instance variables (if defined)\n",
      "     |  \n",
      "     |  __weakref__\n",
      "     |      list of weak references to the object (if defined)\n",
      "\n",
      "FILE\n",
      "    /home/ec2-user/SageMaker/datalake/src/population/miscellanius/S3utilities.py\n",
      "\n",
      "\n"
     ]
    }
   ],
   "source": [
    "help(S3utilities)"
   ]
  },
  {
   "cell_type": "code",
   "execution_count": 10,
   "id": "7e0cc48a-6c91-43bc-a538-d8529ad14d23",
   "metadata": {
    "tags": []
   },
   "outputs": [
    {
     "name": "stdout",
     "output_type": "stream",
     "text": [
      "Help on function build in module luigi.interface:\n",
      "\n",
      "build(tasks, worker_scheduler_factory=None, detailed_summary=False, **env_params)\n",
      "    Run internally, bypassing the cmdline parsing.\n",
      "    \n",
      "    Useful if you have some luigi code that you want to run internally.\n",
      "    Example:\n",
      "    \n",
      "    .. code-block:: python\n",
      "    \n",
      "        luigi.build([MyTask1(), MyTask2()], local_scheduler=True)\n",
      "    \n",
      "    One notable difference is that `build` defaults to not using\n",
      "    the identical process lock. Otherwise, `build` would only be\n",
      "    callable once from each process.\n",
      "    \n",
      "    :param tasks:\n",
      "    :param worker_scheduler_factory:\n",
      "    :param env_params:\n",
      "    :return: True if there were no scheduling errors, even if tasks may fail.\n",
      "\n"
     ]
    }
   ],
   "source": [
    "help(luigi.build)"
   ]
  }
 ],
 "metadata": {
  "kernelspec": {
   "display_name": "conda_python3",
   "language": "python",
   "name": "conda_python3"
  },
  "language_info": {
   "codemirror_mode": {
    "name": "ipython",
    "version": 3
   },
   "file_extension": ".py",
   "mimetype": "text/x-python",
   "name": "python",
   "nbconvert_exporter": "python",
   "pygments_lexer": "ipython3",
   "version": "3.10.14"
  }
 },
 "nbformat": 4,
 "nbformat_minor": 5
}
