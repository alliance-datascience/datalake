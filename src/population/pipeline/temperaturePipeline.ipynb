{
 "cells": [
  {
   "cell_type": "code",
   "execution_count": 1,
   "id": "db56ecbc-9e98-4e0e-8183-ead7f79c58bc",
   "metadata": {
    "tags": []
   },
   "outputs": [],
   "source": [
    "%%capture\n",
    "!pip install luigi pyyaml"
   ]
  },
  {
   "cell_type": "code",
   "execution_count": 2,
   "id": "4288d22d-ed99-4543-b669-6b20c29f4a9e",
   "metadata": {
    "tags": []
   },
   "outputs": [],
   "source": [
    "%%capture\n",
    "!pip install \"xarray[complete]\"==2023.8.0 s3fs --user"
   ]
  },
  {
   "cell_type": "code",
   "execution_count": 3,
   "id": "9930db9c-8dcc-4ee6-b91c-95796b3589ed",
   "metadata": {
    "tags": []
   },
   "outputs": [],
   "source": [
    "import os\n",
    "import re\n",
    "import glob\n",
    "import xarray as xr\n",
    "import matplotlib.pyplot as plt\n",
    "%matplotlib inline"
   ]
  },
  {
   "cell_type": "code",
   "execution_count": 4,
   "id": "840e54fb-fc1c-4d7b-bdc6-ccdb21632cde",
   "metadata": {},
   "outputs": [],
   "source": [
    "landing_path = \"/home/ec2-user/SageMaker/datalake/data/agera/temperature/brozen/\"\n",
    "output_path = \"/home/ec2-user/SageMaker/datalake/data/agera/temperature/convert\"\n",
    "filename = \"Temperature-Air-2m-Max-24h_C3S-glob-agric_AgERA5_19790101_final-v1.0.nc\"\n",
    "var_name = \"Temperature_Air_2m_Max_24h\""
   ]
  },
  {
   "cell_type": "code",
   "execution_count": 5,
   "id": "5e5c61f1-2b0c-44af-b24a-11b08c8d39ae",
   "metadata": {
    "tags": []
   },
   "outputs": [],
   "source": [
    "file_path = os.path.join(landing_path, filename)\n",
    "ds = xr.open_dataset(file_path)"
   ]
  },
  {
   "cell_type": "code",
   "execution_count": 6,
   "id": "7f962b32-b00e-4708-9326-3e2810e97f2c",
   "metadata": {
    "tags": []
   },
   "outputs": [],
   "source": [
    "def kelvin_to_celsius(temp_k):\n",
    "    return temp_k - 273.15"
   ]
  },
  {
   "cell_type": "code",
   "execution_count": 8,
   "id": "14e74a58-a380-41a2-b872-eb8be9c2d897",
   "metadata": {
    "tags": []
   },
   "outputs": [],
   "source": [
    "temp_var = ds[var_name]\n",
    "temp_celsius = kelvin_to_celsius(temp_var.where(temp_var.notnull(), drop=True))\n",
    "ds[var_name] = temp_celsius\n",
    "ds.to_netcdf(os.path.join(output_path, filename))\n",
    "ds.close()"
   ]
  },
  {
   "cell_type": "markdown",
   "id": "2365b353-a75a-44c0-a72b-fa0c147b4aa4",
   "metadata": {},
   "source": [
    "## Proceso masivo"
   ]
  },
  {
   "cell_type": "code",
   "execution_count": null,
   "id": "030db2c7-09ea-48ec-9f52-6f62f10bfa21",
   "metadata": {},
   "outputs": [],
   "source": [
    "def kelvin_to_celsius(temp_k):\n",
    "    return temp_k - 273.15\n",
    "\n",
    "def process_temperature_file(landing_path, filename, output_path,var_name):\n",
    "    file_path = os.path.join(landing_path, filename)\n",
    "    ds = xr.open_dataset(file_path)\n",
    "    temp_var = ds[var_name]\n",
    "    # Kelvin a Celsius\n",
    "    #temp_celsius = kelvin_to_celsius(temp_var.where(temp_var.notnull(), drop=True)) # Excluir NAs\n",
    "    temp_celsius = kelvin_to_celsius(temp_var.where(temp_var.notnull())) # No aplica conversión a los NAs\n",
    "    ds[var_name] = temp_celsius\n",
    "    output_file_path = os.path.join(output_path, filename)\n",
    "    ds.to_netcdf(output_file_path)\n",
    "    ds.close()"
   ]
  },
  {
   "cell_type": "code",
   "execution_count": 10,
   "id": "981f09c4-9fc3-4fb6-b8bd-3e60e302f58f",
   "metadata": {},
   "outputs": [
    {
     "name": "stdout",
     "output_type": "stream",
     "text": [
      "Archivos encontrados: 16436\n",
      "Primeros 5 archivos:\n",
      "/home/ec2-user/SageMaker/datalake/data/agera/temperature/brozen/Temperature-Air-2m-Max-24h_C3S-glob-agric_AgERA5_19951005_final-v1.0.nc\n",
      "/home/ec2-user/SageMaker/datalake/data/agera/temperature/brozen/Temperature-Air-2m-Max-24h_C3S-glob-agric_AgERA5_20020425_final-v1.0.nc\n",
      "/home/ec2-user/SageMaker/datalake/data/agera/temperature/brozen/Temperature-Air-2m-Max-24h_C3S-glob-agric_AgERA5_20171121_final-v1.0.nc\n",
      "/home/ec2-user/SageMaker/datalake/data/agera/temperature/brozen/Temperature-Air-2m-Max-24h_C3S-glob-agric_AgERA5_19960402_final-v1.0.nc\n",
      "/home/ec2-user/SageMaker/datalake/data/agera/temperature/brozen/Temperature-Air-2m-Max-24h_C3S-glob-agric_AgERA5_20011119_final-v1.0.nc\n"
     ]
    }
   ],
   "source": [
    "# Temperatura Max\n",
    "pattern = re.compile(r'.*-Max-.*\\.nc$')\n",
    "all_files = glob.glob(f\"{landing_path}/*\")\n",
    "matching_files = [file for file in all_files if pattern.match(file)]\n",
    "\n",
    "print(f\"Archivos encontrados: {len(matching_files)}\")\n",
    "for file in matching_files[:5]:\n",
    "    print(file)"
   ]
  },
  {
   "cell_type": "code",
   "execution_count": null,
   "id": "8aab09aa-8f73-4523-9781-e7c42406e9a5",
   "metadata": {},
   "outputs": [],
   "source": [
    "def process_all_files(input_files, output_folder):\n",
    "    for file in input_files:\n",
    "        output_file = os.path.join(output_folder, os.path.basename(file))\n",
    "        print(f\"Procesando: {file}\")\n",
    "        process_temperature_file(file, output_file)\n",
    "    print(\"Procesamiento completado.\")"
   ]
  },
  {
   "cell_type": "code",
   "execution_count": null,
   "id": "21268d66-14a4-4225-8c1b-d2fd1ea55498",
   "metadata": {},
   "outputs": [],
   "source": [
    "process_all_files(matching_files, output_folder)"
   ]
  },
  {
   "cell_type": "code",
   "execution_count": null,
   "id": "5fabface-f3c8-4e87-9db7-e947ae1c1102",
   "metadata": {},
   "outputs": [],
   "source": [
    "# Validation\n",
    "processed_files = glob.glob(f\"{output_folder}/*.nc\")\n",
    "print(f\"Archivos procesados: {len(processed_files)}\")\n",
    "print(\"Primeros 5 archivos procesados:\")\n",
    "for file in processed_files[:5]:\n",
    "    print(file)"
   ]
  },
  {
   "cell_type": "code",
   "execution_count": null,
   "id": "27037e56-087d-46e7-9a64-f3e7edd966a4",
   "metadata": {},
   "outputs": [],
   "source": [
    "# Comparar un archivo original con uno procesado\n",
    "if matching_files and processed_files:\n",
    "    original = xr.open_dataset(matching_files[0])\n",
    "    processed = xr.open_dataset(processed_files[0])\n",
    "    plt.figure(figsize=(12, 6))\n",
    "    plt.subplot(1, 2, 1)\n",
    "    original['temperature'].isel(time=0).plot()\n",
    "    plt.title(\"Original (Kelvin)\")\n",
    "    plt.subplot(1, 2, 2)\n",
    "    processed['temperature'].isel(time=0).plot()\n",
    "    plt.title(\"Procesado (Celsius)\")\n",
    "    plt.tight_layout()\n",
    "    plt.show()\n",
    "    original.close()\n",
    "    processed.close()"
   ]
  },
  {
   "cell_type": "code",
   "execution_count": null,
   "id": "f8c55d4b-8a8e-4fb5-8276-6269cdc68d51",
   "metadata": {},
   "outputs": [],
   "source": []
  },
  {
   "cell_type": "code",
   "execution_count": null,
   "id": "94f785df-ac41-4109-a971-fcde9f186990",
   "metadata": {},
   "outputs": [],
   "source": []
  },
  {
   "cell_type": "code",
   "execution_count": null,
   "id": "3ace4efb-f1f6-4c12-84c3-c6a4f47769e9",
   "metadata": {
    "tags": []
   },
   "outputs": [],
   "source": [
    "import os\n",
    "import sys\n",
    "import luigi\n",
    "#os.environ[\"SRC_CODE\"] = \"/home/ec2-user/SageMaker/datalake/src/\"\n",
    "#srcPath = os.environ[\"SRC_CODE\"]\n",
    "srcPath = os.environ.get(\"SRC_CODE\", \"/home/ec2-user/SageMaker/datalake/src/\")\n",
    "sys.path.append(srcPath)\n",
    "from population.miscellanius import S3utilities"
   ]
  },
  {
   "cell_type": "code",
   "execution_count": null,
   "id": "5d6d1891-a144-440b-8553-358ede6f1823",
   "metadata": {},
   "outputs": [],
   "source": [
    "\"\"\"\n",
    "        self.confType = confType\n",
    "        self.year = year\n",
    "        self.month = month\n",
    "\n",
    "\"\"\"\n",
    "class downloadDataFromS3(luigi.Task):\n",
    "    confType = luigi.Parameterd()\n",
    "    year = luigi.Parameter()\n",
    "    month = luigi.Parameter()\n",
    "    \n",
    "    def run(self):\n",
    "        S3utilities\n",
    "        S3utilities.downloadDataFromS3Filtered(\n",
    "            self.confType,\n",
    "            self.year,\n",
    "            self.month\n",
    "        )\n",
    "\n",
    "if __name__ == \"__main__\":\n",
    "    luigi.build([downloadDataFromS3(confType=\"agera5ArgumentsSolarFlux\",\n",
    "                                    year=2024,\n",
    "                                    month=\"01\")])"
   ]
  },
  {
   "cell_type": "code",
   "execution_count": null,
   "id": "653fd4a0-36de-4972-9b91-cb9d1b42092d",
   "metadata": {
    "tags": []
   },
   "outputs": [],
   "source": [
    "help(S3utilities)"
   ]
  },
  {
   "cell_type": "code",
   "execution_count": null,
   "id": "7e0cc48a-6c91-43bc-a538-d8529ad14d23",
   "metadata": {
    "tags": []
   },
   "outputs": [],
   "source": [
    "help(luigi.build)"
   ]
  }
 ],
 "metadata": {
  "kernelspec": {
   "display_name": "conda_python3",
   "language": "python",
   "name": "conda_python3"
  },
  "language_info": {
   "codemirror_mode": {
    "name": "ipython",
    "version": 3
   },
   "file_extension": ".py",
   "mimetype": "text/x-python",
   "name": "python",
   "nbconvert_exporter": "python",
   "pygments_lexer": "ipython3",
   "version": "3.10.14"
  }
 },
 "nbformat": 4,
 "nbformat_minor": 5
}
